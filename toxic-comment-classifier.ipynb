{
 "cells": [
  {
   "cell_type": "markdown",
   "metadata": {},
   "source": [
    "#### Pakkar"
   ]
  },
  {
   "cell_type": "code",
   "execution_count": 53,
   "metadata": {},
   "outputs": [],
   "source": [
    "import numpy as np\n",
    "import pandas as pd\n",
    "from sklearn.feature_extraction import stop_words\n",
    "import string\n",
    "from keras.preprocessing import text, sequence\n",
    "from sklearn.model_selection import train_test_split\n",
    "from tensorflow.python.keras.models import Sequential\n",
    "from tensorflow.python.keras.layers import Dense, Activation, Dropout\n",
    "from tensorflow.python.keras.optimizers import Adadelta\n",
    "# # %tensorflow_version 1.x\n",
    "# import tensorflow\n",
    "# print(tensorflow.__version__)\n",
    "import tensorflow as tf"
   ]
  },
  {
   "cell_type": "code",
   "execution_count": 54,
   "metadata": {},
   "outputs": [],
   "source": [
    "tf.compat.v1.disable_eager_execution()"
   ]
  },
  {
   "cell_type": "markdown",
   "metadata": {},
   "source": [
    "#### Innlestur gagna"
   ]
  },
  {
   "cell_type": "code",
   "execution_count": 5,
   "metadata": {},
   "outputs": [],
   "source": [
    "train_data = pd.read_csv('data/train.csv',delimiter=',')\n",
    "\n",
    "test_data = pd.read_csv('data/test.csv',delimiter=',')\n"
   ]
  },
  {
   "cell_type": "markdown",
   "metadata": {},
   "source": [
    "### Gagnasettið\n",
    "Hér má sjá gagnasettið sem við þjálfum módelið á. Við erum með comment_text og hann er búið að greina (0 eða 1) hvort hann sé toxic, severe_toxic, obscene, threat, insult eða identity_hate."
   ]
  },
  {
   "cell_type": "code",
   "execution_count": 28,
   "metadata": {},
   "outputs": [
    {
     "data": {
      "text/html": [
       "<div>\n",
       "<style scoped>\n",
       "    .dataframe tbody tr th:only-of-type {\n",
       "        vertical-align: middle;\n",
       "    }\n",
       "\n",
       "    .dataframe tbody tr th {\n",
       "        vertical-align: top;\n",
       "    }\n",
       "\n",
       "    .dataframe thead th {\n",
       "        text-align: right;\n",
       "    }\n",
       "</style>\n",
       "<table border=\"1\" class=\"dataframe\">\n",
       "  <thead>\n",
       "    <tr style=\"text-align: right;\">\n",
       "      <th></th>\n",
       "      <th>id</th>\n",
       "      <th>comment_text</th>\n",
       "      <th>toxic</th>\n",
       "      <th>severe_toxic</th>\n",
       "      <th>obscene</th>\n",
       "      <th>threat</th>\n",
       "      <th>insult</th>\n",
       "      <th>identity_hate</th>\n",
       "    </tr>\n",
       "  </thead>\n",
       "  <tbody>\n",
       "    <tr>\n",
       "      <th>0</th>\n",
       "      <td>0000997932d777bf</td>\n",
       "      <td>explanation\\nwhy the edits made under my usern...</td>\n",
       "      <td>0</td>\n",
       "      <td>0</td>\n",
       "      <td>0</td>\n",
       "      <td>0</td>\n",
       "      <td>0</td>\n",
       "      <td>0</td>\n",
       "    </tr>\n",
       "    <tr>\n",
       "      <th>1</th>\n",
       "      <td>000103f0d9cfb60f</td>\n",
       "      <td>daww he matches this background colour im seem...</td>\n",
       "      <td>0</td>\n",
       "      <td>0</td>\n",
       "      <td>0</td>\n",
       "      <td>0</td>\n",
       "      <td>0</td>\n",
       "      <td>0</td>\n",
       "    </tr>\n",
       "    <tr>\n",
       "      <th>2</th>\n",
       "      <td>000113f07ec002fd</td>\n",
       "      <td>hey man im really not trying to edit war its j...</td>\n",
       "      <td>0</td>\n",
       "      <td>0</td>\n",
       "      <td>0</td>\n",
       "      <td>0</td>\n",
       "      <td>0</td>\n",
       "      <td>0</td>\n",
       "    </tr>\n",
       "    <tr>\n",
       "      <th>3</th>\n",
       "      <td>0001b41b1c6bb37e</td>\n",
       "      <td>\\nmore\\ni cant make any real suggestions on im...</td>\n",
       "      <td>0</td>\n",
       "      <td>0</td>\n",
       "      <td>0</td>\n",
       "      <td>0</td>\n",
       "      <td>0</td>\n",
       "      <td>0</td>\n",
       "    </tr>\n",
       "    <tr>\n",
       "      <th>4</th>\n",
       "      <td>0001d958c54c6e35</td>\n",
       "      <td>you sir are my hero any chance you remember wh...</td>\n",
       "      <td>0</td>\n",
       "      <td>0</td>\n",
       "      <td>0</td>\n",
       "      <td>0</td>\n",
       "      <td>0</td>\n",
       "      <td>0</td>\n",
       "    </tr>\n",
       "  </tbody>\n",
       "</table>\n",
       "</div>"
      ],
      "text/plain": [
       "                 id                                       comment_text  toxic  \\\n",
       "0  0000997932d777bf  explanation\\nwhy the edits made under my usern...      0   \n",
       "1  000103f0d9cfb60f  daww he matches this background colour im seem...      0   \n",
       "2  000113f07ec002fd  hey man im really not trying to edit war its j...      0   \n",
       "3  0001b41b1c6bb37e  \\nmore\\ni cant make any real suggestions on im...      0   \n",
       "4  0001d958c54c6e35  you sir are my hero any chance you remember wh...      0   \n",
       "\n",
       "   severe_toxic  obscene  threat  insult  identity_hate  \n",
       "0             0        0       0       0              0  \n",
       "1             0        0       0       0              0  \n",
       "2             0        0       0       0              0  \n",
       "3             0        0       0       0              0  \n",
       "4             0        0       0       0              0  "
      ]
     },
     "metadata": {},
     "output_type": "display_data"
    },
    {
     "name": "stdout",
     "output_type": "stream",
     "text": [
      "Dálkarnir eru: \n",
      "- \t id\n",
      "- \t comment_text\n",
      "- \t toxic\n",
      "- \t severe_toxic\n",
      "- \t obscene\n",
      "- \t threat\n",
      "- \t insult\n",
      "- \t identity_hate\n"
     ]
    }
   ],
   "source": [
    "display(train_data.head())\n",
    "cols = train_data.columns\n",
    "print('Dálkarnir eru: ')\n",
    "for col in cols:\n",
    "    print('- \\t',col)\n"
   ]
  },
  {
   "cell_type": "code",
   "execution_count": null,
   "metadata": {},
   "outputs": [],
   "source": [
    "# Nota þetta til að testa loka módelið\n",
    "x_testLoka = test_data[cols[1]]\n",
    "y_testLoka = test_data[cols[2:]]"
   ]
  },
  {
   "cell_type": "markdown",
   "metadata": {},
   "source": [
    "### Text preprocessing\n"
   ]
  },
  {
   "cell_type": "code",
   "execution_count": 8,
   "metadata": {},
   "outputs": [],
   "source": [
    "\n",
    "def textpreprocess(sentence):\n",
    "    sentence = sentence.lower()\n",
    "    \n",
    "    #Taka út ensk stopporð\n",
    "    stopwords = stop_words.ENGLISH_STOP_WORDS\n",
    "    for sw in stopwords:\n",
    "        if len(sw) > 1 and sw in sentence:\n",
    "            sentence.replace(sw,'')\n",
    "    \n",
    "    #Taka út tölur\n",
    "    sentence = ''.join([i for i in sentence if not i.isdigit()])\n",
    "    \n",
    "    #Taka út punkta, kommur og þannig lagað\n",
    "    sentence=sentence.translate(str.maketrans('', '', string.punctuation))\n",
    "    \n",
    "    return sentence"
   ]
  },
  {
   "cell_type": "markdown",
   "metadata": {},
   "source": [
    "Hér er þá búið að preprocessa textann"
   ]
  },
  {
   "cell_type": "code",
   "execution_count": null,
   "metadata": {},
   "outputs": [],
   "source": [
    "def getProcessedText(dataset):\n",
    "    x_train = dataset['comment_text'].to_numpy()\n",
    "    for i in range(len(x_train)):\n",
    "        x_train[i] = textpreprocess(x_train[i])\n",
    "    return x_train"
   ]
  },
  {
   "cell_type": "code",
   "execution_count": 67,
   "metadata": {},
   "outputs": [],
   "source": [
    "x_train = train_data['comment_text'].to_numpy()\n",
    "for i in range(len(x_train)):\n",
    "    x_train[i] = textpreprocess(x_train[i])"
   ]
  },
  {
   "cell_type": "markdown",
   "metadata": {},
   "source": [
    "Prófa að exclude-a bara toxic dálkinn og gera model á honum"
   ]
  },
  {
   "cell_type": "code",
   "execution_count": 71,
   "metadata": {},
   "outputs": [],
   "source": [
    "toxicCol = train_data['toxic']"
   ]
  },
  {
   "cell_type": "code",
   "execution_count": 72,
   "metadata": {},
   "outputs": [
    {
     "name": "stdout",
     "output_type": "stream",
     "text": [
      "159571 159571\n",
      "=================\n",
      "| train_data shape: (127656,)\n",
      "| 127656 train samples\n",
      "| 31915 test samples\n",
      "=================\n"
     ]
    }
   ],
   "source": [
    "# X_train = train_data['comment_text'].to_numpy()\n",
    "X_train = x_train\n",
    "# y_train = (train_data.values[:,2:])\n",
    "y_train = toxicCol\n",
    "print(len(toxicCol), len(X_train))\n",
    "# Set aside validation data for monitoring training progress\n",
    "\n",
    "assert len(X_train) == len(y_train)\n",
    "X_train, X_test, y_train, y_test = train_test_split(X_train, y_train, test_size=0.2)\n",
    "\n",
    "print('=================')\n",
    "print('|','train_data shape:', X_train.shape)\n",
    "print('|',X_train.shape[0], 'train samples')\n",
    "print('|',y_test.shape[0], 'test samples')\n",
    "print('=================')"
   ]
  },
  {
   "cell_type": "code",
   "execution_count": 74,
   "metadata": {},
   "outputs": [],
   "source": [
    "max_words = 20000 # <- spurning um hvað þetta eigi að vera\n",
    "max_comment_length = 1000\n",
    "\n",
    "tokenizer = text.Tokenizer(num_words=max_words)\n",
    "num_classes = 6\n",
    "\n",
    "tokenizer.fit_on_texts(list(X_train))\n",
    "tokTrain = tokenizer.texts_to_sequences(X_train)\n",
    "tokTest = tokenizer.texts_to_sequences(X_test)\n",
    "\n",
    "x_train=sequence.pad_sequences(tokTrain, maxlen=max_comment_length)\n",
    "x_test=sequence.pad_sequences(tokTest, maxlen=max_comment_length)\n"
   ]
  },
  {
   "cell_type": "code",
   "execution_count": 75,
   "metadata": {},
   "outputs": [],
   "source": [
    "model = Sequential()\n",
    "model.add(Dense(512,input_shape=(max_comment_length,)))\n",
    "model.add(Activation('relu'))\n",
    "model.add(Dropout(0.5))\n",
    "model.add(Dense(num_classes))\n",
    "model.add(Activation('softmax'))\n",
    "model.compile(optimizer=Adadelta(),\n",
    "          loss = 'sparse_categorical_crossentropy',\n",
    "            metrics=['accuracy'])"
   ]
  },
  {
   "cell_type": "code",
   "execution_count": 76,
   "metadata": {},
   "outputs": [
    {
     "name": "stdout",
     "output_type": "stream",
     "text": [
      "Train on 114890 samples, validate on 12766 samples\n",
      "Epoch 1/2\n",
      "114890/114890 [==============================] - 17s 147us/sample - loss: 26.6637 - accuracy: 0.8336 - val_loss: 1.3988 - val_accuracy: 0.8990\n",
      "Epoch 2/2\n",
      "114890/114890 [==============================] - 17s 146us/sample - loss: 1.2222 - accuracy: 0.8676 - val_loss: 0.7240 - val_accuracy: 0.8946\n",
      "31915/31915 [==============================] - 1s 42us/sample - loss: 0.7050 - accuracy: 0.8961\n",
      "Test acc: 0.8960676789283752\n"
     ]
    }
   ],
   "source": [
    "batch_size = 32\n",
    "epochs = 2\n",
    "history = model.fit(x_train, y_train, batch_size=batch_size, epochs=epochs, verbose = 1,\n",
    "                    validation_split=0.1)\n",
    "score = model.evaluate(x_test, y_test, batch_size=batch_size, verbose=1)\n",
    "\n",
    "print('Test acc: {}'.format(score[1]))"
   ]
  },
  {
   "cell_type": "code",
   "execution_count": null,
   "metadata": {},
   "outputs": [],
   "source": []
  }
 ],
 "metadata": {
  "kernelspec": {
   "display_name": "Python 3",
   "language": "python",
   "name": "python3"
  },
  "language_info": {
   "codemirror_mode": {
    "name": "ipython",
    "version": 3
   },
   "file_extension": ".py",
   "mimetype": "text/x-python",
   "name": "python",
   "nbconvert_exporter": "python",
   "pygments_lexer": "ipython3",
   "version": "3.7.3"
  }
 },
 "nbformat": 4,
 "nbformat_minor": 2
}
