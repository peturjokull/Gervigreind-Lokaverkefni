{
 "cells": [
  {
   "cell_type": "markdown",
   "metadata": {},
   "source": [
    "#### Pakkar"
   ]
  },
  {
   "cell_type": "code",
   "execution_count": 1,
   "metadata": {},
   "outputs": [
    {
     "name": "stderr",
     "output_type": "stream",
     "text": [
      "/Users/numisteinn/opt/anaconda3/lib/python3.7/site-packages/sklearn/utils/deprecation.py:144: FutureWarning: The sklearn.feature_extraction.stop_words module is  deprecated in version 0.22 and will be removed in version 0.24. The corresponding classes / functions should instead be imported from sklearn.feature_extraction.text. Anything that cannot be imported from sklearn.feature_extraction.text is now part of the private API.\n",
      "  warnings.warn(message, FutureWarning)\n"
     ]
    }
   ],
   "source": [
    "# Our Libraries \n",
    "from ourModules import text_processor\n",
    "from ourModules import toxic_comment_Classifier"
   ]
  },
  {
   "cell_type": "code",
   "execution_count": 12,
   "metadata": {},
   "outputs": [],
   "source": [
    "# Libraries ---------------------------------\n",
    "import matplotlib.pyplot as plt\n",
    "import numpy as np\n",
    "import pandas as pd\n",
    "from sklearn.feature_extraction import stop_words\n",
    "import string\n",
    "from tensorflow.python.keras.preprocessing import text, sequence\n",
    "from sklearn.model_selection import train_test_split\n",
    "from tensorflow.python.keras.models import Sequential\n",
    "from tensorflow.python.keras.layers import Dense, Activation, Dropout\n",
    "from tensorflow.python.keras.optimizers import Adadelta\n",
    "import scipy.sparse\n",
    "from sklearn.svm import SVC\n",
    "from sklearn.feature_extraction.text import CountVectorizer\n",
    "from sklearn.feature_extraction.text import TfidfTransformer\n",
    "from sklearn.multioutput import MultiOutputClassifier\n",
    "from sklearn.multiclass import OneVsRestClassifier\n",
    "# # %tensorflow_version 1.x\n",
    "# import tensorflow\n",
    "# print(tensorflow.__version__)\n",
    "import tensorflow as tf"
   ]
  },
  {
   "cell_type": "code",
   "execution_count": 4,
   "metadata": {},
   "outputs": [],
   "source": [
    "tf.compat.v1.disable_eager_execution()"
   ]
  },
  {
   "cell_type": "markdown",
   "metadata": {},
   "source": [
    "#### Innlestur gagna"
   ]
  },
  {
   "cell_type": "code",
   "execution_count": 5,
   "metadata": {},
   "outputs": [],
   "source": [
    "train_data = pd.read_csv('data/train.csv',delimiter=',')\n",
    "train_data.drop('id',axis=1,inplace=True) # Id er gagnslaust til ad spa\n",
    "# test_labeled_data = pd.read_csv('data/test_labels.csv',delimiter=',') # Will most likely not be used\n",
    "\n"
   ]
  },
  {
   "cell_type": "markdown",
   "metadata": {},
   "source": [
    "### Gagnasettið\n",
    "Hér má sjá gagnasettið sem við þjálfum módelið á. Við erum með comment_text og hann er búið að greina (0 eða 1) hvort hann sé toxic, severe_toxic, obscene, threat, insult eða identity_hate."
   ]
  },
  {
   "cell_type": "code",
   "execution_count": 6,
   "metadata": {},
   "outputs": [],
   "source": [
    "# Nota þetta til að testa loka módelið\n",
    "cols = list(train_data)\n",
    "X_train_data = train_data.drop(columns = cols[1:])\n",
    "y_train_data = train_data.drop(columns = cols[:1])\n",
    "\n",
    "# 80/20 train/test split\n",
    "# Mögulega þarf að nota sklearn.cross_validation.StratifiedShuffleSplit frekar til að halda svipuðu \n",
    "X_train, X_test, y_train, y_test = train_test_split(X_train_data, y_train_data, test_size=0.2, random_state=12)\n",
    "X_train_np, X_test_np, y_train_np, y_test_np = X_train.to_numpy(), X_test.to_numpy(), y_train.to_numpy(), y_test.to_numpy()\n"
   ]
  },
  {
   "cell_type": "code",
   "execution_count": 7,
   "metadata": {},
   "outputs": [
    {
     "data": {
      "image/png": "[encoded data removed]",
      "text/plain": [
       "<Figure size 432x288 with 6 Axes>"
      ]
     },
     "metadata": {
      "needs_background": "light"
     },
     "output_type": "display_data"
    },
    {
     "name": "stdout",
     "output_type": "stream",
     "text": [
      "Number of instances marked with toxic: \t 12143/127656 or 9.51%\n",
      "Number of instances marked with severe_toxic: \t 1265/127656 or 0.99%\n",
      "Number of instances marked with obscene: \t 6714/127656 or 5.26%\n",
      "Number of instances marked with threat: \t 387/127656 or 0.30%\n",
      "Number of instances marked with insult: \t 6275/127656 or 4.92%\n",
      "Number of instances marked with identity_hate: \t 1117/127656 or 0.88%\n"
     ]
    }
   ],
   "source": [
    "# Visualize distribution of y\n",
    "n_bins = 2\n",
    "fig, axes = plt.subplots(nrows=2, ncols=3)\n",
    "axs = axes.flatten()\n",
    "i = 0\n",
    "for col in cols[1:]:\n",
    "    axs[i].hist(y_train[col], n_bins, density=True, histtype='bar')\n",
    "    axs[i].set_title(col)\n",
    "    i +=1\n",
    "fig.tight_layout()\n",
    "plt.show()\n",
    "# Notice skewed dataset\n",
    "for col in cols[1:]:\n",
    "    cnt = np.count_nonzero(y_train[col])\n",
    "    print('Number of instances marked with {}: \\t {}/{} or {:.2%}'.format(col, cnt,\n",
    "                                                                    y_train_np.shape[0], cnt/y_train_np.shape[0]) )"
   ]
  },
  {
   "cell_type": "code",
   "execution_count": 8,
   "metadata": {},
   "outputs": [
    {
     "name": "stdout",
     "output_type": "stream",
     "text": [
      "Number of rows with at least one none-zero value  12900\n",
      "All-zero guess accuracy on data for toxic is: 90.49%\n",
      "All-zero guess accuracy for toxic but all-zero-rows removed is: 5.87%\n",
      "----------------------------------------------------------------------------------------------------\n",
      "All-zero guess accuracy on data for severe_toxic is: 99.01%\n",
      "All-zero guess accuracy for severe_toxic but all-zero-rows removed is: 90.19%\n",
      "----------------------------------------------------------------------------------------------------\n",
      "All-zero guess accuracy on data for obscene is: 94.74%\n",
      "All-zero guess accuracy for obscene but all-zero-rows removed is: 47.95%\n",
      "----------------------------------------------------------------------------------------------------\n",
      "All-zero guess accuracy on data for threat is: 99.70%\n",
      "All-zero guess accuracy for threat but all-zero-rows removed is: 97.00%\n",
      "----------------------------------------------------------------------------------------------------\n",
      "All-zero guess accuracy on data for insult is: 95.08%\n",
      "All-zero guess accuracy for insult but all-zero-rows removed is: 51.36%\n",
      "----------------------------------------------------------------------------------------------------\n",
      "All-zero guess accuracy on data for identity_hate is: 99.12%\n",
      "All-zero guess accuracy for identity_hate but all-zero-rows removed is: 91.34%\n",
      "----------------------------------------------------------------------------------------------------\n",
      "All-zero guess row accuracy on data is: 89.89%\n"
     ]
    }
   ],
   "source": [
    "n,m = y_train_np.shape\n",
    "y_pred = np.zeros(n)\n",
    "\n",
    "rowindx, colindx = np.nonzero(y_train_np)\n",
    "rwi = np.unique(rowindx)\n",
    "print('Number of rows with at least one none-zero value ', len(rwi))\n",
    "non_zero_y_train = y_train_np[rwi]\n",
    "for i in range(m):\n",
    "    print('All-zero guess accuracy on data for {} is: {:.2%}'.format(cols[i+1], np.average(y_pred == y_train_np[:, i])))\n",
    "    print('All-zero guess accuracy for {} but all-zero-rows removed is: {:.2%}'.format(cols[i+1],\n",
    "                                                                np.average(y_pred[rwi] == non_zero_y_train[:, i])))\n",
    "    print('-'*100)\n",
    "\n",
    "y_pred_mat = np.zeros(y_train_np.shape) # All zero matrix\n",
    "# Find how many lines are correctly classified\n",
    "count_acc = np.sum(y_pred_mat == y_train_np, axis = 1)\n",
    "print('All-zero guess row accuracy on data is: {:.2%}'.format(np.average(np.where(count_acc == 6, 1, 0), axis = 0)))"
   ]
  },
  {
   "cell_type": "markdown",
   "metadata": {},
   "source": [
    "### State Vector Machine / Baseline Model\n",
    "\n",
    "\n"
   ]
  },
  {
   "cell_type": "markdown",
   "metadata": {},
   "source": [
    "Lets build our first model. We start by making a simple SVM, which is widely regarded as one of the best text classification algorithms. This baseline classifier which treats the labels independently by training a binary classifier on each label separately. This initial model does not implement multilable classifaction in the best way nor does it take into account the skewed data."
   ]
  },
  {
   "cell_type": "code",
   "execution_count": 92,
   "metadata": {},
   "outputs": [],
   "source": [
    "\n",
    "# subsamples the data but makes sure all y columns include 2 classes\n",
    "def data_subsample_asserts_two_classes(X, y, n):\n",
    "    # Select a random subset of the training data\n",
    "    max_tries = 15\n",
    "    tries = 0\n",
    "    while tries < max_tries:\n",
    "        perm = np.random.permutation(len(y))\n",
    "        X_sub=X[perm[0:n],:]\n",
    "        y_sub=y[perm[0:n]]\n",
    "        count = 0\n",
    "        length = y_sub.shape[1]\n",
    "        for i in range(length):\n",
    "            # Make sure all columns have 2 classes\n",
    "            if len(np.unique(y_sub[:,i])) < 2:\n",
    "                break\n",
    "            if i == (length-1):\n",
    "                print('Data subsampling succsessful!')\n",
    "                return X_sub, y_sub\n",
    "        tries += 1\n",
    "#         print(\"Data subsampling failed in {} try. Trying again.\".format(tries) )\n",
    "#         print('-'*100)\n",
    "    print(\"Data subsampling failed in {} tries\".format(max_tries))\n",
    "    return 0,0\n"
   ]
  },
  {
   "cell_type": "code",
   "execution_count": 10,
   "metadata": {},
   "outputs": [
    {
     "name": "stdout",
     "output_type": "stream",
     "text": [
      "Data subsampling succsessful!\n",
      "Number of training instances:  5000\n",
      "SVC-linear accuracy on toxic: 89.05% \n"
     ]
    },
    {
     "ename": "KeyboardInterrupt",
     "evalue": "",
     "output_type": "error",
     "traceback": [
      "\u001b[0;31m---------------------------------------------------------------------------\u001b[0m",
      "\u001b[0;31mKeyboardInterrupt\u001b[0m                         Traceback (most recent call last)",
      "\u001b[0;32m<ipython-input-10-656ba0a0d6cc>\u001b[0m in \u001b[0;36m<module>\u001b[0;34m\u001b[0m\n\u001b[1;32m     19\u001b[0m         \u001b[0mclf\u001b[0m\u001b[0;34m.\u001b[0m\u001b[0mfit\u001b[0m\u001b[0;34m(\u001b[0m\u001b[0mX_train_tfidf\u001b[0m\u001b[0;34m,\u001b[0m \u001b[0my_train_reduced\u001b[0m\u001b[0;34m[\u001b[0m\u001b[0;34m:\u001b[0m\u001b[0;34m,\u001b[0m\u001b[0mi\u001b[0m\u001b[0;34m]\u001b[0m\u001b[0;34m)\u001b[0m\u001b[0;34m\u001b[0m\u001b[0;34m\u001b[0m\u001b[0m\n\u001b[1;32m     20\u001b[0m \u001b[0;34m\u001b[0m\u001b[0m\n\u001b[0;32m---> 21\u001b[0;31m         \u001b[0mpred\u001b[0m \u001b[0;34m=\u001b[0m \u001b[0mclf\u001b[0m\u001b[0;34m.\u001b[0m\u001b[0mpredict\u001b[0m\u001b[0;34m(\u001b[0m\u001b[0mvectorizer\u001b[0m\u001b[0;34m.\u001b[0m\u001b[0mtransform\u001b[0m\u001b[0;34m(\u001b[0m\u001b[0mX_test_np\u001b[0m\u001b[0;34m.\u001b[0m\u001b[0mravel\u001b[0m\u001b[0;34m(\u001b[0m\u001b[0;34m)\u001b[0m\u001b[0;34m)\u001b[0m\u001b[0;34m)\u001b[0m\u001b[0;34m\u001b[0m\u001b[0;34m\u001b[0m\u001b[0m\n\u001b[0m\u001b[1;32m     22\u001b[0m         \u001b[0ma\u001b[0m \u001b[0;34m=\u001b[0m \u001b[0mnp\u001b[0m\u001b[0;34m.\u001b[0m\u001b[0maverage\u001b[0m\u001b[0;34m(\u001b[0m\u001b[0mpred\u001b[0m \u001b[0;34m==\u001b[0m \u001b[0my_test\u001b[0m\u001b[0;34m[\u001b[0m\u001b[0mcols\u001b[0m\u001b[0;34m[\u001b[0m\u001b[0mi\u001b[0m\u001b[0;34m+\u001b[0m\u001b[0;36m1\u001b[0m\u001b[0;34m]\u001b[0m\u001b[0;34m]\u001b[0m\u001b[0;34m)\u001b[0m \u001b[0;31m#accuracy for this label\u001b[0m\u001b[0;34m\u001b[0m\u001b[0;34m\u001b[0m\u001b[0m\n\u001b[1;32m     23\u001b[0m         \u001b[0;32mif\u001b[0m \u001b[0mkernel_\u001b[0m \u001b[0;34m==\u001b[0m \u001b[0;34m'linear'\u001b[0m\u001b[0;34m:\u001b[0m\u001b[0;34m\u001b[0m\u001b[0;34m\u001b[0m\u001b[0m\n",
      "\u001b[0;32m~/opt/anaconda3/lib/python3.7/site-packages/sklearn/svm/_base.py\u001b[0m in \u001b[0;36mpredict\u001b[0;34m(self, X)\u001b[0m\n\u001b[1;32m    592\u001b[0m             \u001b[0my\u001b[0m \u001b[0;34m=\u001b[0m \u001b[0mnp\u001b[0m\u001b[0;34m.\u001b[0m\u001b[0margmax\u001b[0m\u001b[0;34m(\u001b[0m\u001b[0mself\u001b[0m\u001b[0;34m.\u001b[0m\u001b[0mdecision_function\u001b[0m\u001b[0;34m(\u001b[0m\u001b[0mX\u001b[0m\u001b[0;34m)\u001b[0m\u001b[0;34m,\u001b[0m \u001b[0maxis\u001b[0m\u001b[0;34m=\u001b[0m\u001b[0;36m1\u001b[0m\u001b[0;34m)\u001b[0m\u001b[0;34m\u001b[0m\u001b[0;34m\u001b[0m\u001b[0m\n\u001b[1;32m    593\u001b[0m         \u001b[0;32melse\u001b[0m\u001b[0;34m:\u001b[0m\u001b[0;34m\u001b[0m\u001b[0;34m\u001b[0m\u001b[0m\n\u001b[0;32m--> 594\u001b[0;31m             \u001b[0my\u001b[0m \u001b[0;34m=\u001b[0m \u001b[0msuper\u001b[0m\u001b[0;34m(\u001b[0m\u001b[0;34m)\u001b[0m\u001b[0;34m.\u001b[0m\u001b[0mpredict\u001b[0m\u001b[0;34m(\u001b[0m\u001b[0mX\u001b[0m\u001b[0;34m)\u001b[0m\u001b[0;34m\u001b[0m\u001b[0;34m\u001b[0m\u001b[0m\n\u001b[0m\u001b[1;32m    595\u001b[0m         \u001b[0;32mreturn\u001b[0m \u001b[0mself\u001b[0m\u001b[0;34m.\u001b[0m\u001b[0mclasses_\u001b[0m\u001b[0;34m.\u001b[0m\u001b[0mtake\u001b[0m\u001b[0;34m(\u001b[0m\u001b[0mnp\u001b[0m\u001b[0;34m.\u001b[0m\u001b[0masarray\u001b[0m\u001b[0;34m(\u001b[0m\u001b[0my\u001b[0m\u001b[0;34m,\u001b[0m \u001b[0mdtype\u001b[0m\u001b[0;34m=\u001b[0m\u001b[0mnp\u001b[0m\u001b[0;34m.\u001b[0m\u001b[0mintp\u001b[0m\u001b[0;34m)\u001b[0m\u001b[0;34m)\u001b[0m\u001b[0;34m\u001b[0m\u001b[0;34m\u001b[0m\u001b[0m\n\u001b[1;32m    596\u001b[0m \u001b[0;34m\u001b[0m\u001b[0m\n",
      "\u001b[0;32m~/opt/anaconda3/lib/python3.7/site-packages/sklearn/svm/_base.py\u001b[0m in \u001b[0;36mpredict\u001b[0;34m(self, X)\u001b[0m\n\u001b[1;32m    315\u001b[0m         \u001b[0mX\u001b[0m \u001b[0;34m=\u001b[0m \u001b[0mself\u001b[0m\u001b[0;34m.\u001b[0m\u001b[0m_validate_for_predict\u001b[0m\u001b[0;34m(\u001b[0m\u001b[0mX\u001b[0m\u001b[0;34m)\u001b[0m\u001b[0;34m\u001b[0m\u001b[0;34m\u001b[0m\u001b[0m\n\u001b[1;32m    316\u001b[0m         \u001b[0mpredict\u001b[0m \u001b[0;34m=\u001b[0m \u001b[0mself\u001b[0m\u001b[0;34m.\u001b[0m\u001b[0m_sparse_predict\u001b[0m \u001b[0;32mif\u001b[0m \u001b[0mself\u001b[0m\u001b[0;34m.\u001b[0m\u001b[0m_sparse\u001b[0m \u001b[0;32melse\u001b[0m \u001b[0mself\u001b[0m\u001b[0;34m.\u001b[0m\u001b[0m_dense_predict\u001b[0m\u001b[0;34m\u001b[0m\u001b[0;34m\u001b[0m\u001b[0m\n\u001b[0;32m--> 317\u001b[0;31m         \u001b[0;32mreturn\u001b[0m \u001b[0mpredict\u001b[0m\u001b[0;34m(\u001b[0m\u001b[0mX\u001b[0m\u001b[0;34m)\u001b[0m\u001b[0;34m\u001b[0m\u001b[0;34m\u001b[0m\u001b[0m\n\u001b[0m\u001b[1;32m    318\u001b[0m \u001b[0;34m\u001b[0m\u001b[0m\n\u001b[1;32m    319\u001b[0m     \u001b[0;32mdef\u001b[0m \u001b[0m_dense_predict\u001b[0m\u001b[0;34m(\u001b[0m\u001b[0mself\u001b[0m\u001b[0;34m,\u001b[0m \u001b[0mX\u001b[0m\u001b[0;34m)\u001b[0m\u001b[0;34m:\u001b[0m\u001b[0;34m\u001b[0m\u001b[0;34m\u001b[0m\u001b[0m\n",
      "\u001b[0;32m~/opt/anaconda3/lib/python3.7/site-packages/sklearn/svm/_base.py\u001b[0m in \u001b[0;36m_sparse_predict\u001b[0;34m(self, X)\u001b[0m\n\u001b[1;32m    360\u001b[0m             \u001b[0mself\u001b[0m\u001b[0;34m.\u001b[0m\u001b[0mnu\u001b[0m\u001b[0;34m,\u001b[0m \u001b[0mself\u001b[0m\u001b[0;34m.\u001b[0m\u001b[0mepsilon\u001b[0m\u001b[0;34m,\u001b[0m \u001b[0mself\u001b[0m\u001b[0;34m.\u001b[0m\u001b[0mshrinking\u001b[0m\u001b[0;34m,\u001b[0m\u001b[0;34m\u001b[0m\u001b[0;34m\u001b[0m\u001b[0m\n\u001b[1;32m    361\u001b[0m             \u001b[0mself\u001b[0m\u001b[0;34m.\u001b[0m\u001b[0mprobability\u001b[0m\u001b[0;34m,\u001b[0m \u001b[0mself\u001b[0m\u001b[0;34m.\u001b[0m\u001b[0m_n_support\u001b[0m\u001b[0;34m,\u001b[0m\u001b[0;34m\u001b[0m\u001b[0;34m\u001b[0m\u001b[0m\n\u001b[0;32m--> 362\u001b[0;31m             self.probA_, self.probB_)\n\u001b[0m\u001b[1;32m    363\u001b[0m \u001b[0;34m\u001b[0m\u001b[0m\n\u001b[1;32m    364\u001b[0m     \u001b[0;32mdef\u001b[0m \u001b[0m_compute_kernel\u001b[0m\u001b[0;34m(\u001b[0m\u001b[0mself\u001b[0m\u001b[0;34m,\u001b[0m \u001b[0mX\u001b[0m\u001b[0;34m)\u001b[0m\u001b[0;34m:\u001b[0m\u001b[0;34m\u001b[0m\u001b[0;34m\u001b[0m\u001b[0m\n",
      "\u001b[0;31mKeyboardInterrupt\u001b[0m: "
     ]
    }
   ],
   "source": [
    "# Reduces training set while testing due to SVC being slow\n",
    "X_train_reduced, y_train_reduced = data_subsample_asserts_two_classes(X_train_np, y_train_np, 5000)\n",
    "print(\"Number of training instances: \", X_train_reduced.shape[0] )\n",
    "\n",
    "# Bag of words approach\n",
    "# CountVectorizer has the benefit of producing a sparse representation of the counts \n",
    "vectorizer = CountVectorizer( max_df=0.95, min_df=2, max_features = None, stop_words='english')\n",
    "tfidf_transformer = TfidfTransformer()\n",
    "# Get counts\n",
    "X_train_counts = vectorizer.fit_transform(X_train_reduced.ravel())\n",
    "X_train_tfidf = tfidf_transformer.fit_transform(X_train_counts)\n",
    "\n",
    "acc = []\n",
    "y_pred_lin = np.zeros(y_test_np.shape)\n",
    "y_pred_rbf = np.zeros(y_test_np.shape)\n",
    "for i in range(len(cols[1:])):\n",
    "    for kernel_ in ['linear', 'rbf']:\n",
    "        clf = SVC(kernel = kernel_, class_weight = 'balanced')\n",
    "        clf.fit(X_train_tfidf, y_train_reduced[:,i])\n",
    "\n",
    "        pred = clf.predict(vectorizer.transform(X_test_np.ravel()))\n",
    "        a = np.average(pred == y_test[cols[i+1]]) #accuracy for this label\n",
    "        if kernel_ == 'linear':\n",
    "            y_pred_lin[:,i] = pred \n",
    "        else:\n",
    "            y_pred_rbf[:,i] = pred \n",
    "\n",
    "        acc = np.append(acc, a)\n",
    "\n",
    "        print('SVC-{} accuracy on {}: {:.2%} '.format(kernel_, cols[i+1], a))\n",
    "    print('-'*100)\n",
    "\n",
    "# Find how many lines are correctly classified\n",
    "lin_acc = np.sum(y_pred_lin == y_test_np, axis = 1)\n",
    "rbf_acc = np.sum(y_pred_rbf == y_test_np, axis = 1)\n",
    "print('SVM-linear row accuracy: {:.2%}'.format(np.average(np.where(lin_acc == 6, 1, 0), axis = 0)))\n",
    "print('SVM-rbf row accuracy: {:.2%}'.format(np.average(np.where(rbf_acc == 6, 1, 0), axis = 0)))\n",
    "\n",
    "for preds in [y_pred_lin, y_pred_rbf]:\n",
    "    rowindx, colindx = np.nonzero(preds)\n",
    "    tmp1 = len(np.unique(rowindx))\n",
    "    tmp2 = preds.shape[0]\n",
    "    print('Number of non-zero row guesses: {}/{} = {:.2%}'.format(tmp1, tmp2, tmp1/tmp2 ) )"
   ]
  },
  {
   "cell_type": "code",
   "execution_count": null,
   "metadata": {},
   "outputs": [],
   "source": [
    "X_train_reduced, y_train_reduced = data_subsample_asserts_two_classes(X_train_np, y_train_np, 5000)\n",
    "print(\"Number of training instances: \", X_train_reduced.shape[0] )\n",
    "\n",
    "# Bag of words approach\n",
    "# CountVectorizer has the benefit of producing a sparse representation of the counts \n",
    "vectorizer = CountVectorizer( max_df=0.95, min_df=2, max_features = None, stop_words='english')\n",
    "tfidf_transformer = TfidfTransformer()\n",
    "\n",
    "X_train_counts = vectorizer.fit_transform(X_train_reduced.ravel())\n",
    "X_train_tfidf = tfidf_transformer.fit_transform(X_train_counts)\n",
    "\n",
    "\n",
    "clf = OneVsRestClassifier(SVC(kernel='rbf', class_weight = 'balanced'))\n",
    "clf.fit(X_train_tfidf, y_train_reduced)\n",
    "pred = clf.predict( vectorizer.transform(X_test_np.ravel()) )\n",
    "acc = np.sum(pred == y_test_np, axis = 1)\n",
    "print('SVM-rbf row accuracy: {:.2%}'.format(np.average(np.where(acc == 6, 1, 0), axis = 0)))\n",
    "clf = MultiOutputClassifier(SVC(kernel = 'rbf', class_weight = 'balanced'))\n",
    "clf.fit(X_train_tfidf, y_train_reduced)\n",
    "print('Done training')\n",
    "# pred = clf.predict( vectorizer.transform(X_test_np.ravel()) )\n",
    "# acc = np.sum(pred == y_test_np, axis = 1)\n",
    "# print('SVM-rbf row accuracy: {:.2%}'.format(np.average(np.where(acc == 6, 1, 0), axis = 0)))\n",
    "\n"
   ]
  },
  {
   "cell_type": "code",
   "execution_count": 166,
   "metadata": {},
   "outputs": [],
   "source": [
    "def get_row_accuracy(y_true, y_pred):\n",
    "    acc = np.sum(y_true == y_pred, axis = 1)\n",
    "    return np.average(np.where(acc == 6, 1, 0), axis = 0)\n",
    "\n",
    "def plot_acc_params(param, train_acc_, val_acc_, param_name, title):\n",
    "    plt.plot(param, train_acc_,label='Training accuracy')\n",
    "    plt.plot(param, val_acc_,label='Validation accuracy')\n",
    "    plt.title(title)\n",
    "    plt.xlabel(param_name)\n",
    "    plt.ylabel('Accuracy')\n",
    "    plt.legend()\n",
    "    plt.show()\n",
    "    \n",
    "def find_SVM_params(params, ptype, kernel_, xtrain, ytrain, xval, yval):\n",
    "    training_acc = []\n",
    "    val_acc = []\n",
    "    for param in params:\n",
    "        if ptype == 'C':\n",
    "            clf = OneVsRestClassifier(SVC(C = param,\n",
    "                                      kernel=kernel_, class_weight = 'balanced'))\n",
    "        if ptype == 'gamma':\n",
    "            clf = OneVsRestClassifier(SVC(gamma=param,\n",
    "                                      kernel=kernel_, class_weight = 'balanced'))\n",
    "        clf.fit(xtrain, ytrain)\n",
    "\n",
    "        t_acc = get_row_accuracy(ytrain, clf.predict(xtrain))\n",
    "        v_acc = get_row_accuracy(yval, clf.predict(xval))\n",
    "\n",
    "        training_acc.append(t_acc)\n",
    "        val_acc.append(v_acc)\n",
    "        print('Parameter: {} Training acc: {:.2%}, Validation acc: {:.2%}'.format(param, t_acc, v_acc))\n",
    "    print('-'*100)\n",
    "    return training_acc, val_acc\n",
    "\n",
    "def find_best_SVM_params(Cs, gammas, kernel_, xtrain, ytrain, xval, yval):\n",
    "    training_acc = np.zeros(len(Cs))\n",
    "    val_acc = np.zeros(len(Cs))\n",
    "    if kernel_ != 'linear':\n",
    "        training_acc = np.zeros((len(Cs), len(gammas)))\n",
    "        val_acc = np.zeros((len(Cs), len(gammas)))\n",
    "    \n",
    "    for i in range(len(Cs)):\n",
    "        print(\"c: \", Cs[i])\n",
    "        if kernel_ != 'linear':\n",
    "            for j in range(len(gammas)):\n",
    "                print(\"gamma: \", gammas[j], end =\" \")\n",
    "                clf = OneVsRestClassifier(SVC(gamma=gammas[j], C = Cs[i], kernel = kernel_))\n",
    "                clf.fit(xtrain, ytrain)\n",
    "                val_acc[i, j] = get_row_accuracy(yval, clf.predict(xval))\n",
    "                training_acc[i, j] = get_row_accuracy(ytrain, clf.predict(xtrain))\n",
    "        else:\n",
    "            clf = OneVsRestClassifier(SVC(C = Cs[i], kernel = kernel_))\n",
    "            clf.fit(xtrain, ytrain)\n",
    "            val_acc[i] = get_row_accuracy(yval, clf.predict(xval))\n",
    "            training_acc[i] = get_row_accuracy(ytrain, clf.predict(xtrain))\n",
    "        print()\n",
    "#     print('Train acc \\n', training_acc)\n",
    "#     print('Validation acc \\n', val_acc)\n",
    "    return training_acc, val_acc\n",
    "\n",
    "# Utility function to move the midpoint of a colormap to be around\n",
    "# the values of interest.\n",
    "class MidpointNormalize(Normalize):\n",
    "\n",
    "    def __init__(self, vmin=None, vmax=None, midpoint=None, clip=False):\n",
    "        self.midpoint = midpoint\n",
    "        Normalize.__init__(self, vmin, vmax, clip)\n",
    "\n",
    "    def __call__(self, value, clip=None):\n",
    "        x, y = [self.vmin, self.midpoint, self.vmax], [0, 0.5, 1]\n",
    "        return np.ma.masked_array(np.interp(value, x, y))\n",
    "\n",
    "def plot_heatmap(data_matrix, title, xlabel, ylabel, x_values, y_values, vmin_, midpoint_):\n",
    "    plt.figure(figsize=(8, 6))\n",
    "    plt.subplots_adjust(left=.2, right=0.95, bottom=0.15, top=0.95)\n",
    "    plt.imshow(data_matrix, interpolation='nearest', cmap=plt.cm.hot,\n",
    "               norm=MidpointNormalize(vmin=vmin_, midpoint=midpoint_))\n",
    "    plt.xlabel(xlabel)\n",
    "    plt.ylabel(ylabel)\n",
    "    plt.colorbar()\n",
    "    plt.xticks(np.arange(len(x_values)), x_values, rotation=45)\n",
    "    plt.yticks(np.arange(len(y_values)), y_values)\n",
    "    plt.title(title)\n",
    "    plt.show()\n"
   ]
  },
  {
   "cell_type": "code",
   "execution_count": 227,
   "metadata": {},
   "outputs": [
    {
     "name": "stdout",
     "output_type": "stream",
     "text": [
      "Data subsampling succsessful!\n",
      "Number of training instances:  5000\n",
      "----------------------------------------------------------------------------------------------------\n",
      "Using kernel  rbf\n",
      "Testing parameters, C: [  0.1   1.   10.  100. ],\n",
      "gamma: [1.    0.1   0.01  0.001]\n",
      "c:  0.1\n",
      "gamma:  1.0 gamma:  0.1 gamma:  0.01 gamma:  0.001 \n",
      "c:  1.0\n",
      "gamma:  1.0 gamma:  0.1 gamma:  0.01 gamma:  0.001 \n",
      "c:  10.0\n",
      "gamma:  1.0 gamma:  0.1 gamma:  0.01 gamma:  0.001 \n",
      "c:  100.0\n",
      "gamma:  1.0 gamma:  0.1 gamma:  0.01 gamma:  0.001 \n",
      "----------------------------------------------------------------------------------------------------\n",
      "Using kernel  linear\n",
      "Testing parameters, C: [  0.1   1.   10.  100. ],\n",
      "gamma: [1.    0.1   0.01  0.001]\n",
      "c:  0.1\n",
      "\n",
      "c:  1.0\n",
      "\n",
      "c:  10.0\n",
      "\n",
      "c:  100.0\n",
      "\n",
      "For rbf kernal\n",
      "Optimal combination is,  C: 100.0, gamma: 0.001\n",
      "Giving the validation accuracy: 90.90%\n",
      "For linear kernal\n",
      "Optimal C is: 0.1\n",
      "Giving the validation accuracy: 90.44%\n"
     ]
    },
    {
     "data": {
      "image/png": "[encoded data removed]",
      "text/plain": [
       "<Figure size 576x432 with 2 Axes>"
      ]
     },
     "metadata": {
      "needs_background": "light"
     },
     "output_type": "display_data"
    }
   ],
   "source": [
    "\n",
    "X_train_reduced, y_train_reduced = data_subsample_asserts_two_classes(X_train_np, y_train_np, 5000)\n",
    "print(\"Number of training instances: \", X_train_reduced.shape[0] )\n",
    "\n",
    "# Bag of words approach\n",
    "# CountVectorizer has the benefit of producing a sparse representation of the counts \n",
    "vectorizer = CountVectorizer( max_df=0.95, min_df=2, max_features = None, stop_words='english')\n",
    "tfidf_transformer = TfidfTransformer()\n",
    "\n",
    "X_train_counts = vectorizer.fit_transform(X_train_reduced.ravel())\n",
    "X_train_tfidf = tfidf_transformer.fit_transform(X_train_counts)\n",
    "# Rough search for a good estimate of C and gamma\n",
    "x_test_unrvld = vectorizer.transform(X_test_np.ravel())\n",
    "\n",
    "C = 0.1* np.power(10,np.arange(4))\n",
    "gamma = 1/np.power(10,np.arange(4))\n",
    "\n",
    "accs = { 'val_acc': {'rbf': np.zeros((len(C), len(gamma))),\n",
    "                     'linear': np.zeros(len(C)) },\n",
    "        'train_acc': {'rbf': np.zeros((len(C), len(gamma))),\n",
    "                     'linear': np.zeros(len(C)) } \n",
    "       }\n",
    "kernels = ['rbf', 'linear']\n",
    "for kernel in kernels:\n",
    "    print('-'*100)\n",
    "    print('Using kernel ', kernel)\n",
    "    print('Testing parameters, C: {},\\ngamma: {}'.format(C, gamma))\n",
    "    tA, vA = find_best_SVM_params(C, gamma, kernel,\n",
    "                                     X_train_tfidf, y_train_reduced,\n",
    "                                     x_test_unrvld, y_test_np)\n",
    "    accs['train_acc'][kernel] = tA\n",
    "    accs['val_acc'][kernel] = vA\n",
    "\n",
    "rbfacc = accs['val_acc']['rbf']; linacc = accs['val_acc']['linear']\n",
    "Cind, gammaind = np.unravel_index(np.argmax(rbfacc, axis=None), rbfacc.shape)\n",
    "print('For rbf kernal')\n",
    "rbfOptparam = C[Cind], gamma[gammaind]\n",
    "print(\"Optimal combination is,  C: {}, gamma: {}\".format(rbfOptparam[0], rbfOptparam[1]))\n",
    "print(\"Giving the validation accuracy: {:.2%}\".format(rbfacc[Cind, gammaind]))\n",
    "\n",
    "Cindex = np.argmax(linacc)\n",
    "linearOptC = C[Cindex]\n",
    "print('For linear kernal')\n",
    "print(\"Optimal C is: {}\".format(linearOptC))\n",
    "print(\"Giving the validation accuracy: {:.2%}\".format(linacc[Cindex]))\n",
    "plot_heatmap(rbfacc, 'Validation accuracy - rbf', 'gamma', 'C', gamma, C,\n",
    "             np.min(rbfacc) - 0.1, np.max(rbfacc)-0.2)"
   ]
  },
  {
   "cell_type": "code",
   "execution_count": 231,
   "metadata": {},
   "outputs": [
    {
     "name": "stdout",
     "output_type": "stream",
     "text": [
      "[[0.89603635 0.89581701 0.89581701 0.89581701]\n",
      " [0.89660034 0.900799   0.89619301 0.89581701]\n",
      " [0.89675701 0.40551465 0.90888297 0.89638101]\n",
      " [0.89675701 0.43217923 0.6893937  0.90897697]]\n",
      "0.9089769700767664\n"
     ]
    },
    {
     "data": {
      "image/png": "[encoded data removed]",
      "text/plain": [
       "<Figure size 576x432 with 2 Axes>"
      ]
     },
     "metadata": {
      "needs_background": "light"
     },
     "output_type": "display_data"
    }
   ],
   "source": [
    "plot_heatmap(rbfacc, 'Validation accuracy - rbf', 'gamma', 'C', gamma, C,\n",
    "             np.min(rbfacc) - 0.1, np.max(rbfacc)-0.05)"
   ]
  },
  {
   "cell_type": "code",
   "execution_count": 108,
   "metadata": {},
   "outputs": [
    {
     "name": "stdout",
     "output_type": "stream",
     "text": [
      "Data subsampling succsessful!\n",
      "Number of training instances:  1000\n",
      "----------------------------------------------------------------------------------------------------\n",
      "Using kernel  rbf\n",
      "Testing parameter, C: [  0.1   1.   10.  100. ]\n",
      "Parameter: 0.1 Training acc: 95.30%, Validation acc: 89.62%\n",
      "Parameter: 1.0 Training acc: 99.40%, Validation acc: 89.61%\n",
      "Parameter: 10.0 Training acc: 99.80%, Validation acc: 89.63%\n",
      "Parameter: 100.0 Training acc: 100.00%, Validation acc: 89.63%\n",
      "----------------------------------------------------------------------------------------------------\n",
      "----------------------------------------------------------------------------------------------------\n",
      "Using kernel  rbf\n",
      "Testing parameter, gamma: [1.    0.1   0.01  0.001]\n",
      "Parameter: 1.0 Training acc: 99.40%, Validation acc: 89.61%\n",
      "Parameter: 0.1 Training acc: 97.20%, Validation acc: 86.83%\n",
      "Parameter: 0.01 Training acc: 2.70%, Validation acc: 45.51%\n",
      "Parameter: 0.001 Training acc: 0.00%, Validation acc: 0.01%\n",
      "----------------------------------------------------------------------------------------------------\n",
      "----------------------------------------------------------------------------------------------------\n",
      "Using kernel  linear\n",
      "Testing parameter, C: [  0.1   1.   10.  100. ]\n",
      "Parameter: 0.1 Training acc: 96.60%, Validation acc: 81.22%\n",
      "Parameter: 1.0 Training acc: 99.10%, Validation acc: 74.99%\n",
      "Parameter: 10.0 Training acc: 99.70%, Validation acc: 66.21%\n"
     ]
    },
    {
     "ename": "KeyboardInterrupt",
     "evalue": "",
     "output_type": "error",
     "traceback": [
      "\u001b[0;31m---------------------------------------------------------------------------\u001b[0m",
      "\u001b[0;31mKeyboardInterrupt\u001b[0m                         Traceback (most recent call last)",
      "\u001b[0;32m<ipython-input-108-19aa169ab2b0>\u001b[0m in \u001b[0;36m<module>\u001b[0;34m\u001b[0m\n\u001b[1;32m     37\u001b[0m         accs['train_acc'][k][p], accs['val_acc'][k][p] = find_SVM_params(par_list, p, k,\n\u001b[1;32m     38\u001b[0m                                          \u001b[0mX_train_tfidf\u001b[0m\u001b[0;34m,\u001b[0m \u001b[0my_train_reduced\u001b[0m\u001b[0;34m,\u001b[0m\u001b[0;34m\u001b[0m\u001b[0;34m\u001b[0m\u001b[0m\n\u001b[0;32m---> 39\u001b[0;31m                                          x_test_unrvld, y_test_np)\n\u001b[0m\u001b[1;32m     40\u001b[0m \u001b[0mopt_Linear_C\u001b[0m \u001b[0;34m=\u001b[0m \u001b[0mC\u001b[0m\u001b[0;34m[\u001b[0m\u001b[0mnp\u001b[0m\u001b[0;34m.\u001b[0m\u001b[0margmax\u001b[0m\u001b[0;34m(\u001b[0m\u001b[0maccs\u001b[0m\u001b[0;34m[\u001b[0m\u001b[0;34m'val_acc'\u001b[0m\u001b[0;34m]\u001b[0m\u001b[0;34m[\u001b[0m\u001b[0;34m'linear'\u001b[0m\u001b[0;34m]\u001b[0m\u001b[0;34m[\u001b[0m\u001b[0;34m'C'\u001b[0m\u001b[0;34m]\u001b[0m\u001b[0;34m)\u001b[0m\u001b[0;34m]\u001b[0m\u001b[0;34m\u001b[0m\u001b[0;34m\u001b[0m\u001b[0m\n\u001b[1;32m     41\u001b[0m \u001b[0mopt_rbf_C\u001b[0m \u001b[0;34m=\u001b[0m \u001b[0mC\u001b[0m\u001b[0;34m[\u001b[0m\u001b[0mnp\u001b[0m\u001b[0;34m.\u001b[0m\u001b[0margmax\u001b[0m\u001b[0;34m(\u001b[0m\u001b[0maccs\u001b[0m\u001b[0;34m[\u001b[0m\u001b[0;34m'val_acc'\u001b[0m\u001b[0;34m]\u001b[0m\u001b[0;34m[\u001b[0m\u001b[0;34m'rbf'\u001b[0m\u001b[0;34m]\u001b[0m\u001b[0;34m[\u001b[0m\u001b[0;34m'C'\u001b[0m\u001b[0;34m]\u001b[0m\u001b[0;34m)\u001b[0m\u001b[0;34m]\u001b[0m\u001b[0;34m\u001b[0m\u001b[0;34m\u001b[0m\u001b[0m\n",
      "\u001b[0;32m<ipython-input-100-956e0278ee02>\u001b[0m in \u001b[0;36mfind_SVM_params\u001b[0;34m(params, ptype, kernel_, xtrain, ytrain, xval, yval)\u001b[0m\n\u001b[1;32m     25\u001b[0m \u001b[0;34m\u001b[0m\u001b[0m\n\u001b[1;32m     26\u001b[0m         \u001b[0mt_acc\u001b[0m \u001b[0;34m=\u001b[0m \u001b[0mget_row_accuracy\u001b[0m\u001b[0;34m(\u001b[0m\u001b[0mytrain\u001b[0m\u001b[0;34m,\u001b[0m \u001b[0mclf\u001b[0m\u001b[0;34m.\u001b[0m\u001b[0mpredict\u001b[0m\u001b[0;34m(\u001b[0m\u001b[0mxtrain\u001b[0m\u001b[0;34m)\u001b[0m\u001b[0;34m)\u001b[0m\u001b[0;34m\u001b[0m\u001b[0;34m\u001b[0m\u001b[0m\n\u001b[0;32m---> 27\u001b[0;31m         \u001b[0mv_acc\u001b[0m \u001b[0;34m=\u001b[0m \u001b[0mget_row_accuracy\u001b[0m\u001b[0;34m(\u001b[0m\u001b[0myval\u001b[0m\u001b[0;34m,\u001b[0m \u001b[0mclf\u001b[0m\u001b[0;34m.\u001b[0m\u001b[0mpredict\u001b[0m\u001b[0;34m(\u001b[0m\u001b[0mxval\u001b[0m\u001b[0;34m)\u001b[0m\u001b[0;34m)\u001b[0m\u001b[0;34m\u001b[0m\u001b[0;34m\u001b[0m\u001b[0m\n\u001b[0m\u001b[1;32m     28\u001b[0m \u001b[0;34m\u001b[0m\u001b[0m\n\u001b[1;32m     29\u001b[0m         \u001b[0mtraining_acc\u001b[0m\u001b[0;34m.\u001b[0m\u001b[0mappend\u001b[0m\u001b[0;34m(\u001b[0m\u001b[0mt_acc\u001b[0m\u001b[0;34m)\u001b[0m\u001b[0;34m\u001b[0m\u001b[0;34m\u001b[0m\u001b[0m\n",
      "\u001b[0;32m~/opt/anaconda3/lib/python3.7/site-packages/sklearn/multiclass.py\u001b[0m in \u001b[0;36mpredict\u001b[0;34m(self, X)\u001b[0m\n\u001b[1;32m    331\u001b[0m             \u001b[0mindptr\u001b[0m \u001b[0;34m=\u001b[0m \u001b[0marray\u001b[0m\u001b[0;34m.\u001b[0m\u001b[0marray\u001b[0m\u001b[0;34m(\u001b[0m\u001b[0;34m'i'\u001b[0m\u001b[0;34m,\u001b[0m \u001b[0;34m[\u001b[0m\u001b[0;36m0\u001b[0m\u001b[0;34m]\u001b[0m\u001b[0;34m)\u001b[0m\u001b[0;34m\u001b[0m\u001b[0;34m\u001b[0m\u001b[0m\n\u001b[1;32m    332\u001b[0m             \u001b[0;32mfor\u001b[0m \u001b[0me\u001b[0m \u001b[0;32min\u001b[0m \u001b[0mself\u001b[0m\u001b[0;34m.\u001b[0m\u001b[0mestimators_\u001b[0m\u001b[0;34m:\u001b[0m\u001b[0;34m\u001b[0m\u001b[0;34m\u001b[0m\u001b[0m\n\u001b[0;32m--> 333\u001b[0;31m                 \u001b[0mindices\u001b[0m\u001b[0;34m.\u001b[0m\u001b[0mextend\u001b[0m\u001b[0;34m(\u001b[0m\u001b[0mnp\u001b[0m\u001b[0;34m.\u001b[0m\u001b[0mwhere\u001b[0m\u001b[0;34m(\u001b[0m\u001b[0m_predict_binary\u001b[0m\u001b[0;34m(\u001b[0m\u001b[0me\u001b[0m\u001b[0;34m,\u001b[0m \u001b[0mX\u001b[0m\u001b[0;34m)\u001b[0m \u001b[0;34m>\u001b[0m \u001b[0mthresh\u001b[0m\u001b[0;34m)\u001b[0m\u001b[0;34m[\u001b[0m\u001b[0;36m0\u001b[0m\u001b[0;34m]\u001b[0m\u001b[0;34m)\u001b[0m\u001b[0;34m\u001b[0m\u001b[0;34m\u001b[0m\u001b[0m\n\u001b[0m\u001b[1;32m    334\u001b[0m                 \u001b[0mindptr\u001b[0m\u001b[0;34m.\u001b[0m\u001b[0mappend\u001b[0m\u001b[0;34m(\u001b[0m\u001b[0mlen\u001b[0m\u001b[0;34m(\u001b[0m\u001b[0mindices\u001b[0m\u001b[0;34m)\u001b[0m\u001b[0;34m)\u001b[0m\u001b[0;34m\u001b[0m\u001b[0;34m\u001b[0m\u001b[0m\n\u001b[1;32m    335\u001b[0m             \u001b[0mdata\u001b[0m \u001b[0;34m=\u001b[0m \u001b[0mnp\u001b[0m\u001b[0;34m.\u001b[0m\u001b[0mones\u001b[0m\u001b[0;34m(\u001b[0m\u001b[0mlen\u001b[0m\u001b[0;34m(\u001b[0m\u001b[0mindices\u001b[0m\u001b[0;34m)\u001b[0m\u001b[0;34m,\u001b[0m \u001b[0mdtype\u001b[0m\u001b[0;34m=\u001b[0m\u001b[0mint\u001b[0m\u001b[0;34m)\u001b[0m\u001b[0;34m\u001b[0m\u001b[0;34m\u001b[0m\u001b[0m\n",
      "\u001b[0;32m~/opt/anaconda3/lib/python3.7/site-packages/sklearn/multiclass.py\u001b[0m in \u001b[0;36m_predict_binary\u001b[0;34m(estimator, X)\u001b[0m\n\u001b[1;32m     92\u001b[0m         \u001b[0;32mreturn\u001b[0m \u001b[0mestimator\u001b[0m\u001b[0;34m.\u001b[0m\u001b[0mpredict\u001b[0m\u001b[0;34m(\u001b[0m\u001b[0mX\u001b[0m\u001b[0;34m)\u001b[0m\u001b[0;34m\u001b[0m\u001b[0;34m\u001b[0m\u001b[0m\n\u001b[1;32m     93\u001b[0m     \u001b[0;32mtry\u001b[0m\u001b[0;34m:\u001b[0m\u001b[0;34m\u001b[0m\u001b[0;34m\u001b[0m\u001b[0m\n\u001b[0;32m---> 94\u001b[0;31m         \u001b[0mscore\u001b[0m \u001b[0;34m=\u001b[0m \u001b[0mnp\u001b[0m\u001b[0;34m.\u001b[0m\u001b[0mravel\u001b[0m\u001b[0;34m(\u001b[0m\u001b[0mestimator\u001b[0m\u001b[0;34m.\u001b[0m\u001b[0mdecision_function\u001b[0m\u001b[0;34m(\u001b[0m\u001b[0mX\u001b[0m\u001b[0;34m)\u001b[0m\u001b[0;34m)\u001b[0m\u001b[0;34m\u001b[0m\u001b[0;34m\u001b[0m\u001b[0m\n\u001b[0m\u001b[1;32m     95\u001b[0m     \u001b[0;32mexcept\u001b[0m \u001b[0;34m(\u001b[0m\u001b[0mAttributeError\u001b[0m\u001b[0;34m,\u001b[0m \u001b[0mNotImplementedError\u001b[0m\u001b[0;34m)\u001b[0m\u001b[0;34m:\u001b[0m\u001b[0;34m\u001b[0m\u001b[0;34m\u001b[0m\u001b[0m\n\u001b[1;32m     96\u001b[0m         \u001b[0;31m# probabilities of the positive class\u001b[0m\u001b[0;34m\u001b[0m\u001b[0;34m\u001b[0m\u001b[0;34m\u001b[0m\u001b[0m\n",
      "\u001b[0;32m~/opt/anaconda3/lib/python3.7/site-packages/sklearn/svm/_base.py\u001b[0m in \u001b[0;36mdecision_function\u001b[0;34m(self, X)\u001b[0m\n\u001b[1;32m    561\u001b[0m         \u001b[0mtransformation\u001b[0m \u001b[0mof\u001b[0m \u001b[0movo\u001b[0m \u001b[0mdecision\u001b[0m \u001b[0mfunction\u001b[0m\u001b[0;34m.\u001b[0m\u001b[0;34m\u001b[0m\u001b[0;34m\u001b[0m\u001b[0m\n\u001b[1;32m    562\u001b[0m         \"\"\"\n\u001b[0;32m--> 563\u001b[0;31m         \u001b[0mdec\u001b[0m \u001b[0;34m=\u001b[0m \u001b[0mself\u001b[0m\u001b[0;34m.\u001b[0m\u001b[0m_decision_function\u001b[0m\u001b[0;34m(\u001b[0m\u001b[0mX\u001b[0m\u001b[0;34m)\u001b[0m\u001b[0;34m\u001b[0m\u001b[0;34m\u001b[0m\u001b[0m\n\u001b[0m\u001b[1;32m    564\u001b[0m         \u001b[0;32mif\u001b[0m \u001b[0mself\u001b[0m\u001b[0;34m.\u001b[0m\u001b[0mdecision_function_shape\u001b[0m \u001b[0;34m==\u001b[0m \u001b[0;34m'ovr'\u001b[0m \u001b[0;32mand\u001b[0m \u001b[0mlen\u001b[0m\u001b[0;34m(\u001b[0m\u001b[0mself\u001b[0m\u001b[0;34m.\u001b[0m\u001b[0mclasses_\u001b[0m\u001b[0;34m)\u001b[0m \u001b[0;34m>\u001b[0m \u001b[0;36m2\u001b[0m\u001b[0;34m:\u001b[0m\u001b[0;34m\u001b[0m\u001b[0;34m\u001b[0m\u001b[0m\n\u001b[1;32m    565\u001b[0m             \u001b[0;32mreturn\u001b[0m \u001b[0m_ovr_decision_function\u001b[0m\u001b[0;34m(\u001b[0m\u001b[0mdec\u001b[0m \u001b[0;34m<\u001b[0m \u001b[0;36m0\u001b[0m\u001b[0;34m,\u001b[0m \u001b[0;34m-\u001b[0m\u001b[0mdec\u001b[0m\u001b[0;34m,\u001b[0m \u001b[0mlen\u001b[0m\u001b[0;34m(\u001b[0m\u001b[0mself\u001b[0m\u001b[0;34m.\u001b[0m\u001b[0mclasses_\u001b[0m\u001b[0;34m)\u001b[0m\u001b[0;34m)\u001b[0m\u001b[0;34m\u001b[0m\u001b[0;34m\u001b[0m\u001b[0m\n",
      "\u001b[0;32m~/opt/anaconda3/lib/python3.7/site-packages/sklearn/svm/_base.py\u001b[0m in \u001b[0;36m_decision_function\u001b[0;34m(self, X)\u001b[0m\n\u001b[1;32m    392\u001b[0m \u001b[0;34m\u001b[0m\u001b[0m\n\u001b[1;32m    393\u001b[0m         \u001b[0;32mif\u001b[0m \u001b[0mself\u001b[0m\u001b[0;34m.\u001b[0m\u001b[0m_sparse\u001b[0m\u001b[0;34m:\u001b[0m\u001b[0;34m\u001b[0m\u001b[0;34m\u001b[0m\u001b[0m\n\u001b[0;32m--> 394\u001b[0;31m             \u001b[0mdec_func\u001b[0m \u001b[0;34m=\u001b[0m \u001b[0mself\u001b[0m\u001b[0;34m.\u001b[0m\u001b[0m_sparse_decision_function\u001b[0m\u001b[0;34m(\u001b[0m\u001b[0mX\u001b[0m\u001b[0;34m)\u001b[0m\u001b[0;34m\u001b[0m\u001b[0;34m\u001b[0m\u001b[0m\n\u001b[0m\u001b[1;32m    395\u001b[0m         \u001b[0;32melse\u001b[0m\u001b[0;34m:\u001b[0m\u001b[0;34m\u001b[0m\u001b[0;34m\u001b[0m\u001b[0m\n\u001b[1;32m    396\u001b[0m             \u001b[0mdec_func\u001b[0m \u001b[0;34m=\u001b[0m \u001b[0mself\u001b[0m\u001b[0;34m.\u001b[0m\u001b[0m_dense_decision_function\u001b[0m\u001b[0;34m(\u001b[0m\u001b[0mX\u001b[0m\u001b[0;34m)\u001b[0m\u001b[0;34m\u001b[0m\u001b[0;34m\u001b[0m\u001b[0m\n",
      "\u001b[0;32m~/opt/anaconda3/lib/python3.7/site-packages/sklearn/svm/_base.py\u001b[0m in \u001b[0;36m_sparse_decision_function\u001b[0;34m(self, X)\u001b[0m\n\u001b[1;32m    439\u001b[0m             \u001b[0mself\u001b[0m\u001b[0;34m.\u001b[0m\u001b[0mnu\u001b[0m\u001b[0;34m,\u001b[0m \u001b[0mself\u001b[0m\u001b[0;34m.\u001b[0m\u001b[0mepsilon\u001b[0m\u001b[0;34m,\u001b[0m \u001b[0mself\u001b[0m\u001b[0;34m.\u001b[0m\u001b[0mshrinking\u001b[0m\u001b[0;34m,\u001b[0m\u001b[0;34m\u001b[0m\u001b[0;34m\u001b[0m\u001b[0m\n\u001b[1;32m    440\u001b[0m             \u001b[0mself\u001b[0m\u001b[0;34m.\u001b[0m\u001b[0mprobability\u001b[0m\u001b[0;34m,\u001b[0m \u001b[0mself\u001b[0m\u001b[0;34m.\u001b[0m\u001b[0m_n_support\u001b[0m\u001b[0;34m,\u001b[0m\u001b[0;34m\u001b[0m\u001b[0;34m\u001b[0m\u001b[0m\n\u001b[0;32m--> 441\u001b[0;31m             self.probA_, self.probB_)\n\u001b[0m\u001b[1;32m    442\u001b[0m \u001b[0;34m\u001b[0m\u001b[0m\n\u001b[1;32m    443\u001b[0m     \u001b[0;32mdef\u001b[0m \u001b[0m_validate_for_predict\u001b[0m\u001b[0;34m(\u001b[0m\u001b[0mself\u001b[0m\u001b[0;34m,\u001b[0m \u001b[0mX\u001b[0m\u001b[0;34m)\u001b[0m\u001b[0;34m:\u001b[0m\u001b[0;34m\u001b[0m\u001b[0;34m\u001b[0m\u001b[0m\n",
      "\u001b[0;31mKeyboardInterrupt\u001b[0m: "
     ]
    }
   ],
   "source": [
    "\n",
    "        \n",
    "X_train_reduced, y_train_reduced = data_subsample_asserts_two_classes(X_train_np, y_train_np, 100)\n",
    "print(\"Number of training instances: \", X_train_reduced.shape[0] )\n",
    "\n",
    "# Bag of words approach\n",
    "# CountVectorizer has the benefit of producing a sparse representation of the counts \n",
    "vectorizer = CountVectorizer( max_df=0.95, min_df=2, max_features = None, stop_words='english')\n",
    "tfidf_transformer = TfidfTransformer()\n",
    "\n",
    "X_train_counts = vectorizer.fit_transform(X_train_reduced.ravel())\n",
    "X_train_tfidf = tfidf_transformer.fit_transform(X_train_counts)\n",
    "# Rough search for a good estimate of C and gamma\n",
    "x_test_unrvld = vectorizer.transform(X_test_np.ravel())\n",
    "\n",
    "C = 0.1* np.power(10,np.arange(2))\n",
    "gamma = 1/np.power(10,np.arange(2))\n",
    "\n",
    "kernels_ = {'rbf': { 'gamma': gamma,'C': C},\n",
    "            'linear': {'gamma': [], 'C': C}}\n",
    "\n",
    "accs = { 'val_acc': {'rbf': {'C' : [], 'gamma' : []},\n",
    "                     'linear': {'C' : [], 'gamma' : []}\n",
    "                    },\n",
    "        'train_acc': {'rbf': {'C' : [], 'gamma' : []},\n",
    "                     'linear': {'C' : [], 'gamma' : []}} \n",
    "       }\n",
    "params = ['C', 'gamma']\n",
    "for k in kernels_:\n",
    "    for p in params:\n",
    "        # k = string kernel_name\n",
    "        # kernel_ = dictionary with testing parameters\n",
    "        kernel_ = kernels_[k]\n",
    "        par_list = kernel_[p]\n",
    "        print('-'*100)\n",
    "        print('Using kernel ', k)\n",
    "        print('Testing parameter, {}: {}'.format(p, par_list))\n",
    "\n",
    "        accs['train_acc'][k][p], accs['val_acc'][k][p] = find_SVM_params(par_list, p, k,\n",
    "                                         X_train_tfidf, y_train_reduced,\n",
    "                                         x_test_unrvld, y_test_np)\n",
    "opt_Linear_C = C[np.argmax(accs['val_acc']['linear']['C'])]\n",
    "opt_rbf_C = C[np.argmax(accs['val_acc']['rbf']['C'])]\n",
    "opt_rbf_gamma = gamma[np.argmax(accs['val_acc']['rbf']['gamma'])]\n",
    "\n",
    "print(\"Optimal value of C for validation set on linear kernel:\", opt_Linear_C)\n",
    "print(\"Optimal value of gamma for validation set on rbf kernel:\", opt_rbf_gamma)\n",
    "print(\"Optimal value of C for validation set on rbf kernel:\", opt_rbf_C)"
   ]
  },
  {
   "cell_type": "code",
   "execution_count": 107,
   "metadata": {},
   "outputs": [
    {
     "data": {
      "image/png": "[encoded data removed]",
      "text/plain": [
       "<Figure size 432x288 with 1 Axes>"
      ]
     },
     "metadata": {
      "needs_background": "light"
     },
     "output_type": "display_data"
    },
    {
     "data": {
      "image/png": "[encoded data removed]",
      "text/plain": [
       "<Figure size 432x288 with 1 Axes>"
      ]
     },
     "metadata": {
      "needs_background": "light"
     },
     "output_type": "display_data"
    },
    {
     "data": {
      "image/png": "[encoded data removed]",
      "text/plain": [
       "<Figure size 432x288 with 1 Axes>"
      ]
     },
     "metadata": {
      "needs_background": "light"
     },
     "output_type": "display_data"
    }
   ],
   "source": [
    "opt_Linear_C = accs['val_acc']['linear']['C']\n",
    "opt_rbf_C = accs['val_acc']['rbf']['C']\n",
    "opt_rbf_gamma = accs['val_acc']['rbf']['gamma']\n",
    "\n",
    "plot_acc_params(C, accs['train_acc']['linear']['C'], accs['val_acc']['linear']['C'], 'C', 'Linear kernel')\n",
    "plot_acc_params(C, accs['train_acc']['rbf']['C'], accs['val_acc']['rbf']['C'], 'C', 'Gaussian kernel')\n",
    "plot_acc_params(gamma, accs['train_acc']['rbf']['gamma'], accs['val_acc']['rbf']['gamma'], 'gamma', 'Gaussian kernel')\n",
    "\n",
    "# plot_acc_params(gamma_, training_acc, val_acc, 'gamma')"
   ]
  },
  {
   "cell_type": "markdown",
   "metadata": {},
   "source": [
    "### Text preprocessing\n"
   ]
  },
  {
   "cell_type": "markdown",
   "metadata": {},
   "source": [
    "Hér er þá búið að preprocessa textann"
   ]
  },
  {
   "cell_type": "code",
   "execution_count": 9,
   "metadata": {},
   "outputs": [],
   "source": [
    "def getProcessedText(dataset):\n",
    "    x_train = dataset['comment_text'].to_numpy()\n",
    "    for i in range(len(x_train)):\n",
    "        x_train[i] = textpreprocess(x_train[i])\n",
    "    return x_train"
   ]
  },
  {
   "cell_type": "code",
   "execution_count": 10,
   "metadata": {},
   "outputs": [],
   "source": [
    "x_train = train_data['comment_text'].to_numpy()\n",
    "for i in range(len(x_train)):\n",
    "    x_train[i] = text_processor.textPreprocess(x_train[i])"
   ]
  },
  {
   "cell_type": "code",
   "execution_count": 11,
   "metadata": {},
   "outputs": [
    {
     "ename": "NameError",
     "evalue": "name 'maxlen' is not defined",
     "output_type": "error",
     "traceback": [
      "\u001b[0;31m---------------------------------------------------------------------------\u001b[0m",
      "\u001b[0;31mNameError\u001b[0m                                 Traceback (most recent call last)",
      "\u001b[0;32m<ipython-input-11-878a6f7211f3>\u001b[0m in \u001b[0;36m<module>\u001b[0;34m\u001b[0m\n\u001b[1;32m      2\u001b[0m \u001b[0;34m\u001b[0m\u001b[0m\n\u001b[1;32m      3\u001b[0m \u001b[0;32mfor\u001b[0m \u001b[0mcomment\u001b[0m \u001b[0;32min\u001b[0m \u001b[0mtrain_data\u001b[0m\u001b[0;34m[\u001b[0m\u001b[0;34m'comment_text'\u001b[0m\u001b[0;34m]\u001b[0m\u001b[0;34m:\u001b[0m\u001b[0;34m\u001b[0m\u001b[0;34m\u001b[0m\u001b[0m\n\u001b[0;32m----> 4\u001b[0;31m     \u001b[0;32mif\u001b[0m \u001b[0mlen\u001b[0m\u001b[0;34m(\u001b[0m\u001b[0mcomment\u001b[0m\u001b[0;34m)\u001b[0m \u001b[0;34m>\u001b[0m \u001b[0mmaxlen\u001b[0m\u001b[0;34m:\u001b[0m\u001b[0;34m\u001b[0m\u001b[0;34m\u001b[0m\u001b[0m\n\u001b[0m\u001b[1;32m      5\u001b[0m         \u001b[0mmax_comment_length\u001b[0m \u001b[0;34m=\u001b[0m \u001b[0mlen\u001b[0m\u001b[0;34m(\u001b[0m\u001b[0mcomment\u001b[0m\u001b[0;34m)\u001b[0m\u001b[0;34m\u001b[0m\u001b[0;34m\u001b[0m\u001b[0m\n\u001b[1;32m      6\u001b[0m \u001b[0mprint\u001b[0m\u001b[0;34m(\u001b[0m\u001b[0mmaxlen\u001b[0m\u001b[0;34m)\u001b[0m\u001b[0;34m\u001b[0m\u001b[0;34m\u001b[0m\u001b[0m\n",
      "\u001b[0;31mNameError\u001b[0m: name 'maxlen' is not defined"
     ]
    }
   ],
   "source": [
    "max_comment_length = len(train_data['comment_text'][0])\n",
    "\n",
    "for comment in train_data['comment_text']:\n",
    "    if len(comment) > maxlen:\n",
    "        max_comment_length = len(comment)\n",
    "print(maxlen)"
   ]
  },
  {
   "cell_type": "markdown",
   "metadata": {},
   "source": [
    "Prófa að exclude-a bara toxic dálkinn og gera model á honum"
   ]
  },
  {
   "cell_type": "code",
   "execution_count": null,
   "metadata": {},
   "outputs": [],
   "source": [
    "toxicCol = train_data['toxic']\n",
    "classes = [\"toxic\",\"severe_toxic\",\"obscene\",\"threat\",\"insult\",\"identity_hate\"]"
   ]
  },
  {
   "cell_type": "code",
   "execution_count": null,
   "metadata": {},
   "outputs": [],
   "source": [
    "# X_train = train_data['comment_text'].to_numpy()\n",
    "X_train = x_train\n",
    "# y_train = (train_data.values[:,2:])\n",
    "y_train = toxicCol\n",
    "print(len(toxicCol), len(X_train))\n",
    "# Set aside validation data for monitoring training progress\n",
    "\n",
    "assert len(X_train) == len(y_train)\n",
    "X_train, X_test, y_train, y_test = train_test_split(X_train, y_train, test_size=0.2)\n",
    "\n",
    "print('=================')\n",
    "print('|','train_data shape:', X_train.shape)\n",
    "print('|',X_train.shape[0], 'train samples')\n",
    "print('|',y_test.shape[0], 'test samples')\n",
    "print('=================')"
   ]
  },
  {
   "cell_type": "code",
   "execution_count": null,
   "metadata": {},
   "outputs": [],
   "source": [
    "max_words = 20000 # <- spurning um hvað þetta eigi að vera\n",
    "\n",
    "tokenizer = text.Tokenizer(num_words=max_words)\n",
    "num_classes = 6\n",
    "\n",
    "tokenizer.fit_on_texts(list(X_train))\n",
    "tokTrain = tokenizer.texts_to_sequences(X_train)\n",
    "tokTest = tokenizer.texts_to_sequences(X_test)\n",
    "\n",
    "x_train=sequence.pad_sequences(tokTrain, maxlen=max_comment_length)\n",
    "x_test=sequence.pad_sequences(tokTest, maxlen=max_comment_length)\n"
   ]
  },
  {
   "cell_type": "code",
   "execution_count": null,
   "metadata": {},
   "outputs": [],
   "source": [
    "model = Sequential()\n",
    "model.add(Dense(512,input_shape=(max_comment_length,)))\n",
    "model.add(Activation('relu'))\n",
    "model.add(Dropout(0.5))\n",
    "model.add(Dense(num_classes))\n",
    "model.add(Activation('softmax'))\n",
    "model.compile(optimizer=Adadelta(),\n",
    "          loss = 'sparse_categorical_crossentropy',\n",
    "            metrics=['accuracy'])"
   ]
  },
  {
   "cell_type": "code",
   "execution_count": null,
   "metadata": {},
   "outputs": [],
   "source": [
    "batch_size = 32\n",
    "epochs = 2\n",
    "history = model.fit(x_train, y_train, batch_size=batch_size, epochs=epochs, verbose = 1,\n",
    "                    validation_split=0.1)\n",
    "score = model.evaluate(x_test, y_test, batch_size=batch_size, verbose=1)\n",
    "\n",
    "print('Test acc: {}'.format(score[1]))"
   ]
  }
 ],
 "metadata": {
  "kernelspec": {
   "display_name": "Python 3",
   "language": "python",
   "name": "python3"
  },
  "language_info": {
   "codemirror_mode": {
    "name": "ipython",
    "version": 3
   },
   "file_extension": ".py",
   "mimetype": "text/x-python",
   "name": "python",
   "nbconvert_exporter": "python",
   "pygments_lexer": "ipython3",
   "version": "3.7.4"
  }
 },
 "nbformat": 4,
 "nbformat_minor": 2
}
