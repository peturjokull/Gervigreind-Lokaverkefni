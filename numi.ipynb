{
 "cells": [
  {
   "cell_type": "markdown",
   "metadata": {},
   "source": [
    "#### Pakkar"
   ]
  },
  {
   "cell_type": "code",
   "execution_count": 1,
   "metadata": {},
   "outputs": [
    {
     "name": "stderr",
     "output_type": "stream",
     "text": [
      "/Users/numisteinn/opt/anaconda3/lib/python3.7/site-packages/sklearn/utils/deprecation.py:144: FutureWarning: The sklearn.feature_extraction.stop_words module is  deprecated in version 0.22 and will be removed in version 0.24. The corresponding classes / functions should instead be imported from sklearn.feature_extraction.text. Anything that cannot be imported from sklearn.feature_extraction.text is now part of the private API.\n",
      "  warnings.warn(message, FutureWarning)\n"
     ]
    }
   ],
   "source": [
    "# Our Libraries \n",
    "from ourModules import text_processor\n",
    "from ourModules import toxic_comment_Classifier"
   ]
  },
  {
   "cell_type": "code",
   "execution_count": 293,
   "metadata": {},
   "outputs": [],
   "source": [
    "# Libraries ---------------------------------\n",
    "import matplotlib.pyplot as plt\n",
    "import numpy as np\n",
    "import pandas as pd\n",
    "from sklearn.feature_extraction import stop_words\n",
    "import string\n",
    "from tensorflow.python.keras.preprocessing import text, sequence\n",
    "from sklearn.model_selection import train_test_split\n",
    "from tensorflow.python.keras.models import Sequential\n",
    "from tensorflow.python.keras.layers import Dense, Activation, Dropout\n",
    "from tensorflow.python.keras.optimizers import Adadelta\n",
    "import scipy.sparse\n",
    "from sklearn.svm import SVC\n",
    "from sklearn.feature_extraction.text import CountVectorizer\n",
    "from sklearn.feature_extraction.text import TfidfTransformer\n",
    "from sklearn.multioutput import MultiOutputClassifier\n",
    "from sklearn.multiclass import OneVsRestClassifier\n",
    "from sklearn.ensemble import RandomForestClassifier\n",
    "from sklearn.model_selection import GridSearchCV\n",
    "import warnings; \n",
    "# # %tensorflow_version 1.x\n",
    "# import tensorflow\n",
    "# print(tensorflow.__version__)\n",
    "import tensorflow as tf"
   ]
  },
  {
   "cell_type": "code",
   "execution_count": 4,
   "metadata": {},
   "outputs": [],
   "source": [
    "tf.compat.v1.disable_eager_execution()"
   ]
  },
  {
   "cell_type": "markdown",
   "metadata": {},
   "source": [
    "#### Innlestur gagna"
   ]
  },
  {
   "cell_type": "code",
   "execution_count": 5,
   "metadata": {},
   "outputs": [],
   "source": [
    "train_data = pd.read_csv('data/train.csv',delimiter=',')\n",
    "train_data.drop('id',axis=1,inplace=True) # Id er gagnslaust til ad spa\n",
    "# test_labeled_data = pd.read_csv('data/test_labels.csv',delimiter=',') # Will most likely not be used\n",
    "\n"
   ]
  },
  {
   "cell_type": "markdown",
   "metadata": {},
   "source": [
    "### Gagnasettið\n",
    "Hér má sjá gagnasettið sem við þjálfum módelið á. Við erum með comment_text og hann er búið að greina (0 eða 1) hvort hann sé toxic, severe_toxic, obscene, threat, insult eða identity_hate."
   ]
  },
  {
   "cell_type": "code",
   "execution_count": 6,
   "metadata": {},
   "outputs": [],
   "source": [
    "# Nota þetta til að testa loka módelið\n",
    "cols = list(train_data)\n",
    "X_train_data = train_data.drop(columns = cols[1:])\n",
    "y_train_data = train_data.drop(columns = cols[:1])\n",
    "\n",
    "# 80/20 train/test split\n",
    "# Mögulega þarf að nota sklearn.cross_validation.StratifiedShuffleSplit frekar til að halda svipuðu \n",
    "X_train, X_test, y_train, y_test = train_test_split(X_train_data, y_train_data, test_size=0.2, random_state=12)\n",
    "X_train_np, X_test_np, y_train_np, y_test_np = X_train.to_numpy(), X_test.to_numpy(), y_train.to_numpy(), y_test.to_numpy()\n"
   ]
  },
  {
   "cell_type": "code",
   "execution_count": 7,
   "metadata": {},
   "outputs": [
    {
     "data": {
      "image/png": "[encoded data removed]",
      "text/plain": [
       "<Figure size 432x288 with 6 Axes>"
      ]
     },
     "metadata": {
      "needs_background": "light"
     },
     "output_type": "display_data"
    },
    {
     "name": "stdout",
     "output_type": "stream",
     "text": [
      "Number of instances marked with toxic: \t 12143/127656 or 9.51%\n",
      "Number of instances marked with severe_toxic: \t 1265/127656 or 0.99%\n",
      "Number of instances marked with obscene: \t 6714/127656 or 5.26%\n",
      "Number of instances marked with threat: \t 387/127656 or 0.30%\n",
      "Number of instances marked with insult: \t 6275/127656 or 4.92%\n",
      "Number of instances marked with identity_hate: \t 1117/127656 or 0.88%\n"
     ]
    }
   ],
   "source": [
    "# Visualize distribution of y\n",
    "n_bins = 2\n",
    "fig, axes = plt.subplots(nrows=2, ncols=3)\n",
    "axs = axes.flatten()\n",
    "i = 0\n",
    "for col in cols[1:]:\n",
    "    axs[i].hist(y_train[col], n_bins, density=True, histtype='bar')\n",
    "    axs[i].set_title(col)\n",
    "    i +=1\n",
    "fig.tight_layout()\n",
    "plt.show()\n",
    "# Notice skewed dataset\n",
    "for col in cols[1:]:\n",
    "    cnt = np.count_nonzero(y_train[col])\n",
    "    print('Number of instances marked with {}: \\t {}/{} or {:.2%}'.format(col, cnt,\n",
    "                                                                    y_train_np.shape[0], cnt/y_train_np.shape[0]) )"
   ]
  },
  {
   "cell_type": "code",
   "execution_count": 234,
   "metadata": {},
   "outputs": [
    {
     "name": "stdout",
     "output_type": "stream",
     "text": [
      "All-zero guess row accuracy on data is: 89.89%\n"
     ]
    }
   ],
   "source": [
    "def get_row_accuracy(y_true, y_pred):\n",
    "    acc = np.sum(y_true == y_pred, axis = 1)\n",
    "    return np.average(np.where(acc == 6, 1, 0), axis = 0)\n",
    "\n",
    "n,m = y_train_np.shape\n",
    "y_pred = np.zeros(n)\n",
    "\n",
    "rowindx, colindx = np.nonzero(y_train_np)\n",
    "rwi = np.unique(rowindx)\n",
    "# print('Number of rows with at least one none-zero value ', len(rwi))\n",
    "# non_zero_y_train = y_train_np[rwi]\n",
    "# # for i in range(m):\n",
    "# #     print('All-zero guess accuracy on data for {} is: {:.2%}'.format(cols[i+1], np.average(y_pred == y_train_np[:, i])))\n",
    "# #     print('All-zero guess accuracy for {} but all-zero-rows removed is: {:.2%}'.format(cols[i+1],\n",
    "# #                                                                 np.average(y_pred[rwi] == non_zero_y_train[:, i])))\n",
    "# #     print('-'*100)\n",
    "\n",
    "print('All-zero guess row accuracy on data is: {:.2%}'.format(get_row_accuracy(y_train_np, y_pred_mat)))"
   ]
  },
  {
   "cell_type": "markdown",
   "metadata": {},
   "source": [
    "### State Vector Machine / Baseline Model\n",
    "\n",
    "\n"
   ]
  },
  {
   "cell_type": "markdown",
   "metadata": {},
   "source": [
    "Lets build our first model. We start by making a simple SVM, which is widely regarded as one of the best text classification algorithms. This baseline classifier which treats the labels independently by training a binary classifier on each label separately. This initial model does not implement multilable classifaction in the best way nor does it take into account the skewed data."
   ]
  },
  {
   "cell_type": "code",
   "execution_count": 92,
   "metadata": {},
   "outputs": [],
   "source": [
    "\n",
    "# subsamples the data but makes sure all y columns include 2 classes\n",
    "def data_subsample_asserts_two_classes(X, y, n):\n",
    "    # Select a random subset of the training data\n",
    "    max_tries = 15\n",
    "    tries = 0\n",
    "    while tries < max_tries:\n",
    "        perm = np.random.permutation(len(y))\n",
    "        X_sub=X[perm[0:n],:]\n",
    "        y_sub=y[perm[0:n]]\n",
    "        count = 0\n",
    "        length = y_sub.shape[1]\n",
    "        for i in range(length):\n",
    "            # Make sure all columns have 2 classes\n",
    "            if len(np.unique(y_sub[:,i])) < 2:\n",
    "                break\n",
    "            if i == (length-1):\n",
    "                print('Data subsampling succsessful!')\n",
    "                return X_sub, y_sub\n",
    "        tries += 1\n",
    "#         print(\"Data subsampling failed in {} try. Trying again.\".format(tries) )\n",
    "#         print('-'*100)\n",
    "    print(\"Data subsampling failed in {} tries\".format(max_tries))\n",
    "    return 0,0\n"
   ]
  },
  {
   "cell_type": "code",
   "execution_count": 387,
   "metadata": {},
   "outputs": [],
   "source": [
    "\n",
    "def plot_acc_params(param, train_acc_, val_acc_, param_name, title):\n",
    "    plt.plot(param, train_acc_,label='Training accuracy')\n",
    "    plt.plot(param, val_acc_,label='Validation accuracy')\n",
    "    plt.title(title)\n",
    "    plt.xlabel(param_name)\n",
    "    plt.ylabel('Accuracy')\n",
    "    plt.legend()\n",
    "    plt.show()\n",
    "\n",
    "def find_best_SVM_params(Cs, gammas, kernel_, xtrain, ytrain, xval, yval):\n",
    "    training_acc = np.zeros(len(Cs))\n",
    "    val_acc = np.zeros(len(Cs))\n",
    "    # ignores the gamma values if linear\n",
    "    if kernel_ != 'linear':\n",
    "        training_acc = np.zeros((len(Cs), len(gammas)))\n",
    "        val_acc = np.zeros((len(Cs), len(gammas)))\n",
    "    \n",
    "    for i in range(len(Cs)):\n",
    "        print(\"c: \", Cs[i])\n",
    "        if kernel_ != 'linear':\n",
    "            for j in range(len(gammas)):\n",
    "                print(\"gamma: \", gammas[j], end =\" \")\n",
    "                clf = OneVsRestClassifier(SVC(gamma=gammas[j], C = Cs[i], kernel = kernel_))\n",
    "                clf.fit(xtrain, ytrain)\n",
    "                val_acc[i, j] = get_row_accuracy(yval, clf.predict(xval))\n",
    "                training_acc[i, j] = get_row_accuracy(ytrain, clf.predict(xtrain))\n",
    "            print()\n",
    "        else:\n",
    "            clf = OneVsRestClassifier(SVC(C = Cs[i], kernel = kernel_))\n",
    "            clf.fit(xtrain, ytrain)\n",
    "            val_acc[i] = get_row_accuracy(yval, clf.predict(xval))\n",
    "            training_acc[i] = get_row_accuracy(ytrain, clf.predict(xtrain))\n",
    "#     print('Train acc \\n', training_acc)\n",
    "#     print('Validation acc \\n', val_acc)\n",
    "    return training_acc, val_acc\n",
    "\n",
    "# Utility function to move the midpoint of a colormap to be around\n",
    "# the values of interest.\n",
    "class MidpointNormalize(Normalize):\n",
    "\n",
    "    def __init__(self, vmin=None, vmax=None, midpoint=None, clip=False):\n",
    "        self.midpoint = midpoint\n",
    "        Normalize.__init__(self, vmin, vmax, clip)\n",
    "\n",
    "    def __call__(self, value, clip=None):\n",
    "        x, y = [self.vmin, self.midpoint, self.vmax], [0, 0.5, 1]\n",
    "        return np.ma.masked_array(np.interp(value, x, y))\n",
    "\n",
    "def plot_heatmap(data_matrix, title, xlabel, ylabel, x_values, y_values, vmin_, midpoint_):\n",
    "    plt.figure(figsize=(8, 6))\n",
    "    plt.subplots_adjust(left=.2, right=0.95, bottom=0.15, top=0.95)\n",
    "    plt.imshow(data_matrix, interpolation='nearest', cmap=plt.cm.hot,\n",
    "               norm=MidpointNormalize(vmin=vmin_, midpoint=midpoint_))\n",
    "    plt.xlabel(xlabel)\n",
    "    plt.ylabel(ylabel)\n",
    "    plt.colorbar()\n",
    "    \n",
    "    \n",
    "    plt.xticks(np.arange(len(x_values)), x_values, rotation=45)\n",
    "    plt.yticks(np.arange(len(y_values)), y_values)\n",
    "    plt.title(title)\n",
    "    plt.show()\n"
   ]
  },
  {
   "cell_type": "code",
   "execution_count": 245,
   "metadata": {},
   "outputs": [
    {
     "name": "stdout",
     "output_type": "stream",
     "text": [
      "Data subsampling succsessful!\n",
      "Number of training instances:  5000\n",
      "----------------------------------------------------------------------------------------------------\n",
      "Using kernel  rbf\n",
      "Testing parameters, C: [1.e-02 1.e-01 1.e+00 1.e+01 1.e+02],\n",
      "gamma: [1.    0.1   0.01  0.001]\n",
      "c:  0.01\n",
      "gamma:  1.0 gamma:  0.1 gamma:  0.01 gamma:  0.001 \n",
      "c:  0.1\n",
      "gamma:  1.0 gamma:  0.1 gamma:  0.01 gamma:  0.001 \n",
      "c:  1.0\n",
      "gamma:  1.0 gamma:  0.1 gamma:  0.01 gamma:  0.001 \n",
      "c:  10.0\n",
      "gamma:  1.0 gamma:  0.1 gamma:  0.01 gamma:  0.001 \n",
      "c:  100.0\n",
      "gamma:  1.0 gamma:  0.1 gamma:  0.01 gamma:  0.001 \n",
      "----------------------------------------------------------------------------------------------------\n",
      "Using kernel  linear\n",
      "Testing parameters, C: [1.e-02 1.e-01 1.e+00 1.e+01 1.e+02],\n",
      "gamma: [1.    0.1   0.01  0.001]\n",
      "c:  0.01\n",
      "c:  0.1\n",
      "c:  1.0\n",
      "c:  10.0\n",
      "c:  100.0\n",
      "For rbf kernal\n",
      "Optimal combination is,  C: 10.0, gamma: 0.01\n",
      "Giving the validation accuracy: 90.94%\n",
      "For linear kernal\n",
      "Optimal C is: 0.1\n",
      "Giving the validation accuracy: 90.61%\n",
      "CPU times: user 13min 54s, sys: 2.25 s, total: 13min 56s\n",
      "Wall time: 12min 46s\n"
     ]
    }
   ],
   "source": [
    "%%time\n",
    "X_train_reduced, y_train_reduced = data_subsample_asserts_two_classes(X_train_np, y_train_np, 5000)\n",
    "print(\"Number of training instances: \", X_train_reduced.shape[0])\n",
    "\n",
    "# Bag of words approach\n",
    "# CountVectorizer has the benefit of producing a sparse representation of the counts \n",
    "vectorizer = CountVectorizer( max_df=0.95, min_df=2, max_features = None, stop_words='english')\n",
    "tfidf_transformer = TfidfTransformer()\n",
    "\n",
    "X_train_counts = vectorizer.fit_transform(X_train_reduced.ravel())\n",
    "X_train_tfidf = tfidf_transformer.fit_transform(X_train_counts)\n",
    "# Rough search for a good estimate of C and gamma\n",
    "x_test_unrvld = vectorizer.transform(X_test_np.ravel())\n",
    "\n",
    "C = 0.01* np.power(10,np.arange(5))\n",
    "gamma = 1/np.power(10,np.arange(4))\n",
    "\n",
    "accs = { 'val_acc': {'rbf': np.zeros((len(C), len(gamma))),\n",
    "                     'linear': np.zeros(len(C)) },\n",
    "        'train_acc': {'rbf': np.zeros((len(C), len(gamma))),\n",
    "                     'linear': np.zeros(len(C)) } \n",
    "       }\n",
    "kernels = ['rbf', 'linear']\n",
    "for kernel in kernels:\n",
    "    print('-'*100)\n",
    "    print('Using kernel ', kernel)\n",
    "    print('Testing parameters, C: {},\\ngamma: {}'.format(C, gamma))\n",
    "    tA, vA = find_best_SVM_params(C, gamma, kernel,\n",
    "                                     X_train_tfidf, y_train_reduced,\n",
    "                                     x_test_unrvld, y_test_np)\n",
    "    accs['train_acc'][kernel] = tA\n",
    "    accs['val_acc'][kernel] = vA\n",
    "\n",
    "rbfacc = accs['val_acc']['rbf']; linacc = accs['val_acc']['linear']\n",
    "Cind, gammaind = np.unravel_index(np.argmax(rbfacc, axis=None), rbfacc.shape)\n",
    "print('For rbf kernal')\n",
    "rbfOptparam = C[Cind], gamma[gammaind]\n",
    "print(\"Optimal combination is,  C: {}, gamma: {}\".format(rbfOptparam[0], rbfOptparam[1]))\n",
    "print(\"Giving the validation accuracy: {:.2%}\".format(rbfacc[Cind, gammaind]))\n",
    "\n",
    "Cindex = np.argmax(linacc)\n",
    "linearOptC = C[Cindex]\n",
    "print('For linear kernal')\n",
    "print(\"Optimal C is: {}\".format(linearOptC))\n",
    "print(\"Giving the validation accuracy: {:.2%}\".format(linacc[Cindex]))"
   ]
  },
  {
   "cell_type": "code",
   "execution_count": 247,
   "metadata": {},
   "outputs": [
    {
     "name": "stdout",
     "output_type": "stream",
     "text": [
      "For rbf kernal\n",
      "Optimal combination is,  C: 10.0, gamma: 0.01\n",
      "Giving the validation accuracy: 90.94%\n",
      "For linear kernal\n",
      "Optimal C is: 0.1\n",
      "Giving the validation accuracy: 90.61%\n"
     ]
    },
    {
     "data": {
      "image/png": "[encoded data removed]",
      "text/plain": [
       "<Figure size 576x432 with 2 Axes>"
      ]
     },
     "metadata": {
      "needs_background": "light"
     },
     "output_type": "display_data"
    },
    {
     "data": {
      "image/png": "[encoded data removed]",
      "text/plain": [
       "<Figure size 432x288 with 1 Axes>"
      ]
     },
     "metadata": {
      "needs_background": "light"
     },
     "output_type": "display_data"
    },
    {
     "data": {
      "image/png": "[encoded data removed]",
      "text/plain": [
       "<Figure size 432x288 with 1 Axes>"
      ]
     },
     "metadata": {
      "needs_background": "light"
     },
     "output_type": "display_data"
    }
   ],
   "source": [
    "rbfacc = accs['val_acc']['rbf']; linacc = accs['val_acc']['linear']\n",
    "Cind, gammaind = np.unravel_index(np.argmax(rbfacc, axis=None), rbfacc.shape)\n",
    "print('For rbf kernal')\n",
    "rbfOptparam = C[Cind], gamma[gammaind]\n",
    "print(\"Optimal combination is,  C: {}, gamma: {}\".format(rbfOptparam[0], rbfOptparam[1]))\n",
    "print(\"Giving the validation accuracy: {:.2%}\".format(rbfacc[Cind, gammaind]))\n",
    "\n",
    "linearOptC = C[np.argmax(linacc)]\n",
    "print('For linear kernal')\n",
    "print(\"Optimal C is: {}\".format(linearOptC))\n",
    "print(\"Giving the validation accuracy: {:.2%}\".format(linacc[Cindex]))\n",
    "\n",
    "plot_heatmap(rbfacc, 'Validation accuracy - rbf', 'gamma', 'C', gamma, C,\n",
    "             np.min(rbfacc) - 0.1, np.max(rbfacc)-0.05)\n",
    "plot_acc_params(np.log10(C), accs['train_acc']['linear'], accs['val_acc']['linear'], 'log(C)', 'Linear kernel')\n",
    "plot_acc_params(C, accs['train_acc']['linear'], accs['val_acc']['linear'], 'C', 'Linear kernel')\n"
   ]
  },
  {
   "cell_type": "code",
   "execution_count": 259,
   "metadata": {},
   "outputs": [
    {
     "name": "stdout",
     "output_type": "stream",
     "text": [
      "Data subsampling succsessful!\n",
      "Training size 50000\n",
      "Using optimal C: 0.1\n",
      "Test accuracy on linear kernel 91.12%\n",
      "CPU times: user 8min 13s, sys: 1.82 s, total: 8min 15s\n",
      "Wall time: 8min 8s\n"
     ]
    }
   ],
   "source": [
    "%%time\n",
    "def vectorize_data(X_train_):\n",
    "    vectorizer = CountVectorizer( max_df=0.95, min_df=2, max_features = None, stop_words='english')\n",
    "    tfidf_transformer = TfidfTransformer()\n",
    "    X_train_counts = vectorizer.fit_transform(X_train_.ravel())\n",
    "    X_train_tfidf = tfidf_transformer.fit_transform(X_train_counts)\n",
    "    return X_train_tfidf, vectorizer\n",
    "\n",
    "# Tekur ca 8min að keyra á 50þus train size\n",
    "train_size = 50000\n",
    "X_train_reduced, y_train_reduced = data_subsample_asserts_two_classes(X_train_np, y_train_np, train_size)\n",
    "X_train_reduced, vectorizer = vectorize_data(X_train_reduced)\n",
    "\n",
    "x_test_unrvld = vectorizer.transform(X_test_np.ravel())\n",
    "clf = OneVsRestClassifier(SVC(C = linearOptC, kernel = 'linear'))\n",
    "clf.fit(X_train_reduced, y_train_reduced)\n",
    "test_acc = get_row_accuracy(y_test_np, clf.predict(vectorizer.transform(X_test_np.ravel())))\n",
    "print('Training size', train_size)\n",
    "print('Using optimal C: {}'.format(linearOptC))\n",
    "print('Test accuracy on linear kernel {:.2%}'.format(test_acc))"
   ]
  },
  {
   "cell_type": "code",
   "execution_count": 261,
   "metadata": {},
   "outputs": [
    {
     "name": "stdout",
     "output_type": "stream",
     "text": [
      "Training size 50000\n",
      "Using optimal C: 10.0 and gamma: 0.01\n",
      "Test accuracy on rbf kernel 85.19%\n",
      "CPU times: user 7min 43s, sys: 1.6 s, total: 7min 44s\n",
      "Wall time: 7min 41s\n"
     ]
    }
   ],
   "source": [
    "%%time\n",
    "# Tekur ca 8min að keyra á 50þus train size\n",
    "print('Training size', train_size)\n",
    "print('Using optimal C: {} and gamma: {}'.format(rbfOptparam[0], rbfOptparam[1]))\n",
    "\n",
    "x_test_unrvld = vectorizer.transform(X_test_np.ravel())\n",
    "clf = OneVsRestClassifier(SVC(C = rbfOptparam[0], gamma = rbfOptparam[1], kernel = 'rbf'))\n",
    "clf.fit(X_train_reduced, y_train_reduced)\n",
    "\n",
    "y_pred = clf.predict(vectorizer.transform(X_test_np.ravel()))\n",
    "test_acc = get_row_accuracy(y_test_np, y_pred)\n",
    "\n",
    "print('Test accuracy on rbf kernel {:.2%}'.format(test_acc))"
   ]
  },
  {
   "cell_type": "markdown",
   "metadata": {},
   "source": [
    "### Random forrest\n"
   ]
  },
  {
   "cell_type": "code",
   "execution_count": 367,
   "metadata": {},
   "outputs": [
    {
     "name": "stdout",
     "output_type": "stream",
     "text": [
      "Data subsampling succsessful!\n",
      "depth range: range(50, 250, 50)\n",
      "features_range [60, 110, 160, 210, 260, 310, 360, 410, 'sqrt']\n",
      "Fitting 5 folds for each of 36 candidates, totalling 180 fits\n"
     ]
    },
    {
     "name": "stderr",
     "output_type": "stream",
     "text": [
      "[Parallel(n_jobs=-1)]: Using backend LokyBackend with 8 concurrent workers.\n",
      "[Parallel(n_jobs=-1)]: Done  25 tasks      | elapsed:   16.0s\n",
      "[Parallel(n_jobs=-1)]: Done 146 tasks      | elapsed:  2.2min\n",
      "[Parallel(n_jobs=-1)]: Done 180 out of 180 | elapsed:  2.9min finished\n"
     ]
    },
    {
     "name": "stdout",
     "output_type": "stream",
     "text": [
      "Optimal parameters for the grid are {'max_depth': 100, 'max_features': 310}s with a score of 92.48%\n",
      "CPU times: user 5.14 s, sys: 143 ms, total: 5.28 s\n",
      "Wall time: 2min 56s\n"
     ]
    }
   ],
   "source": [
    "%%time\n",
    "warnings.filterwarnings(\"ignore\") # ignore warnings for the purpose of readability\n",
    "\n",
    "train_size = 1000\n",
    "# tekur um 1min+ med 5 þúsund train size\n",
    "X_train_reduced, y_train_reduced = data_subsample_asserts_two_classes(X_train_np, y_train_np, train_size)\n",
    "X_train_reduced, vectorizer = vectorize_data(X_train_reduced)\n",
    "depth_range = range(50, 250, 50)\n",
    "features_range = np.arange(60, 420, 50).tolist()\n",
    "features_range.append('sqrt')\n",
    "print('depth range:', depth_range)\n",
    "print('features_range', features_range)\n",
    "\n",
    "parameters = {\n",
    "    'max_depth': depth_range,\n",
    "    'max_features': features_range\n",
    "}\n",
    "rf = RandomForestClassifier(n_estimators=100, oob_score=False)\n",
    "grid = GridSearchCV(rf, parameters, verbose=2, n_jobs=-1) #n_jobs=-1 notar alla kjarna\n",
    "grid.fit(X_train_reduced, y_train_reduced)\n",
    "print(\"Optimal parameters for the grid are {}s with a score of {:.2%}\".format(grid.best_params_, grid.best_score_))\n",
    "# Use our best RF model \n",
    "rf = RandomForestClassifier(\n",
    "    n_estimators=100,\n",
    "    max_depth=grid.best_params_['max_depth'],\n",
    "    max_features=grid.best_params_['max_features'],\n",
    "    oob_score=False\n",
    ")"
   ]
  },
  {
   "cell_type": "code",
   "execution_count": 374,
   "metadata": {},
   "outputs": [
    {
     "name": "stdout",
     "output_type": "stream",
     "text": [
      "depth range: range(50, 250, 50)\n",
      "features_range [60, 110, 160, 210, 260, 310, 360, 410, 'sqrt']\n",
      "193.15278926280098\n"
     ]
    }
   ],
   "source": [
    "depth_range = range(50, 250, 50)\n",
    "features_range = np.arange(60, 420, 50).tolist()\n",
    "features_range.append('sqrt')\n",
    "print('depth range:', depth_range)\n",
    "print('features_range', features_range)\n",
    "print(np.sqrt(X_train_reduced.shape[1]))"
   ]
  },
  {
   "cell_type": "code",
   "execution_count": 368,
   "metadata": {},
   "outputs": [
    {
     "name": "stdout",
     "output_type": "stream",
     "text": [
      "Data subsampling succsessful!\n",
      "0.9053736487545041\n",
      "CPU times: user 1min 32s, sys: 439 ms, total: 1min 33s\n",
      "Wall time: 42.3 s\n"
     ]
    }
   ],
   "source": [
    "%%time\n",
    "train_size = 50000\n",
    "#tekur um 1min20 sec með 50þús train size\n",
    "X_train_reduced, y_train_reduced = data_subsample_asserts_two_classes(X_train_np, y_train_np, train_size)\n",
    "X_train_reduced, vectorizer = vectorize_data(X_train_reduced)\n",
    "\n",
    "# Fit and test it\n",
    "rf.fit(X_train_reduced, y_train_reduced)\n",
    "y_test_pred = rf.predict(vectorizer.transform(X_test_np.ravel()))\n",
    "test_acc = get_row_accuracy(y_test_np, y_test_pred)\n",
    "print(test_acc)"
   ]
  },
  {
   "cell_type": "code",
   "execution_count": 389,
   "metadata": {},
   "outputs": [
    {
     "name": "stdout",
     "output_type": "stream",
     "text": [
      "[[0.906  0.911  0.9198 0.924  0.9246 0.9244 0.9234 0.9238 0.9102]\n",
      " [0.9138 0.9218 0.923  0.9228 0.9228 0.9248 0.9238 0.9238 0.921 ]\n",
      " [0.9186 0.9224 0.9232 0.9244 0.9234 0.9242 0.9242 0.9236 0.9214]\n",
      " [0.9182 0.9232 0.923  0.923  0.923  0.924  0.9248 0.9238 0.9212]]\n"
     ]
    },
    {
     "data": {
      "image/png": "[encoded data removed]",
      "text/plain": [
       "<Figure size 576x432 with 2 Axes>"
      ]
     },
     "metadata": {
      "needs_background": "light"
     },
     "output_type": "display_data"
    }
   ],
   "source": [
    "# print(grid.cv_results_)\n",
    "# print(grid.cv_results_['mean_test_score'])\n",
    "scores = grid.cv_results_['mean_test_score'].reshape(len(depth_range),len(features_range))\n",
    "print(scores)\n",
    "plot_heatmap(scores, 'Validation accuracy', 'max_features', 'max_depth', \n",
    "              features_range, depth_range, np.min(scores), np.max(scores)-0.001)"
   ]
  },
  {
   "cell_type": "markdown",
   "metadata": {},
   "source": [
    "### Text preprocessing\n"
   ]
  },
  {
   "cell_type": "markdown",
   "metadata": {},
   "source": [
    "Hér er þá búið að preprocessa textann"
   ]
  },
  {
   "cell_type": "code",
   "execution_count": 9,
   "metadata": {},
   "outputs": [],
   "source": [
    "def getProcessedText(dataset):\n",
    "    x_train = dataset['comment_text'].to_numpy()\n",
    "    for i in range(len(x_train)):\n",
    "        x_train[i] = textpreprocess(x_train[i])\n",
    "    return x_train"
   ]
  },
  {
   "cell_type": "code",
   "execution_count": 10,
   "metadata": {},
   "outputs": [],
   "source": [
    "x_train = train_data['comment_text'].to_numpy()\n",
    "for i in range(len(x_train)):\n",
    "    x_train[i] = text_processor.textPreprocess(x_train[i])"
   ]
  },
  {
   "cell_type": "code",
   "execution_count": 11,
   "metadata": {},
   "outputs": [
    {
     "ename": "NameError",
     "evalue": "name 'maxlen' is not defined",
     "output_type": "error",
     "traceback": [
      "\u001b[0;31m---------------------------------------------------------------------------\u001b[0m",
      "\u001b[0;31mNameError\u001b[0m                                 Traceback (most recent call last)",
      "\u001b[0;32m<ipython-input-11-878a6f7211f3>\u001b[0m in \u001b[0;36m<module>\u001b[0;34m\u001b[0m\n\u001b[1;32m      2\u001b[0m \u001b[0;34m\u001b[0m\u001b[0m\n\u001b[1;32m      3\u001b[0m \u001b[0;32mfor\u001b[0m \u001b[0mcomment\u001b[0m \u001b[0;32min\u001b[0m \u001b[0mtrain_data\u001b[0m\u001b[0;34m[\u001b[0m\u001b[0;34m'comment_text'\u001b[0m\u001b[0;34m]\u001b[0m\u001b[0;34m:\u001b[0m\u001b[0;34m\u001b[0m\u001b[0;34m\u001b[0m\u001b[0m\n\u001b[0;32m----> 4\u001b[0;31m     \u001b[0;32mif\u001b[0m \u001b[0mlen\u001b[0m\u001b[0;34m(\u001b[0m\u001b[0mcomment\u001b[0m\u001b[0;34m)\u001b[0m \u001b[0;34m>\u001b[0m \u001b[0mmaxlen\u001b[0m\u001b[0;34m:\u001b[0m\u001b[0;34m\u001b[0m\u001b[0;34m\u001b[0m\u001b[0m\n\u001b[0m\u001b[1;32m      5\u001b[0m         \u001b[0mmax_comment_length\u001b[0m \u001b[0;34m=\u001b[0m \u001b[0mlen\u001b[0m\u001b[0;34m(\u001b[0m\u001b[0mcomment\u001b[0m\u001b[0;34m)\u001b[0m\u001b[0;34m\u001b[0m\u001b[0;34m\u001b[0m\u001b[0m\n\u001b[1;32m      6\u001b[0m \u001b[0mprint\u001b[0m\u001b[0;34m(\u001b[0m\u001b[0mmaxlen\u001b[0m\u001b[0;34m)\u001b[0m\u001b[0;34m\u001b[0m\u001b[0;34m\u001b[0m\u001b[0m\n",
      "\u001b[0;31mNameError\u001b[0m: name 'maxlen' is not defined"
     ]
    }
   ],
   "source": [
    "max_comment_length = len(train_data['comment_text'][0])\n",
    "\n",
    "for comment in train_data['comment_text']:\n",
    "    if len(comment) > maxlen:\n",
    "        max_comment_length = len(comment)\n",
    "print(maxlen)"
   ]
  },
  {
   "cell_type": "markdown",
   "metadata": {},
   "source": [
    "Prófa að exclude-a bara toxic dálkinn og gera model á honum"
   ]
  },
  {
   "cell_type": "code",
   "execution_count": null,
   "metadata": {},
   "outputs": [],
   "source": [
    "toxicCol = train_data['toxic']\n",
    "classes = [\"toxic\",\"severe_toxic\",\"obscene\",\"threat\",\"insult\",\"identity_hate\"]"
   ]
  },
  {
   "cell_type": "code",
   "execution_count": null,
   "metadata": {},
   "outputs": [],
   "source": [
    "# X_train = train_data['comment_text'].to_numpy()\n",
    "X_train = x_train\n",
    "# y_train = (train_data.values[:,2:])\n",
    "y_train = toxicCol\n",
    "print(len(toxicCol), len(X_train))\n",
    "# Set aside validation data for monitoring training progress\n",
    "\n",
    "assert len(X_train) == len(y_train)\n",
    "X_train, X_test, y_train, y_test = train_test_split(X_train, y_train, test_size=0.2)\n",
    "\n",
    "print('=================')\n",
    "print('|','train_data shape:', X_train.shape)\n",
    "print('|',X_train.shape[0], 'train samples')\n",
    "print('|',y_test.shape[0], 'test samples')\n",
    "print('=================')"
   ]
  },
  {
   "cell_type": "code",
   "execution_count": null,
   "metadata": {},
   "outputs": [],
   "source": [
    "max_words = 20000 # <- spurning um hvað þetta eigi að vera\n",
    "\n",
    "tokenizer = text.Tokenizer(num_words=max_words)\n",
    "num_classes = 6\n",
    "\n",
    "tokenizer.fit_on_texts(list(X_train))\n",
    "tokTrain = tokenizer.texts_to_sequences(X_train)\n",
    "tokTest = tokenizer.texts_to_sequences(X_test)\n",
    "\n",
    "x_train=sequence.pad_sequences(tokTrain, maxlen=max_comment_length)\n",
    "x_test=sequence.pad_sequences(tokTest, maxlen=max_comment_length)\n"
   ]
  },
  {
   "cell_type": "code",
   "execution_count": null,
   "metadata": {},
   "outputs": [],
   "source": [
    "model = Sequential()\n",
    "model.add(Dense(512,input_shape=(max_comment_length,)))\n",
    "model.add(Activation('relu'))\n",
    "model.add(Dropout(0.5))\n",
    "model.add(Dense(num_classes))\n",
    "model.add(Activation('softmax'))\n",
    "model.compile(optimizer=Adadelta(),\n",
    "          loss = 'sparse_categorical_crossentropy',\n",
    "            metrics=['accuracy'])"
   ]
  },
  {
   "cell_type": "code",
   "execution_count": null,
   "metadata": {},
   "outputs": [],
   "source": [
    "batch_size = 32\n",
    "epochs = 2\n",
    "history = model.fit(x_train, y_train, batch_size=batch_size, epochs=epochs, verbose = 1,\n",
    "                    validation_split=0.1)\n",
    "score = model.evaluate(x_test, y_test, batch_size=batch_size, verbose=1)\n",
    "\n",
    "print('Test acc: {}'.format(score[1]))"
   ]
  }
 ],
 "metadata": {
  "kernelspec": {
   "display_name": "Python 3",
   "language": "python",
   "name": "python3"
  },
  "language_info": {
   "codemirror_mode": {
    "name": "ipython",
    "version": 3
   },
   "file_extension": ".py",
   "mimetype": "text/x-python",
   "name": "python",
   "nbconvert_exporter": "python",
   "pygments_lexer": "ipython3",
   "version": "3.7.4"
  }
 },
 "nbformat": 4,
 "nbformat_minor": 2
}
