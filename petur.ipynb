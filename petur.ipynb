{
 "cells": [
  {
   "cell_type": "markdown",
   "metadata": {},
   "source": [
    "#### Pakkar"
   ]
  },
  {
   "cell_type": "code",
   "execution_count": 118,
   "metadata": {},
   "outputs": [],
   "source": [
    "import numpy as np\n",
    "import pandas as pd\n",
    "from sklearn.feature_extraction import stop_words\n",
    "import string\n",
    "from keras.preprocessing import text, sequence\n",
    "from sklearn.model_selection import train_test_split\n",
    "from tensorflow.python.keras.models import Sequential, Model\n",
    "from tensorflow.python.keras.layers import Dense, Activation, Dropout, Flatten, Input, Embedding\n",
    "from tensorflow.python.keras.optimizers import Adadelta\n",
    "from tensorflow.python.keras.layers import Conv1D, MaxPooling1D, GRU\n",
    "import tensorflow as tf"
   ]
  },
  {
   "cell_type": "code",
   "execution_count": 90,
   "metadata": {},
   "outputs": [],
   "source": [
    "tf.compat.v1.disable_eager_execution()"
   ]
  },
  {
   "cell_type": "markdown",
   "metadata": {},
   "source": [
    "#### Innlestur gagna"
   ]
  },
  {
   "cell_type": "code",
   "execution_count": 101,
   "metadata": {},
   "outputs": [],
   "source": [
    "train_data = pd.read_csv('data/train.csv',delimiter=',')\n",
    "\n",
    "test_data = pd.read_csv('data/test.csv',delimiter=',')\n"
   ]
  },
  {
   "cell_type": "markdown",
   "metadata": {},
   "source": [
    "### Gagnasettið\n",
    "Hér má sjá gagnasettið sem við þjálfum módelið á. Við erum með comment_text og hann er búið að greina (0 eða 1) hvort hann sé toxic, severe_toxic, obscene, threat, insult eða identity_hate."
   ]
  },
  {
   "cell_type": "code",
   "execution_count": 92,
   "metadata": {},
   "outputs": [
    {
     "data": {
      "text/html": [
       "<div>\n",
       "<style scoped>\n",
       "    .dataframe tbody tr th:only-of-type {\n",
       "        vertical-align: middle;\n",
       "    }\n",
       "\n",
       "    .dataframe tbody tr th {\n",
       "        vertical-align: top;\n",
       "    }\n",
       "\n",
       "    .dataframe thead th {\n",
       "        text-align: right;\n",
       "    }\n",
       "</style>\n",
       "<table border=\"1\" class=\"dataframe\">\n",
       "  <thead>\n",
       "    <tr style=\"text-align: right;\">\n",
       "      <th></th>\n",
       "      <th>id</th>\n",
       "      <th>comment_text</th>\n",
       "      <th>toxic</th>\n",
       "      <th>severe_toxic</th>\n",
       "      <th>obscene</th>\n",
       "      <th>threat</th>\n",
       "      <th>insult</th>\n",
       "      <th>identity_hate</th>\n",
       "    </tr>\n",
       "  </thead>\n",
       "  <tbody>\n",
       "    <tr>\n",
       "      <th>0</th>\n",
       "      <td>0000997932d777bf</td>\n",
       "      <td>Explanation\\nWhy the edits made under my usern...</td>\n",
       "      <td>0</td>\n",
       "      <td>0</td>\n",
       "      <td>0</td>\n",
       "      <td>0</td>\n",
       "      <td>0</td>\n",
       "      <td>0</td>\n",
       "    </tr>\n",
       "    <tr>\n",
       "      <th>1</th>\n",
       "      <td>000103f0d9cfb60f</td>\n",
       "      <td>D'aww! He matches this background colour I'm s...</td>\n",
       "      <td>0</td>\n",
       "      <td>0</td>\n",
       "      <td>0</td>\n",
       "      <td>0</td>\n",
       "      <td>0</td>\n",
       "      <td>0</td>\n",
       "    </tr>\n",
       "    <tr>\n",
       "      <th>2</th>\n",
       "      <td>000113f07ec002fd</td>\n",
       "      <td>Hey man, I'm really not trying to edit war. It...</td>\n",
       "      <td>0</td>\n",
       "      <td>0</td>\n",
       "      <td>0</td>\n",
       "      <td>0</td>\n",
       "      <td>0</td>\n",
       "      <td>0</td>\n",
       "    </tr>\n",
       "    <tr>\n",
       "      <th>3</th>\n",
       "      <td>0001b41b1c6bb37e</td>\n",
       "      <td>\"\\nMore\\nI can't make any real suggestions on ...</td>\n",
       "      <td>0</td>\n",
       "      <td>0</td>\n",
       "      <td>0</td>\n",
       "      <td>0</td>\n",
       "      <td>0</td>\n",
       "      <td>0</td>\n",
       "    </tr>\n",
       "    <tr>\n",
       "      <th>4</th>\n",
       "      <td>0001d958c54c6e35</td>\n",
       "      <td>You, sir, are my hero. Any chance you remember...</td>\n",
       "      <td>0</td>\n",
       "      <td>0</td>\n",
       "      <td>0</td>\n",
       "      <td>0</td>\n",
       "      <td>0</td>\n",
       "      <td>0</td>\n",
       "    </tr>\n",
       "  </tbody>\n",
       "</table>\n",
       "</div>"
      ],
      "text/plain": [
       "                 id                                       comment_text  toxic  \\\n",
       "0  0000997932d777bf  Explanation\\nWhy the edits made under my usern...      0   \n",
       "1  000103f0d9cfb60f  D'aww! He matches this background colour I'm s...      0   \n",
       "2  000113f07ec002fd  Hey man, I'm really not trying to edit war. It...      0   \n",
       "3  0001b41b1c6bb37e  \"\\nMore\\nI can't make any real suggestions on ...      0   \n",
       "4  0001d958c54c6e35  You, sir, are my hero. Any chance you remember...      0   \n",
       "\n",
       "   severe_toxic  obscene  threat  insult  identity_hate  \n",
       "0             0        0       0       0              0  \n",
       "1             0        0       0       0              0  \n",
       "2             0        0       0       0              0  \n",
       "3             0        0       0       0              0  \n",
       "4             0        0       0       0              0  "
      ]
     },
     "metadata": {},
     "output_type": "display_data"
    },
    {
     "name": "stdout",
     "output_type": "stream",
     "text": [
      "Dálkarnir eru: \n",
      "- \t id\n",
      "- \t comment_text\n",
      "- \t toxic\n",
      "- \t severe_toxic\n",
      "- \t obscene\n",
      "- \t threat\n",
      "- \t insult\n",
      "- \t identity_hate\n"
     ]
    }
   ],
   "source": [
    "display(train_data.head())\n",
    "cols = train_data.columns\n",
    "print('Dálkarnir eru: ')\n",
    "for col in cols:\n",
    "    print('- \\t',col)\n"
   ]
  },
  {
   "cell_type": "code",
   "execution_count": 153,
   "metadata": {},
   "outputs": [
    {
     "data": {
      "text/html": [
       "<div>\n",
       "<style scoped>\n",
       "    .dataframe tbody tr th:only-of-type {\n",
       "        vertical-align: middle;\n",
       "    }\n",
       "\n",
       "    .dataframe tbody tr th {\n",
       "        vertical-align: top;\n",
       "    }\n",
       "\n",
       "    .dataframe thead th {\n",
       "        text-align: right;\n",
       "    }\n",
       "</style>\n",
       "<table border=\"1\" class=\"dataframe\">\n",
       "  <thead>\n",
       "    <tr style=\"text-align: right;\">\n",
       "      <th></th>\n",
       "      <th>id</th>\n",
       "      <th>comment_text</th>\n",
       "    </tr>\n",
       "  </thead>\n",
       "  <tbody>\n",
       "    <tr>\n",
       "      <th>0</th>\n",
       "      <td>00001cee341fdb12</td>\n",
       "      <td>Yo bitch Ja Rule is more succesful then you'll...</td>\n",
       "    </tr>\n",
       "    <tr>\n",
       "      <th>1</th>\n",
       "      <td>0000247867823ef7</td>\n",
       "      <td>== From RfC == \\n\\n The title is fine as it is...</td>\n",
       "    </tr>\n",
       "    <tr>\n",
       "      <th>2</th>\n",
       "      <td>00013b17ad220c46</td>\n",
       "      <td>\" \\n\\n == Sources == \\n\\n * Zawe Ashton on Lap...</td>\n",
       "    </tr>\n",
       "    <tr>\n",
       "      <th>3</th>\n",
       "      <td>00017563c3f7919a</td>\n",
       "      <td>:If you have a look back at the source, the in...</td>\n",
       "    </tr>\n",
       "    <tr>\n",
       "      <th>4</th>\n",
       "      <td>00017695ad8997eb</td>\n",
       "      <td>I don't anonymously edit articles at all.</td>\n",
       "    </tr>\n",
       "  </tbody>\n",
       "</table>\n",
       "</div>"
      ],
      "text/plain": [
       "                 id                                       comment_text\n",
       "0  00001cee341fdb12  Yo bitch Ja Rule is more succesful then you'll...\n",
       "1  0000247867823ef7  == From RfC == \\n\\n The title is fine as it is...\n",
       "2  00013b17ad220c46  \" \\n\\n == Sources == \\n\\n * Zawe Ashton on Lap...\n",
       "3  00017563c3f7919a  :If you have a look back at the source, the in...\n",
       "4  00017695ad8997eb          I don't anonymously edit articles at all."
      ]
     },
     "metadata": {},
     "output_type": "display_data"
    }
   ],
   "source": [
    "display(test_data.head())"
   ]
  },
  {
   "cell_type": "code",
   "execution_count": null,
   "metadata": {},
   "outputs": [],
   "source": [
    "# Nota þetta til að testa loka módelið\n",
    "x_testLoka = test_data[cols[1]]\n",
    "y_testLoka = test_data[cols[2:]]"
   ]
  },
  {
   "cell_type": "markdown",
   "metadata": {},
   "source": [
    "### Text preprocessing\n"
   ]
  },
  {
   "cell_type": "code",
   "execution_count": 93,
   "metadata": {},
   "outputs": [],
   "source": [
    "\n",
    "def textpreprocess(sentence):\n",
    "    sentence = sentence.lower()\n",
    "    \n",
    "    #Taka út ensk stopporð\n",
    "    stopwords = stop_words.ENGLISH_STOP_WORDS\n",
    "    for sw in stopwords:\n",
    "        if len(sw) > 1 and sw in sentence:\n",
    "            sentence.replace(sw,'')\n",
    "    \n",
    "    #Taka út tölur\n",
    "    sentence = ''.join([i for i in sentence if not i.isdigit()])\n",
    "    \n",
    "    #Taka út punkta, kommur og þannig lagað\n",
    "    sentence=sentence.translate(str.maketrans('', '', string.punctuation))\n",
    "    \n",
    "    return sentence"
   ]
  },
  {
   "cell_type": "markdown",
   "metadata": {},
   "source": [
    "Hér er þá búið að preprocessa textann"
   ]
  },
  {
   "cell_type": "code",
   "execution_count": 94,
   "metadata": {},
   "outputs": [],
   "source": [
    "def getProcessedText(dataset):\n",
    "    x_train = dataset['comment_text'].to_numpy()\n",
    "    for i in range(len(x_train)):\n",
    "        x_train[i] = textpreprocess(x_train[i])\n",
    "    return x_train"
   ]
  },
  {
   "cell_type": "code",
   "execution_count": 102,
   "metadata": {},
   "outputs": [],
   "source": [
    "x_train = train_data['comment_text'].to_numpy()\n",
    "for i in range(len(x_train)):\n",
    "    x_train[i] = textpreprocess(x_train[i])"
   ]
  },
  {
   "cell_type": "code",
   "execution_count": 96,
   "metadata": {},
   "outputs": [
    {
     "name": "stdout",
     "output_type": "stream",
     "text": [
      "5000\n"
     ]
    }
   ],
   "source": [
    "max_comment_length = len(train_data['comment_text'][0])\n",
    "\n",
    "for comment in train_data['comment_text']:\n",
    "    if len(comment) > maxlen:\n",
    "        max_comment_length = len(comment)\n",
    "print(maxlen)"
   ]
  },
  {
   "cell_type": "code",
   "execution_count": 147,
   "metadata": {},
   "outputs": [],
   "source": [
    "def getSubet(dataset, size):\n",
    "    return dataset[0:size]"
   ]
  },
  {
   "cell_type": "markdown",
   "metadata": {},
   "source": [
    "Prófa að exclude-a bara toxic dálkinn og gera model á honum"
   ]
  },
  {
   "cell_type": "code",
   "execution_count": 97,
   "metadata": {},
   "outputs": [],
   "source": [
    "toxicCol = train_data['toxic']\n",
    "classes = [\"toxic\",\"severe_toxic\",\"obscene\",\"threat\",\"insult\",\"identity_hate\"]"
   ]
  },
  {
   "cell_type": "code",
   "execution_count": 103,
   "metadata": {},
   "outputs": [
    {
     "name": "stdout",
     "output_type": "stream",
     "text": [
      "159571 159571\n",
      "=================\n",
      "| train_data shape: (127656,)\n",
      "| 127656 train samples\n",
      "| 31915 test samples\n",
      "=================\n"
     ]
    }
   ],
   "source": [
    "# X_train = train_data['comment_text'].to_numpy()\n",
    "X_train = x_train\n",
    "# y_train = (train_data.values[:,2:])\n",
    "y_train = train_data[classes]\n",
    "print(len(y_train), len(X_train))\n",
    "# Set aside validation data for monitoring training progress\n",
    "\n",
    "assert len(X_train) == len(y_train)\n",
    "X_train, X_test, y_train, y_test = train_test_split(X_train, y_train, test_size=0.2)\n",
    "\n",
    "print('=================')\n",
    "print('|','train_data shape:', X_train.shape)\n",
    "print('|',X_train.shape[0], 'train samples')\n",
    "print('|',y_test.shape[0], 'test samples')\n",
    "print('=================')"
   ]
  },
  {
   "cell_type": "code",
   "execution_count": 169,
   "metadata": {},
   "outputs": [],
   "source": [
    "size=10000\n",
    "X_train, X_test, y_train, y_test = getSubet(X_train,size), getSubet(X_test,size),getSubet(y_train,size), getSubet(y_test,size)"
   ]
  },
  {
   "cell_type": "code",
   "execution_count": 170,
   "metadata": {},
   "outputs": [
    {
     "name": "stdout",
     "output_type": "stream",
     "text": [
      "(10000, 6)\n"
     ]
    }
   ],
   "source": [
    "input_shape = (y_train.shape)\n",
    "print(input_shape)"
   ]
  },
  {
   "cell_type": "code",
   "execution_count": 171,
   "metadata": {},
   "outputs": [],
   "source": [
    "max_words = 20000 # <- spurning um hvað þetta eigi að vera\n",
    "output_vector_len = int(train_data.fillna('').astype(str).apply(lambda x:x.str.len()).mean()[1])\n",
    "tokenizer = text.Tokenizer(num_words=max_words)\n",
    "num_classes = 6\n",
    "\n",
    "tokenizer.fit_on_texts(list(X_train))\n",
    "tokTrain = tokenizer.texts_to_sequences(X_train)\n",
    "tokTest = tokenizer.texts_to_sequences(X_test)\n",
    "\n",
    "x_train=sequence.pad_sequences(tokTrain, maxlen=max_comment_length)\n",
    "x_test=sequence.pad_sequences(tokTest, maxlen=max_comment_length)\n"
   ]
  },
  {
   "cell_type": "code",
   "execution_count": null,
   "metadata": {},
   "outputs": [],
   "source": [
    "## PRÓFA þetta\n",
    "model = Sequential()\n",
    "model.add(Dropout(0.5))\n",
    "model.add(Conv1D(filters=32,kernel_size=2,\n",
    "                activation='relu', padding=\"same\"))\n",
    "model.add(MaxPooling1D(pool_size=2))\n",
    "model.add(Conv1D(filters=32, kernel_size=2,\n",
    "                activation='relu', padding=\"same\"))\n",
    "model.add(MaxPooling1D(pool_size=2))\n",
    "# model.add(GRU(128))\n",
    "model.add(Dense(128, activation='relu'))\n",
    "model.add(Dense(64, activation='relu'))\n",
    "model.add(Dense(32, activation='relu'))\n",
    "model.add(Dense(16, activation='relu'))\n",
    "model.add(Dense(6, activation='relu'))\n",
    "model.add(Model(inputs=inp,outputs=model))\n",
    "model.compile(loss='binary_crossentropy', optimizer=Adadelta(), metrics=['accuracy'])\n",
    "model.summary()"
   ]
  },
  {
   "cell_type": "markdown",
   "metadata": {},
   "source": [
    "#### Góð útskýring á multilabel classifier\n",
    "https://medium.com/@vijayabhaskar96/multi-label-image-classification-tutorial-with-keras-imagedatagenerator-cd541f8eaf24"
   ]
  },
  {
   "cell_type": "code",
   "execution_count": 172,
   "metadata": {},
   "outputs": [
    {
     "name": "stdout",
     "output_type": "stream",
     "text": [
      "Model: \"model_8\"\n",
      "_________________________________________________________________\n",
      "Layer (type)                 Output Shape              Param #   \n",
      "=================================================================\n",
      "input_15 (InputLayer)        [(None, 245)]             0         \n",
      "_________________________________________________________________\n",
      "embedding_11 (Embedding)     (None, 245, 374)          7480000   \n",
      "_________________________________________________________________\n",
      "dropout_17 (Dropout)         (None, 245, 374)          0         \n",
      "_________________________________________________________________\n",
      "conv1d_20 (Conv1D)           (None, 245, 32)           23968     \n",
      "_________________________________________________________________\n",
      "max_pooling1d_20 (MaxPooling (None, 122, 32)           0         \n",
      "_________________________________________________________________\n",
      "conv1d_21 (Conv1D)           (None, 122, 32)           2080      \n",
      "_________________________________________________________________\n",
      "max_pooling1d_21 (MaxPooling (None, 61, 32)            0         \n",
      "_________________________________________________________________\n",
      "gru_5 (GRU)                  (None, 128)               61824     \n",
      "_________________________________________________________________\n",
      "dense_53 (Dense)             (None, 64)                8256      \n",
      "_________________________________________________________________\n",
      "dense_54 (Dense)             (None, 32)                2080      \n",
      "_________________________________________________________________\n",
      "dense_55 (Dense)             (None, 16)                528       \n",
      "_________________________________________________________________\n",
      "dense_56 (Dense)             (None, 6)                 102       \n",
      "=================================================================\n",
      "Total params: 7,578,838\n",
      "Trainable params: 7,578,838\n",
      "Non-trainable params: 0\n",
      "_________________________________________________________________\n"
     ]
    }
   ],
   "source": [
    "inp = Input(shape=(max_comment_length,))\n",
    "model = Embedding(max_words, output_vector_len)(inp) \n",
    "#Embedded útskýring:\n",
    "    #Turns positive integers (indexes) into dense vectors of fixed size.\n",
    "######\n",
    "\n",
    "#####\n",
    "model = Dropout(0.5)(model)\n",
    "model = Conv1D(filters=32, kernel_size=2, padding='same', activation='relu')(model)\n",
    "model = MaxPooling1D(pool_size=2)(model)\n",
    "model = Conv1D(filters=32, kernel_size=2, padding='same', activation='relu')(model)\n",
    "model = MaxPooling1D(pool_size=2)(model)\n",
    "model = GRU(128)(model)\n",
    "# model = Dense(128, activation=\"relu\")(model)\n",
    "model = Dense(64, activation=\"relu\")(model)\n",
    "model = Dense(32, activation=\"relu\")(model)\n",
    "model = Dense(16, activation=\"relu\")(model)\n",
    "model = Dense(6, activation=\"softmax\")(model)\n",
    "model = Model(inputs=inp, outputs=model)\n",
    "model.compile(loss='binary_crossentropy', optimizer=Adadelta(), metrics=['accuracy'])\n",
    "# model.compile(loss='sparse_categorical_crossentropy', optimizer=Adadelta(), metrics=['accuracy'])\n",
    "model.summary()"
   ]
  },
  {
   "cell_type": "code",
   "execution_count": 139,
   "metadata": {},
   "outputs": [
    {
     "name": "stdout",
     "output_type": "stream",
     "text": [
      "        toxic  severe_toxic  obscene  threat  insult  identity_hate\n",
      "107429      0             0        0       0       0              0\n",
      "152607      0             0        0       0       0              0\n",
      "58863       0             0        0       0       0              0\n",
      "76274       0             0        0       0       0              0\n",
      "107023      0             0        0       0       0              0\n"
     ]
    }
   ],
   "source": [
    "#Sjá hvernig y- þjálfunargögnin líta út\n",
    "print(y_train[:5])"
   ]
  },
  {
   "cell_type": "code",
   "execution_count": 173,
   "metadata": {},
   "outputs": [
    {
     "name": "stdout",
     "output_type": "stream",
     "text": [
      "Train on 9000 samples, validate on 1000 samples\n",
      "Epoch 1/8\n",
      "9000/9000 [==============================] - 64s 7ms/sample - loss: 0.2350 - accuracy: 0.9625 - val_loss: 0.2279 - val_accuracy: 0.9663\n",
      "Epoch 2/8\n",
      "9000/9000 [==============================] - 58s 6ms/sample - loss: 0.2315 - accuracy: 0.9625 - val_loss: 0.2276 - val_accuracy: 0.9663\n",
      "Epoch 3/8\n",
      "9000/9000 [==============================] - 56s 6ms/sample - loss: 0.2314 - accuracy: 0.9625 - val_loss: 0.2278 - val_accuracy: 0.9663\n",
      "Epoch 4/8\n",
      "9000/9000 [==============================] - 56s 6ms/sample - loss: 0.2311 - accuracy: 0.9625 - val_loss: 0.2273 - val_accuracy: 0.9663\n",
      "Epoch 5/8\n",
      "9000/9000 [==============================] - 56s 6ms/sample - loss: 0.2308 - accuracy: 0.9625 - val_loss: 0.2266 - val_accuracy: 0.9663\n",
      "Epoch 6/8\n",
      "9000/9000 [==============================] - 56s 6ms/sample - loss: 0.2301 - accuracy: 0.9625 - val_loss: 0.2259 - val_accuracy: 0.9663\n",
      "Epoch 7/8\n",
      "9000/9000 [==============================] - 56s 6ms/sample - loss: 0.2290 - accuracy: 0.9626 - val_loss: 0.2257 - val_accuracy: 0.9663\n",
      "Epoch 8/8\n",
      "9000/9000 [==============================] - 56s 6ms/sample - loss: 0.2281 - accuracy: 0.9626 - val_loss: 0.2249 - val_accuracy: 0.9663\n",
      "10000/10000 [==============================] - 7s 714us/sample - loss: 0.2264 - accuracy: 0.9649\n",
      "Test acc: 0.9648997783660889\n"
     ]
    }
   ],
   "source": [
    "batch_size = 32\n",
    "epochs = 8\n",
    "history = model.fit(x_train, y_train, batch_size=batch_size, epochs=epochs, verbose = 1,\n",
    "                    validation_split=0.1)\n",
    "score = model.evaluate(x_test, y_test, batch_size=batch_size, verbose=1)\n",
    "\n",
    "print('Test acc: {}'.format(score[1]))"
   ]
  },
  {
   "cell_type": "code",
   "execution_count": 160,
   "metadata": {},
   "outputs": [],
   "source": [
    "import matplotlib.pyplot as plt\n",
    "def teikna(history):\n",
    "    acc = history.history['accuracy']\n",
    "    loss = history.history['loss']\n",
    "    val_loss = history.history['val_loss']\n",
    "    val_acc = history.history['val_accuracy']\n",
    "    plt.plot(acc)\n",
    "    plt.plot(val_acc)\n",
    "    plt.plot(val_loss)\n",
    "    plt.plot(loss)\n",
    "    plt.xlabel('epoch')\n",
    "    plt.legend(['train', 'validation','val. loss', 'loss'])\n",
    "    mynd = plt.show()\n",
    "    return mynd"
   ]
  },
  {
   "cell_type": "code",
   "execution_count": 174,
   "metadata": {},
   "outputs": [
    {
     "data": {
      "image/png": "[encoded data removed]",
      "text/plain": [
       "<Figure size 432x288 with 1 Axes>"
      ]
     },
     "metadata": {
      "needs_background": "light"
     },
     "output_type": "display_data"
    }
   ],
   "source": [
    "teikna(history)"
   ]
  },
  {
   "cell_type": "code",
   "execution_count": null,
   "metadata": {},
   "outputs": [],
   "source": []
  }
 ],
 "metadata": {
  "kernelspec": {
   "display_name": "Python 3",
   "language": "python",
   "name": "python3"
  },
  "language_info": {
   "codemirror_mode": {
    "name": "ipython",
    "version": 3
   },
   "file_extension": ".py",
   "mimetype": "text/x-python",
   "name": "python",
   "nbconvert_exporter": "python",
   "pygments_lexer": "ipython3",
   "version": "3.7.3"
  }
 },
 "nbformat": 4,
 "nbformat_minor": 2
}
