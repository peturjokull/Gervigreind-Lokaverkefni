{
  "nbformat": 4,
  "nbformat_minor": 0,
  "metadata": {
    "kernelspec": {
      "display_name": "Python 3",
      "language": "python",
      "name": "python3"
    },
    "language_info": {
      "codemirror_mode": {
        "name": "ipython",
        "version": 3
      },
      "file_extension": ".py",
      "mimetype": "text/x-python",
      "name": "python",
      "nbconvert_exporter": "python",
      "pygments_lexer": "ipython3",
      "version": "3.7.3"
    },
    "colab": {
      "name": "cnn_toxic.ipynb",
      "provenance": [],
      "collapsed_sections": [],
      "toc_visible": true
    },
    "accelerator": "GPU"
  },
  "cells": [
    {
      "cell_type": "markdown",
      "metadata": {
        "id": "9q2yVvTlunfK",
        "colab_type": "text"
      },
      "source": [
        "#### Pakkar"
      ]
    },
    {
      "cell_type": "code",
      "metadata": {
        "id": "AmvikvmhunfL",
        "colab_type": "code",
        "outputId": "62a0dffc-2cdc-495d-b1ad-28307aa83298",
        "colab": {
          "base_uri": "https://localhost:8080/",
          "height": 88
        }
      },
      "source": [
        "import numpy as np\n",
        "import pandas as pd\n",
        "from sklearn.feature_extraction import stop_words\n",
        "import string\n",
        "from keras.preprocessing import text, sequence\n",
        "from sklearn.model_selection import train_test_split\n",
        "from tensorflow.python.keras.models import Sequential, Model\n",
        "from tensorflow.python.keras.layers import Dense, Activation, Dropout, Flatten, Input, Embedding\n",
        "from tensorflow.python.keras.optimizers import Adadelta\n",
        "from tensorflow.python.keras.layers import Conv1D, MaxPooling1D, GRU, LSTM\n",
        "import tensorflow as tf\n",
        "from matplotlib.colors import Normalize\n",
        "import matplotlib.pyplot as plt\n",
        "from sklearn.metrics import plot_confusion_matrix\n",
        "from sklearn.metrics import classification_report\n",
        "from sklearn.metrics import confusion_matrix\n",
        "from sklearn.feature_extraction.text import TfidfTransformer\n",
        "from sklearn.metrics import plot_confusion_matrix\n",
        "from sklearn.metrics import classification_report\n",
        "from sklearn.metrics import confusion_matrix"
      ],
      "execution_count": 0,
      "outputs": [
        {
          "output_type": "stream",
          "text": [
            "/usr/local/lib/python3.6/dist-packages/sklearn/utils/deprecation.py:144: FutureWarning: The sklearn.feature_extraction.stop_words module is  deprecated in version 0.22 and will be removed in version 0.24. The corresponding classes / functions should instead be imported from sklearn.feature_extraction.text. Anything that cannot be imported from sklearn.feature_extraction.text is now part of the private API.\n",
            "  warnings.warn(message, FutureWarning)\n",
            "Using TensorFlow backend.\n"
          ],
          "name": "stderr"
        }
      ]
    },
    {
      "cell_type": "code",
      "metadata": {
        "id": "RAMNbgngunfP",
        "colab_type": "code",
        "colab": {}
      },
      "source": [
        "tf.compat.v1.disable_eager_execution()\n",
        "import warnings; \n",
        "warnings.filterwarnings(\"ignore\") # ignore warnings for the purpose of readability"
      ],
      "execution_count": 0,
      "outputs": []
    },
    {
      "cell_type": "markdown",
      "metadata": {
        "id": "XRbEJWo5unfX",
        "colab_type": "text"
      },
      "source": [
        "#### Innlestur gagna"
      ]
    },
    {
      "cell_type": "code",
      "metadata": {
        "id": "3ZXG5Na8unfY",
        "colab_type": "code",
        "colab": {}
      },
      "source": [
        "train_data = pd.read_csv('data/train.csv',delimiter=',')\n",
        "\n",
        "test_data = pd.read_csv('data/test.csv',delimiter=',')\n",
        "classes = [\"toxic\",\"severe_toxic\",\"obscene\",\"threat\",\"insult\",\"identity_hate\"]"
      ],
      "execution_count": 0,
      "outputs": []
    },
    {
      "cell_type": "markdown",
      "metadata": {
        "id": "58z38Y2ieXSg",
        "colab_type": "text"
      },
      "source": [
        "### Ýmsar aðferðir"
      ]
    },
    {
      "cell_type": "code",
      "metadata": {
        "id": "Dn-Hwt3utcWE",
        "colab_type": "code",
        "colab": {}
      },
      "source": [
        "def calc_scores(y_true_, y_pred_):\n",
        "    mats = multilabel_confusion_matrix(y_true_, y_pred_)\n",
        "    n = len(mats)\n",
        "    recall = 0; specificity = 0; precision = 0\n",
        "    for mat in mats:\n",
        "        tn, fp, fn, tp  = mat.ravel()\n",
        "        recall += tp/(tp+fn)\n",
        "        specificity += tn/(tn+fp)\n",
        "        precision += tp/(tp+fp)\n",
        "        \n",
        "    print('-'*50)\n",
        "    print(\"The macro averaged sensitivity/recall is: {:.2%}\".format(recall/n))\n",
        "    print(\"The macro averaged specificity is: {:.2%}\".format(specificity/n))\n",
        "    print(\"The macro averaged precision is: {:.2%}\".format(precision/n))\n",
        "    print('-'*50)"
      ],
      "execution_count": 0,
      "outputs": []
    },
    {
      "cell_type": "code",
      "metadata": {
        "id": "p5j4UtZjgD92",
        "colab_type": "code",
        "colab": {}
      },
      "source": [
        "def Oversample(classes,train_data):\n",
        "    for className in classes:\n",
        "        count_class_0, count_class_1=train_data[className].value_counts()\n",
        "        df_class_1 = train_data[train_data[className] == 1]\n",
        "        df_class_0 = train_data[train_data[className] == 0]\n",
        "        df_class_1_over = df_class_1.sample(count_class_0, replace=True)\n",
        "        df_test_over = pd.concat([df_class_0, df_class_1_over], axis=0)\n",
        "        #print(df_test_over[className].value_counts())\n",
        "    return df_test_over"
      ],
      "execution_count": 0,
      "outputs": []
    },
    {
      "cell_type": "code",
      "metadata": {
        "id": "4IJ-YOQlung9",
        "colab_type": "code",
        "colab": {}
      },
      "source": [
        "def plot_acc_params(param, train_acc_, val_acc_, param_name, title):\n",
        "    plt.plot(param, train_acc_,label='Training accuracy')\n",
        "    plt.plot(param, val_acc_,label='Validation accuracy')\n",
        "    plt.title(title)\n",
        "    plt.xlabel(param_name)\n",
        "    plt.ylabel('Accuracy')\n",
        "    plt.legend()\n",
        "    plt.show()\n",
        "\n",
        "\n",
        "# Utility function to move the midpoint of a colormap to be around\n",
        "# the values of interest.\n",
        "class MidpointNormalize(Normalize):\n",
        "\n",
        "    def __init__(self, vmin=None, vmax=None, midpoint=None, clip=False):\n",
        "        self.midpoint = midpoint\n",
        "        Normalize.__init__(self, vmin, vmax, clip)\n",
        "\n",
        "    def __call__(self, value, clip=None):\n",
        "        x, y = [self.vmin, self.midpoint, self.vmax], [0, 0.5, 1]\n",
        "        return np.ma.masked_array(np.interp(value, x, y))\n",
        "\n",
        "def plot_heatmap(data_matrix, title, xlabel, ylabel, x_values, y_values, vmin_, midpoint_):\n",
        "    plt.figure(figsize=(8, 6))\n",
        "    plt.subplots_adjust(left=.2, right=0.95, bottom=0.15, top=0.95)\n",
        "    plt.imshow(data_matrix, interpolation='nearest', cmap=plt.cm.seismic,\n",
        "               norm=MidpointNormalize(vmin=vmin_, midpoint=midpoint_))\n",
        "    plt.xlabel(xlabel)\n",
        "    plt.ylabel(ylabel)\n",
        "    plt.colorbar()\n",
        "    \n",
        "    plt.grid(None)\n",
        "    plt.xticks(np.arange(len(x_values)), x_values, rotation=45)\n",
        "    plt.yticks(np.arange(len(y_values)), y_values)\n",
        "    plt.title(title)\n",
        "    plt.show()"
      ],
      "execution_count": 0,
      "outputs": []
    },
    {
      "cell_type": "code",
      "metadata": {
        "id": "df4bjxXheRAr",
        "colab_type": "code",
        "colab": {}
      },
      "source": [
        "\n",
        "def getrandomSubset(x,y,size):\n",
        "  numbers = np.random.choice(range(len(x)), size, replace=False)\n",
        "  return x[numbers], y[numbers]"
      ],
      "execution_count": 0,
      "outputs": []
    },
    {
      "cell_type": "code",
      "metadata": {
        "id": "TkPkLprPung_",
        "colab_type": "code",
        "colab": {}
      },
      "source": [
        "import seaborn as sn\n",
        "def plot_conf_mat(mat, cmap_=\"OrRd\" ):\n",
        "    tn, fp, fn, tp  = mat.ravel()\n",
        "    print('-'*50)\n",
        "    print(\"TN: {}\\t FP: {} \\nFN: {}\\t TP: {}\".format(tn, fp, fn, tp))\n",
        "    print(\"The sensitivity/recall is: {:.2%}\".format(tp/(tp+fn)))\n",
        "    print(\"The specificity is: {:.2%}\".format(tn/(tn+fp)))\n",
        "    print(\"The precision is: {:.2%}\".format(tp/(tp+fp)))\n",
        "    print('-'*50)\n",
        "    ax = sn.heatmap(mat, annot=True, fmt=\"d\", cmap=cmap_)\n",
        "    plt.ylabel('Actual')\n",
        "    plt.xlabel('Predicted')\n",
        "    # Lætur tölurnar vera í miðjum kassanum\n",
        "    bottom, top = ax.get_ylim()\n",
        "    ax.set_ylim(bottom + 0.5, top - 0.5)\n",
        "    plt.show()"
      ],
      "execution_count": 0,
      "outputs": []
    },
    {
      "cell_type": "markdown",
      "metadata": {
        "id": "nSQYGwMiZVOi",
        "colab_type": "text"
      },
      "source": [
        "## Normaldata set CNN training starts"
      ]
    },
    {
      "cell_type": "code",
      "metadata": {
        "id": "Xzafl4q0Y0M6",
        "colab_type": "code",
        "outputId": "e431e015-cbe7-4a6a-c393-fcff7592c432",
        "colab": {
          "base_uri": "https://localhost:8080/",
          "height": 190
        }
      },
      "source": [
        "original_X_testData = train_data['comment_text'].to_numpy()\n",
        "original_Y_testData = train_data[classes].to_numpy()\n",
        "datasetsize = 100000\n",
        "\n",
        "\n",
        "x_tr = x_train = train_data['comment_text'].to_numpy()\n",
        "y_tr = train_data[classes].to_numpy()\n",
        "x_tr,y_tr = getrandomSubset(x_tr,y_tr,datasetsize)\n",
        "\n",
        "assert len(x_tr) == len(y_tr)\n",
        "X_train, X_test, y_train, y_test = train_test_split(x_tr, y_tr, test_size=0.2)\n",
        "\n",
        "\n",
        "print('=================')\n",
        "print('|','train_data shape:', X_train.shape)\n",
        "print('|',X_train.shape[0], 'train samples')\n",
        "print('|',y_test.shape[0], 'test samples')\n",
        "print('=================')\n",
        "\n",
        "max_words = 1000 # <- spurning um hvað þetta eigi að vera\n",
        "\n",
        "tokenizer = text.Tokenizer(num_words=max_words)\n",
        "num_classes = 6\n",
        "\n",
        "tokenizer.fit_on_texts(list(X_train))\n",
        "tokTrain = tokenizer.texts_to_sequences(X_train)\n",
        "tokTest = tokenizer.texts_to_sequences(X_test)\n",
        "\n",
        "x_train=sequence.pad_sequences(tokTrain, maxlen=256)\n",
        "x_test=sequence.pad_sequences(tokTest, maxlen=256)\n",
        "\n",
        "inp = Input(shape=(256,))\n",
        "\n",
        "stuttModel = Sequential()\n",
        "stuttModel = Embedding(max_words, 333)(inp) # 333 meðaltal athugasemda lengda \n",
        "#Embedded útskýring:\n",
        "  #Turns positive integers (indexes) into dense vectors of fixed size.\n",
        "######\n",
        "\n",
        "#####\n",
        "stuttModel = GRU(128)(stuttModel)\n",
        "\n",
        "stuttModel = Dense(64, activation=\"relu\")(stuttModel)\n",
        "stuttModel = Dense(num_classes, activation=\"sigmoid\")(stuttModel)\n",
        "stuttModel = Model(inputs=inp, outputs=stuttModel)\n",
        "stuttModel.compile(loss='binary_crossentropy', optimizer=Adadelta(), metrics=[tf.keras.metrics.AUC()])"
      ],
      "execution_count": 0,
      "outputs": [
        {
          "output_type": "stream",
          "text": [
            "=================\n",
            "| train_data shape: (80000,)\n",
            "| 80000 train samples\n",
            "| 20000 test samples\n",
            "=================\n",
            "WARNING:tensorflow:From /usr/local/lib/python3.6/dist-packages/tensorflow/python/ops/resource_variable_ops.py:1666: calling BaseResourceVariable.__init__ (from tensorflow.python.ops.resource_variable_ops) with constraint is deprecated and will be removed in a future version.\n",
            "Instructions for updating:\n",
            "If using Keras pass *_constraint arguments to layers.\n",
            "WARNING:tensorflow:Layer gru will not use cuDNN kernel since it doesn't meet the cuDNN kernel criteria. It will use generic GPU kernel as fallback when running on GPU\n"
          ],
          "name": "stdout"
        }
      ]
    },
    {
      "cell_type": "markdown",
      "metadata": {
        "id": "V91KKdWlXBFt",
        "colab_type": "text"
      },
      "source": [
        "## Training the Neural Network on normal dataset"
      ]
    },
    {
      "cell_type": "code",
      "metadata": {
        "id": "Z_rXmQpZW022",
        "colab_type": "code",
        "outputId": "c2d03024-c2b4-4223-c8b1-8348f9bb2783",
        "colab": {
          "base_uri": "https://localhost:8080/",
          "height": 323
        }
      },
      "source": [
        "# model(False,100000,False)\n",
        "stuttModel = getModel()\n",
        "batch_size = 128\n",
        "epochs = 8\n",
        "stuttHistory = stuttModel.fit(x_train, y_train, batch_size=batch_size, epochs=epochs, verbose = 1,validation_split=0.2)\n",
        "stuttScore = stuttModel.evaluate(x_test, y_test, batch_size=batch_size, verbose=1)\n",
        "\n",
        "\n",
        "y_scores_n = stuttModel.predict(x_test,batch_size=128, verbose=1)\n",
        "\n"
      ],
      "execution_count": 0,
      "outputs": [
        {
          "output_type": "stream",
          "text": [
            "WARNING:tensorflow:Layer gru_2 will not use cuDNN kernel since it doesn't meet the cuDNN kernel criteria. It will use generic GPU kernel as fallback when running on GPU\n",
            "Train on 64000 samples, validate on 16000 samples\n",
            "Epoch 1/8\n",
            "64000/64000 [==============================] - 121s 2ms/sample - loss: 0.1349 - auc_2: 0.8455 - val_loss: 0.0859 - val_auc_2: 0.9326\n",
            "Epoch 2/8\n",
            "64000/64000 [==============================] - 123s 2ms/sample - loss: 0.0833 - auc_2: 0.9365 - val_loss: 0.0713 - val_auc_2: 0.9509\n",
            "Epoch 3/8\n",
            "64000/64000 [==============================] - 124s 2ms/sample - loss: 0.0740 - auc_2: 0.9507 - val_loss: 0.0691 - val_auc_2: 0.9526\n",
            "Epoch 4/8\n",
            "64000/64000 [==============================] - 123s 2ms/sample - loss: 0.0706 - auc_2: 0.9556 - val_loss: 0.0708 - val_auc_2: 0.9478\n",
            "Epoch 5/8\n",
            "64000/64000 [==============================] - 122s 2ms/sample - loss: 0.0689 - auc_2: 0.9579 - val_loss: 0.0696 - val_auc_2: 0.9586\n",
            "Epoch 6/8\n",
            "64000/64000 [==============================] - 119s 2ms/sample - loss: 0.0671 - auc_2: 0.9609 - val_loss: 0.0659 - val_auc_2: 0.9596\n",
            "Epoch 7/8\n",
            "64000/64000 [==============================] - 120s 2ms/sample - loss: 0.0658 - auc_2: 0.9624 - val_loss: 0.0651 - val_auc_2: 0.9570\n",
            "Epoch 8/8\n",
            "64000/64000 [==============================] - 120s 2ms/sample - loss: 0.0647 - auc_2: 0.9637 - val_loss: 0.0645 - val_auc_2: 0.9579\n"
          ],
          "name": "stdout"
        }
      ]
    },
    {
      "cell_type": "code",
      "metadata": {
        "id": "s4ZWlDOCTV-t",
        "colab_type": "code",
        "outputId": "97070162-9c52-4fc9-d883-89f3bde93655",
        "colab": {
          "base_uri": "https://localhost:8080/",
          "height": 398
        }
      },
      "source": [
        "pred_over=np.zeros(y_scores_n.shape)\n",
        "for line in range(y_scores_n.shape[0]):\n",
        "    for item in range(y_scores_n.shape[1]):\n",
        "        if y_scores_n[line,item] > 0.5:\n",
        "            pred_over[line,item] = 1\n",
        "        else:\n",
        "            pred_over[line,item] = 0\n",
        "s_totals_mat = confusion_matrix(y_test.astype(int).ravel(), pred_over.astype(int).ravel())\n",
        "plot_conf_mat(s_totals_mat)"
      ],
      "execution_count": 0,
      "outputs": [
        {
          "output_type": "stream",
          "text": [
            "--------------------------------------------------\n",
            "TN: 115180\t FP: 425 \n",
            "FN: 2169\t TP: 2226\n",
            "The sensitivity/recall is: 50.65%\n",
            "The specificity is: 99.63%\n",
            "The precision is: 83.97%\n",
            "--------------------------------------------------\n"
          ],
          "name": "stdout"
        },
        {
          "output_type": "display_data",
          "data": {
            "image/png": "[encoded data removed]",
            "text/plain": [
              "<Figure size 432x288 with 2 Axes>"
            ]
          },
          "metadata": {
            "tags": [],
            "needs_background": "light"
          }
        }
      ]
    },
    {
      "cell_type": "code",
      "metadata": {
        "id": "Vs41bVne5qXl",
        "colab_type": "code",
        "outputId": "8bac2da6-4ebd-45dd-a1c6-58d66bcb94b2",
        "colab": {
          "base_uri": "https://localhost:8080/",
          "height": 102
        }
      },
      "source": [
        "calc_scores(y_test.astype(int), pred_over.astype(int))"
      ],
      "execution_count": 0,
      "outputs": [
        {
          "output_type": "stream",
          "text": [
            "--------------------------------------------------\n",
            "The macro averaged sensitivity/recall is: 2.28%\n",
            "The macro averaged specificity is: 97.80%\n",
            "The macro averaged precision is: nan%\n",
            "--------------------------------------------------\n"
          ],
          "name": "stdout"
        }
      ]
    },
    {
      "cell_type": "code",
      "metadata": {
        "id": "MTizj9jHzJa0",
        "colab_type": "code",
        "outputId": "0c599b4f-e840-432f-a6dd-2d175ffa2b72",
        "colab": {
          "base_uri": "https://localhost:8080/",
          "height": 295
        }
      },
      "source": [
        "\n",
        "plt.plot(stuttHistory.history['auc_2'])\n",
        "plt.plot(stuttHistory.history['val_auc_2'])\n",
        "plt.xlabel('epoch')\n",
        "plt.title(\"Normal dataset\")\n",
        "plt.legend(['AUC', 'Val_AUC'])\n",
        "plt.show()"
      ],
      "execution_count": 0,
      "outputs": [
        {
          "output_type": "display_data",
          "data": {
            "image/png": "[encoded data removed]",
            "text/plain": [
              "<Figure size 432x288 with 1 Axes>"
            ]
          },
          "metadata": {
            "tags": [],
            "needs_background": "light"
          }
        }
      ]
    },
    {
      "cell_type": "code",
      "metadata": {
        "id": "SEwFrCXcURtY",
        "colab_type": "code",
        "outputId": "36ff00c3-a2e7-46b8-9a67-b60f981c6955",
        "colab": {
          "base_uri": "https://localhost:8080/",
          "height": 295
        }
      },
      "source": [
        "plt.plot(stuttHistory.history['loss'])\n",
        "plt.plot(stuttHistory.history['val_loss'])\n",
        "plt.xlabel('epoch')\n",
        "plt.title(\"Normal dataset\")\n",
        "plt.legend(['loss', 'Val_loss'])\n",
        "plt.show()"
      ],
      "execution_count": 0,
      "outputs": [
        {
          "output_type": "display_data",
          "data": {
            "image/png": "[encoded data removed]",
            "text/plain": [
              "<Figure size 432x288 with 1 Axes>"
            ]
          },
          "metadata": {
            "tags": [],
            "needs_background": "light"
          }
        }
      ]
    },
    {
      "cell_type": "markdown",
      "metadata": {
        "id": "8hKWpull1ab5",
        "colab_type": "text"
      },
      "source": [
        "## Oversampled training starts"
      ]
    },
    {
      "cell_type": "code",
      "metadata": {
        "id": "klAHDccX1Og9",
        "colab_type": "code",
        "outputId": "9cf46523-1243-4596-87bc-dc43daf94db3",
        "colab": {
          "base_uri": "https://localhost:8080/",
          "height": 119
        }
      },
      "source": [
        "# Oversampled\n",
        "df = Oversample(classes,train_data)\n",
        "upsampled_x_train = df['comment_text'].to_numpy()\n",
        "upsampled_y_train = df[classes].to_numpy()\n",
        "\n",
        "upsampled_x_train, upsampled_y_train = getrandomSubset(upsampled_x_train,upsampled_y_train,datasetsize)\n",
        "\n",
        "#Create train set from upsampled data and test set from original data\n",
        "X_train, X_test = upsampled_x_train[0:int(datasetsize*0.8)], original_X_testData[0:int(datasetsize*0.2)]\n",
        "y_train, y_test = upsampled_y_train[0:int(datasetsize*0.8)], original_Y_testData[0:int(datasetsize*0.2)]\n",
        "\n",
        "assert len(X_train) == len(y_train)\n",
        "\n",
        "\n",
        "\n",
        "print('=================')\n",
        "print('|','train_data shape:', X_train.shape)\n",
        "print('|',X_train.shape[0], 'train samples')\n",
        "print('|',y_test.shape[0], 'test samples')\n",
        "print('=================')\n",
        "\n",
        "max_words = 1000 # <- spurning um hvað þetta eigi að vera\n",
        "\n",
        "tokenizer = text.Tokenizer(num_words=max_words)\n",
        "num_classes = 6\n",
        "\n",
        "tokenizer.fit_on_texts(list(X_train))\n",
        "tokTrain = tokenizer.texts_to_sequences(X_train)\n",
        "tokTest = tokenizer.texts_to_sequences(X_test)\n",
        "\n",
        "x_train=sequence.pad_sequences(tokTrain, maxlen=256)\n",
        "x_test=sequence.pad_sequences(tokTest, maxlen=256)\n",
        "\n",
        "inp = Input(shape=(256,))\n",
        "\n",
        "model = getModel()"
      ],
      "execution_count": 0,
      "outputs": [
        {
          "output_type": "stream",
          "text": [
            "=================\n",
            "| train_data shape: (80000,)\n",
            "| 80000 train samples\n",
            "| 20000 test samples\n",
            "=================\n",
            "WARNING:tensorflow:Layer gru_3 will not use cuDNN kernel since it doesn't meet the cuDNN kernel criteria. It will use generic GPU kernel as fallback when running on GPU\n"
          ],
          "name": "stdout"
        }
      ]
    },
    {
      "cell_type": "code",
      "metadata": {
        "id": "wMBGTDCr1mWX",
        "colab_type": "code",
        "outputId": "60fae9ac-5143-4ea1-a872-1386b9f6d196",
        "colab": {
          "base_uri": "https://localhost:8080/",
          "height": 238
        }
      },
      "source": [
        "batch_size = 128\n",
        "epochs = 6\n",
        "overHistory = model.fit(x_train, y_train, batch_size=batch_size, epochs=epochs, verbose = 1,validation_split=0.2)\n",
        "overScore = model.evaluate(x_test, y_test, batch_size=batch_size, verbose=1)\n",
        "\n"
      ],
      "execution_count": 0,
      "outputs": [
        {
          "output_type": "stream",
          "text": [
            "Train on 64000 samples, validate on 16000 samples\n",
            "Epoch 1/6\n",
            "64000/64000 [==============================] - 122s 2ms/sample - loss: 0.3179 - auc_3: 0.9265 - val_loss: 0.1961 - val_auc_3: 0.9733\n",
            "Epoch 2/6\n",
            "64000/64000 [==============================] - 123s 2ms/sample - loss: 0.1853 - auc_3: 0.9756 - val_loss: 0.1755 - val_auc_3: 0.9788\n",
            "Epoch 3/6\n",
            "64000/64000 [==============================] - 120s 2ms/sample - loss: 0.1656 - auc_3: 0.9804 - val_loss: 0.1679 - val_auc_3: 0.9828\n",
            "Epoch 4/6\n",
            "64000/64000 [==============================] - 119s 2ms/sample - loss: 0.1476 - auc_3: 0.9843 - val_loss: 0.1385 - val_auc_3: 0.9863\n",
            "Epoch 5/6\n",
            "64000/64000 [==============================] - 114s 2ms/sample - loss: 0.1305 - auc_3: 0.9875 - val_loss: 0.1217 - val_auc_3: 0.9891\n",
            "Epoch 6/6\n",
            "64000/64000 [==============================] - 116s 2ms/sample - loss: 0.1126 - auc_3: 0.9903 - val_loss: 0.1097 - val_auc_3: 0.9907\n"
          ],
          "name": "stdout"
        }
      ]
    },
    {
      "cell_type": "code",
      "metadata": {
        "id": "coVZ1kRKXVdk",
        "colab_type": "code",
        "outputId": "ea42c4a0-d2e1-44b5-885f-6df917e0f3c4",
        "colab": {
          "base_uri": "https://localhost:8080/",
          "height": 398
        }
      },
      "source": [
        "y_scores = model.predict(x_test,batch_size=128, verbose=1)\n",
        "pred_n=np.zeros(y_scores.shape)\n",
        "for line in range(y_scores.shape[0]):\n",
        "    for item in range(y_scores.shape[1]):\n",
        "        if y_scores[line,item] > 0.5:\n",
        "            pred_n[line,item] = 1\n",
        "        else:\n",
        "            pred_n[line,item] = 0\n",
        "s_totals_mat = confusion_matrix(y_test.astype(int).ravel(), pred_n.astype(int).ravel())\n",
        "plot_conf_mat(s_totals_mat)"
      ],
      "execution_count": 0,
      "outputs": [
        {
          "output_type": "stream",
          "text": [
            "--------------------------------------------------\n",
            "TN: 113010\t FP: 2475 \n",
            "FN: 1409\t TP: 3106\n",
            "The sensitivity/recall is: 68.79%\n",
            "The specificity is: 97.86%\n",
            "The precision is: 55.65%\n",
            "--------------------------------------------------\n"
          ],
          "name": "stdout"
        },
        {
          "output_type": "display_data",
          "data": {
            "image/png": "[encoded data removed]",
            "text/plain": [
              "<Figure size 432x288 with 2 Axes>"
            ]
          },
          "metadata": {
            "tags": [],
            "needs_background": "light"
          }
        }
      ]
    },
    {
      "cell_type": "code",
      "metadata": {
        "id": "jiQ-nqUEMRkp",
        "colab_type": "code",
        "outputId": "de34cbf4-ae31-4a64-aefa-e04892cb6c46",
        "colab": {
          "base_uri": "https://localhost:8080/",
          "height": 272
        }
      },
      "source": [
        "print(classification_report(y_test.astype(int), pred_n.astype(int), target_names=classes))\n",
        "calc_precision_recall(y_test, y_scores, average_param = \"micro\", y_pred_ = pred_n )"
      ],
      "execution_count": 0,
      "outputs": [
        {
          "output_type": "stream",
          "text": [
            "               precision    recall  f1-score   support\n",
            "\n",
            "        toxic       0.81      0.59      0.68      1947\n",
            " severe_toxic       0.40      0.62      0.49       222\n",
            "      obscene       0.73      0.78      0.76      1077\n",
            "       threat       0.39      0.40      0.40        67\n",
            "       insult       0.61      0.75      0.67      1021\n",
            "identity_hate       0.13      0.98      0.23       181\n",
            "\n",
            "    micro avg       0.56      0.69      0.62      4515\n",
            "    macro avg       0.51      0.69      0.54      4515\n",
            " weighted avg       0.69      0.69      0.67      4515\n",
            "  samples avg       0.04      0.06      0.05      4515\n",
            "\n",
            "F1 score: 0.615, AUC score: 0.955\n"
          ],
          "name": "stdout"
        }
      ]
    },
    {
      "cell_type": "code",
      "metadata": {
        "id": "I2ftY04C5Tn1",
        "colab_type": "code",
        "outputId": "5de57591-952c-4360-9a05-ce18fe6aa72c",
        "colab": {
          "base_uri": "https://localhost:8080/",
          "height": 340
        }
      },
      "source": [
        "calc_scores(y_test.astype(int), pred_n.astype(int))\n",
        "from sklearn.metrics import classification_report\n",
        "print(classification_report(y_test.astype(int),pred_n.astype(int)))"
      ],
      "execution_count": 0,
      "outputs": [
        {
          "output_type": "stream",
          "text": [
            "--------------------------------------------------\n",
            "The macro averaged sensitivity/recall is: 68.77%\n",
            "The macro averaged specificity is: 97.87%\n",
            "The macro averaged precision is: 51.23%\n",
            "--------------------------------------------------\n",
            "              precision    recall  f1-score   support\n",
            "\n",
            "           0       0.81      0.59      0.68      1947\n",
            "           1       0.40      0.62      0.49       222\n",
            "           2       0.73      0.78      0.76      1077\n",
            "           3       0.39      0.40      0.40        67\n",
            "           4       0.61      0.75      0.67      1021\n",
            "           5       0.13      0.98      0.23       181\n",
            "\n",
            "   micro avg       0.56      0.69      0.62      4515\n",
            "   macro avg       0.51      0.69      0.54      4515\n",
            "weighted avg       0.69      0.69      0.67      4515\n",
            " samples avg       0.04      0.06      0.05      4515\n",
            "\n"
          ],
          "name": "stdout"
        }
      ]
    },
    {
      "cell_type": "code",
      "metadata": {
        "id": "TRTo6W5sGs4M",
        "colab_type": "code",
        "outputId": "d586bbfc-2ef7-4ffd-b41f-40b312c05352",
        "colab": {
          "base_uri": "https://localhost:8080/",
          "height": 295
        }
      },
      "source": [
        "plt.plot(overHistory.history['auc_3'])\n",
        "plt.plot(overHistory.history['val_auc_3'])\n",
        "plt.xlabel('epoch')\n",
        "plt.title(\"Oversampled dataset\")\n",
        "plt.legend(['AUC', 'Val_AUC'])\n",
        "plt.show()"
      ],
      "execution_count": 0,
      "outputs": [
        {
          "output_type": "display_data",
          "data": {
            "image/png": "[encoded data removed]",
            "text/plain": [
              "<Figure size 432x288 with 1 Axes>"
            ]
          },
          "metadata": {
            "tags": [],
            "needs_background": "light"
          }
        }
      ]
    },
    {
      "cell_type": "code",
      "metadata": {
        "id": "pj_91Cruj3Fq",
        "colab_type": "code",
        "outputId": "0738610b-5cee-4c3b-b6ab-7c5bbce70cde",
        "colab": {
          "base_uri": "https://localhost:8080/",
          "height": 295
        }
      },
      "source": [
        "plt.plot(overHistory.history['loss'])\n",
        "plt.plot(overHistory.history['val_loss'])\n",
        "plt.xlabel('epoch')\n",
        "plt.title(\"Oversampled dataset\")\n",
        "plt.legend(['loss', 'val_loss'])\n",
        "plt.show()"
      ],
      "execution_count": 0,
      "outputs": [
        {
          "output_type": "display_data",
          "data": {
            "image/png": "[encoded data removed]",
            "text/plain": [
              "<Figure size 432x288 with 1 Axes>"
            ]
          },
          "metadata": {
            "tags": [],
            "needs_background": "light"
          }
        }
      ]
    },
    {
      "cell_type": "code",
      "metadata": {
        "id": "ee36hsA7caGb",
        "colab_type": "code",
        "outputId": "05da0fbc-98fc-487c-ff84-fd99fca5ac17",
        "colab": {
          "base_uri": "https://localhost:8080/",
          "height": 68
        }
      },
      "source": [
        "testItems = [\"I read a whole article about bike racing on Wikipedia\", \"My good friend, who is a muslim, has a black cat that\",\"My buddy is gay, he has a black cat.  Heplays yatzee with a die.\"]\n",
        "for item in testItems:\n",
        "  tTest = tokenizer.texts_to_sequences([item])\n",
        "  test_sentence = sequence.pad_sequences(tTest, maxlen=256)\n",
        "  y_s = model.predict(test_sentence, verbose=1)\n",
        "  pred_Test = np.where(y_s>0.5,1,0)\n",
        "  print(pred_Test)"
      ],
      "execution_count": 0,
      "outputs": [
        {
          "output_type": "stream",
          "text": [
            "[[0 0 0 0 0 0]]\n",
            "[[1 0 1 0 1 1]]\n",
            "[[1 0 1 0 1 1]]\n"
          ],
          "name": "stdout"
        }
      ]
    },
    {
      "cell_type": "code",
      "metadata": {
        "id": "7-1U4ZLSgQZy",
        "colab_type": "code",
        "colab": {}
      },
      "source": [
        "print(classes[0],\n",
        "classes[2],\n",
        "classes[4],\n",
        "classes[5])"
      ],
      "execution_count": 0,
      "outputs": []
    },
    {
      "cell_type": "code",
      "metadata": {
        "id": "S8G5SBbl8khi",
        "colab_type": "code",
        "colab": {}
      },
      "source": [
        "def plot_roc_curve(y_true_, y_score_, n_classes = 6, show_all_classes = False, model_name = ''):\n",
        "    # Compute ROC curve and ROC area for each class\n",
        "    fpr = dict()\n",
        "    tpr = dict()\n",
        "    roc_auc = dict()\n",
        "    for i in range(n_classes):\n",
        "        fpr[i], tpr[i], _ = roc_curve(y_true_[:, i], y_score_[:, i])\n",
        "        roc_auc[i] = auc(fpr[i], tpr[i])\n",
        "\n",
        "    # Compute micro-average ROC curve and ROC area\n",
        "    fpr[\"micro\"], tpr[\"micro\"], _ = roc_curve(y_true_.ravel(), y_score_.ravel())\n",
        "    roc_auc[\"micro\"] = auc(fpr[\"micro\"], tpr[\"micro\"])\n",
        "\n",
        "        # First aggregate all false positive rates\n",
        "    all_fpr = np.unique(np.concatenate([fpr[i] for i in range(n_classes)]))\n",
        "\n",
        "    # Then interpolate all ROC curves at this points\n",
        "    mean_tpr = np.zeros_like(all_fpr)\n",
        "    for i in range(n_classes):\n",
        "        mean_tpr += interp(all_fpr, fpr[i], tpr[i])\n",
        "\n",
        "    # Finally average it and compute AUC\n",
        "    mean_tpr /= n_classes\n",
        "\n",
        "    fpr[\"macro\"] = all_fpr\n",
        "    tpr[\"macro\"] = mean_tpr\n",
        "    roc_auc[\"macro\"] = auc(fpr[\"macro\"], tpr[\"macro\"])\n",
        "\n",
        "    # Plot all ROC curves\n",
        "    plt.figure()\n",
        "    plt.plot(fpr[\"micro\"], tpr[\"micro\"],\n",
        "             label='micro-average ROC curve (area = {0:0.2f})'\n",
        "                   ''.format(roc_auc[\"micro\"]),\n",
        "             color='deeppink', linestyle=':', linewidth=4)\n",
        "\n",
        "    plt.plot(fpr[\"macro\"], tpr[\"macro\"],\n",
        "             label='macro-average ROC curve (area = {0:0.2f})'\n",
        "                   ''.format(roc_auc[\"macro\"]),\n",
        "             color='navy', linestyle=':', linewidth=4)\n",
        "    if(show_all_classes):\n",
        "        colors = cycle(['aqua', 'darkorange', 'cornflowerblue', 'crimson', 'indigo', 'limegreen'])\n",
        "        for i, color in zip(range(n_classes), colors):\n",
        "            plt.plot(fpr[i], tpr[i], color=color, lw=1,\n",
        "                     label='ROC curve of {} (area = {:0.2f})'\n",
        "                     ''.format(cols[i+1], roc_auc[i]))\n",
        "    plt.grid(None) \n",
        "    plt.plot([0, 1], [0, 1], 'k--', lw=1)\n",
        "    plt.xlim([0.0, 1.0])\n",
        "    plt.ylim([0.0, 1.05])\n",
        "    plt.xlabel('False Positive Rate')\n",
        "    plt.ylabel('True Positive Rate')\n",
        "    plt.title('ROC curve of {} model'.format(model_name))\n",
        "    plt.legend(loc='center left', bbox_to_anchor=(1, 0.5))\n",
        "    plt.show()"
      ],
      "execution_count": 0,
      "outputs": []
    },
    {
      "cell_type": "markdown",
      "metadata": {
        "id": "ZtRVTYajWFvg",
        "colab_type": "text"
      },
      "source": [
        "## Get Model"
      ]
    },
    {
      "cell_type": "code",
      "metadata": {
        "id": "bJSyNGE4WEjl",
        "colab_type": "code",
        "colab": {}
      },
      "source": [
        "def getModel():\n",
        "  stuttModel = Sequential()\n",
        "  stuttModel = Embedding(max_words, 333)(inp) # 333 meðaltal athugasemda lengda \n",
        "#Embedded útskýring:\n",
        "  #Turns positive integers (indexes) into dense vectors of fixed size.\n",
        "######\n",
        "\n",
        "#####\n",
        "  stuttModel = GRU(128)(stuttModel)\n",
        "\n",
        "  stuttModel = Dense(64, activation=\"relu\")(stuttModel)\n",
        "  stuttModel = Dense(num_classes, activation=\"sigmoid\")(stuttModel)\n",
        "  stuttModel = Model(inputs=inp, outputs=stuttModel)\n",
        "  stuttModel.compile(loss='binary_crossentropy', optimizer=Adadelta(), metrics=[tf.keras.metrics.AUC()])\n",
        "  return stuttModel"
      ],
      "execution_count": 0,
      "outputs": []
    },
    {
      "cell_type": "code",
      "metadata": {
        "id": "1mod0q1K6JM_",
        "colab_type": "code",
        "colab": {}
      },
      "source": [
        "from sklearn.metrics import *\n",
        "def calc_precision_recall(y_true, y_scores, average_param = \"micro\", y_pred_ = None ):\n",
        "    # Dæmi um notkun calc_precision_recall(y_test_np, y_scores, y_pred_ = y_test_pred)\n",
        "    # y_scores is the decision function \n",
        "    # For each class\n",
        "    # average_param has to be one of (None, 'micro', 'macro', 'weighted', 'samples')\n",
        "    # micro = Calculate metrics globally by considering each element of the label indicator matrix as a label\n",
        "    # macro = reiknar average_precision_score fyrir hvern label (hér: toxic...) og tekur óvigtað meðaltal\n",
        "    # Ættum helst að nota micro held ég\n",
        "    # y_scores er decision function sem segir hvoru megin (og hve langt frá) við aðskilnaðarplanið sem \n",
        "    # classfierinn býr til\n",
        "    # no_skill baseline classifier giskar randomly\n",
        "    # betra að nota random gisk hérna því all-zero gisk gefur 0 precision\n",
        "    if y_pred_ is not None:\n",
        "        # calculate F1 score\n",
        "        f1 = f1_score(y_true, y_pred_, average = average_param)\n",
        "        auc = roc_auc_score(y_true, y_scores, average = average_param)\n",
        "        print(\"F1 score: {:.3f}, AUC score: {:.3f}\".format(f1, auc))\n",
        "        \n",
        "    r_model = np.random.randint(2, size=len(y_true.ravel()))\n",
        "    no_skill = precision_recall_curve(y_true.ravel(), r_model)\n",
        "    \n",
        "    precision = dict()\n",
        "    recall = dict()\n",
        "    average_precision = dict()\n",
        "\n",
        "    # A \"micro-average\": quantifying score on all classes jointly\n",
        "    precision[average_param], recall[average_param], _ = precision_recall_curve(y_true.ravel(),\n",
        "        y_scores.ravel())\n",
        "    average_precision[average_param] = average_precision_score(y_true, y_scores,\n",
        "                                                         average=average_param)\n",
        "    \n",
        "    # plot_precision_recall(recall, precision, average_param, average_precision, no_skill)"
      ],
      "execution_count": 0,
      "outputs": []
    }
  ]
}