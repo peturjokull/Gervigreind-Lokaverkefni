{
  "nbformat": 4,
  "nbformat_minor": 0,
  "metadata": {
    "kernelspec": {
      "display_name": "Python 3",
      "language": "python",
      "name": "python3"
    },
    "language_info": {
      "codemirror_mode": {
        "name": "ipython",
        "version": 3
      },
      "file_extension": ".py",
      "mimetype": "text/x-python",
      "name": "python",
      "nbconvert_exporter": "python",
      "pygments_lexer": "ipython3",
      "version": "3.7.3"
    },
    "colab": {
      "name": "petur.ipynb",
      "provenance": [],
      "collapsed_sections": [],
      "toc_visible": true
    },
    "accelerator": "GPU"
  },
  "cells": [
    {
      "cell_type": "markdown",
      "metadata": {
        "id": "9q2yVvTlunfK",
        "colab_type": "text"
      },
      "source": [
        "#### Pakkar"
      ]
    },
    {
      "cell_type": "code",
      "metadata": {
        "id": "AmvikvmhunfL",
        "colab_type": "code",
        "colab": {}
      },
      "source": [
        "import numpy as np\n",
        "import pandas as pd\n",
        "from sklearn.feature_extraction import stop_words\n",
        "import string\n",
        "from keras.preprocessing import text, sequence\n",
        "from sklearn.model_selection import train_test_split\n",
        "from tensorflow.python.keras.models import Sequential, Model\n",
        "from tensorflow.python.keras.layers import Dense, Activation, Dropout, Flatten, Input, Embedding\n",
        "from tensorflow.python.keras.optimizers import Adadelta\n",
        "from tensorflow.python.keras.layers import Conv1D, MaxPooling1D, GRU, LSTM\n",
        "import tensorflow as tf\n",
        "from matplotlib.colors import Normalize\n",
        "import matplotlib.pyplot as plt\n",
        "from sklearn.metrics import plot_confusion_matrix\n",
        "from sklearn.metrics import classification_report\n",
        "from sklearn.metrics import confusion_matrix\n",
        "from sklearn.feature_extraction.text import TfidfTransformer"
      ],
      "execution_count": 0,
      "outputs": []
    },
    {
      "cell_type": "code",
      "metadata": {
        "id": "RAMNbgngunfP",
        "colab_type": "code",
        "colab": {}
      },
      "source": [
        "tf.compat.v1.disable_eager_execution()\n",
        "import warnings; \n",
        "warnings.filterwarnings(\"ignore\") # ignore warnings for the purpose of readability"
      ],
      "execution_count": 0,
      "outputs": []
    },
    {
      "cell_type": "markdown",
      "metadata": {
        "id": "XRbEJWo5unfX",
        "colab_type": "text"
      },
      "source": [
        "#### Innlestur gagna"
      ]
    },
    {
      "cell_type": "code",
      "metadata": {
        "id": "3ZXG5Na8unfY",
        "colab_type": "code",
        "colab": {}
      },
      "source": [
        "train_data = pd.read_csv('data/train.csv',delimiter=',')\n",
        "\n",
        "test_data = pd.read_csv('data/test.csv',delimiter=',')\n"
      ],
      "execution_count": 0,
      "outputs": []
    },
    {
      "cell_type": "markdown",
      "metadata": {
        "id": "_Zo_6-N2unfb",
        "colab_type": "text"
      },
      "source": [
        "### Gagnasettið\n",
        "Hér má sjá gagnasettið sem við þjálfum módelið á. Við erum með comment_text og hann er búið að greina (0 eða 1) hvort hann sé toxic, severe_toxic, obscene, threat, insult eða identity_hate."
      ]
    },
    {
      "cell_type": "code",
      "metadata": {
        "id": "VcnKuYWVunfb",
        "colab_type": "code",
        "outputId": "39eb5dd9-c312-4573-c011-24f47a52ff2d",
        "colab": {
          "base_uri": "https://localhost:8080/",
          "height": 357
        }
      },
      "source": [
        "display(train_data.head())\n",
        "cols = train_data.columns\n",
        "print('Dálkarnir eru: ')\n",
        "for col in cols:\n",
        "    print('- \\t',col)\n"
      ],
      "execution_count": 4,
      "outputs": [
        {
          "output_type": "display_data",
          "data": {
            "text/html": [
              "<div>\n",
              "<style scoped>\n",
              "    .dataframe tbody tr th:only-of-type {\n",
              "        vertical-align: middle;\n",
              "    }\n",
              "\n",
              "    .dataframe tbody tr th {\n",
              "        vertical-align: top;\n",
              "    }\n",
              "\n",
              "    .dataframe thead th {\n",
              "        text-align: right;\n",
              "    }\n",
              "</style>\n",
              "<table border=\"1\" class=\"dataframe\">\n",
              "  <thead>\n",
              "    <tr style=\"text-align: right;\">\n",
              "      <th></th>\n",
              "      <th>id</th>\n",
              "      <th>comment_text</th>\n",
              "      <th>toxic</th>\n",
              "      <th>severe_toxic</th>\n",
              "      <th>obscene</th>\n",
              "      <th>threat</th>\n",
              "      <th>insult</th>\n",
              "      <th>identity_hate</th>\n",
              "    </tr>\n",
              "  </thead>\n",
              "  <tbody>\n",
              "    <tr>\n",
              "      <th>0</th>\n",
              "      <td>0000997932d777bf</td>\n",
              "      <td>Explanation\\nWhy the edits made under my usern...</td>\n",
              "      <td>0</td>\n",
              "      <td>0</td>\n",
              "      <td>0</td>\n",
              "      <td>0</td>\n",
              "      <td>0</td>\n",
              "      <td>0</td>\n",
              "    </tr>\n",
              "    <tr>\n",
              "      <th>1</th>\n",
              "      <td>000103f0d9cfb60f</td>\n",
              "      <td>D'aww! He matches this background colour I'm s...</td>\n",
              "      <td>0</td>\n",
              "      <td>0</td>\n",
              "      <td>0</td>\n",
              "      <td>0</td>\n",
              "      <td>0</td>\n",
              "      <td>0</td>\n",
              "    </tr>\n",
              "    <tr>\n",
              "      <th>2</th>\n",
              "      <td>000113f07ec002fd</td>\n",
              "      <td>Hey man, I'm really not trying to edit war. It...</td>\n",
              "      <td>0</td>\n",
              "      <td>0</td>\n",
              "      <td>0</td>\n",
              "      <td>0</td>\n",
              "      <td>0</td>\n",
              "      <td>0</td>\n",
              "    </tr>\n",
              "    <tr>\n",
              "      <th>3</th>\n",
              "      <td>0001b41b1c6bb37e</td>\n",
              "      <td>\"\\nMore\\nI can't make any real suggestions on ...</td>\n",
              "      <td>0</td>\n",
              "      <td>0</td>\n",
              "      <td>0</td>\n",
              "      <td>0</td>\n",
              "      <td>0</td>\n",
              "      <td>0</td>\n",
              "    </tr>\n",
              "    <tr>\n",
              "      <th>4</th>\n",
              "      <td>0001d958c54c6e35</td>\n",
              "      <td>You, sir, are my hero. Any chance you remember...</td>\n",
              "      <td>0</td>\n",
              "      <td>0</td>\n",
              "      <td>0</td>\n",
              "      <td>0</td>\n",
              "      <td>0</td>\n",
              "      <td>0</td>\n",
              "    </tr>\n",
              "  </tbody>\n",
              "</table>\n",
              "</div>"
            ],
            "text/plain": [
              "                 id  ... identity_hate\n",
              "0  0000997932d777bf  ...             0\n",
              "1  000103f0d9cfb60f  ...             0\n",
              "2  000113f07ec002fd  ...             0\n",
              "3  0001b41b1c6bb37e  ...             0\n",
              "4  0001d958c54c6e35  ...             0\n",
              "\n",
              "[5 rows x 8 columns]"
            ]
          },
          "metadata": {
            "tags": []
          }
        },
        {
          "output_type": "stream",
          "text": [
            "Dálkarnir eru: \n",
            "- \t id\n",
            "- \t comment_text\n",
            "- \t toxic\n",
            "- \t severe_toxic\n",
            "- \t obscene\n",
            "- \t threat\n",
            "- \t insult\n",
            "- \t identity_hate\n"
          ],
          "name": "stdout"
        }
      ]
    },
    {
      "cell_type": "code",
      "metadata": {
        "id": "d8IsUBx2unff",
        "colab_type": "code",
        "outputId": "05272081-acda-49cf-e6a1-c0782ab94137",
        "colab": {
          "base_uri": "https://localhost:8080/",
          "height": 204
        }
      },
      "source": [
        "display(test_data.head())"
      ],
      "execution_count": 5,
      "outputs": [
        {
          "output_type": "display_data",
          "data": {
            "text/html": [
              "<div>\n",
              "<style scoped>\n",
              "    .dataframe tbody tr th:only-of-type {\n",
              "        vertical-align: middle;\n",
              "    }\n",
              "\n",
              "    .dataframe tbody tr th {\n",
              "        vertical-align: top;\n",
              "    }\n",
              "\n",
              "    .dataframe thead th {\n",
              "        text-align: right;\n",
              "    }\n",
              "</style>\n",
              "<table border=\"1\" class=\"dataframe\">\n",
              "  <thead>\n",
              "    <tr style=\"text-align: right;\">\n",
              "      <th></th>\n",
              "      <th>id</th>\n",
              "      <th>comment_text</th>\n",
              "    </tr>\n",
              "  </thead>\n",
              "  <tbody>\n",
              "    <tr>\n",
              "      <th>0</th>\n",
              "      <td>00001cee341fdb12</td>\n",
              "      <td>Yo bitch Ja Rule is more succesful then you'll...</td>\n",
              "    </tr>\n",
              "    <tr>\n",
              "      <th>1</th>\n",
              "      <td>0000247867823ef7</td>\n",
              "      <td>== From RfC == \\n\\n The title is fine as it is...</td>\n",
              "    </tr>\n",
              "    <tr>\n",
              "      <th>2</th>\n",
              "      <td>00013b17ad220c46</td>\n",
              "      <td>\" \\n\\n == Sources == \\n\\n * Zawe Ashton on Lap...</td>\n",
              "    </tr>\n",
              "    <tr>\n",
              "      <th>3</th>\n",
              "      <td>00017563c3f7919a</td>\n",
              "      <td>:If you have a look back at the source, the in...</td>\n",
              "    </tr>\n",
              "    <tr>\n",
              "      <th>4</th>\n",
              "      <td>00017695ad8997eb</td>\n",
              "      <td>I don't anonymously edit articles at all.</td>\n",
              "    </tr>\n",
              "  </tbody>\n",
              "</table>\n",
              "</div>"
            ],
            "text/plain": [
              "                 id                                       comment_text\n",
              "0  00001cee341fdb12  Yo bitch Ja Rule is more succesful then you'll...\n",
              "1  0000247867823ef7  == From RfC == \\n\\n The title is fine as it is...\n",
              "2  00013b17ad220c46  \" \\n\\n == Sources == \\n\\n * Zawe Ashton on Lap...\n",
              "3  00017563c3f7919a  :If you have a look back at the source, the in...\n",
              "4  00017695ad8997eb          I don't anonymously edit articles at all."
            ]
          },
          "metadata": {
            "tags": []
          }
        }
      ]
    },
    {
      "cell_type": "markdown",
      "metadata": {
        "id": "mvhtB5kqunfj",
        "colab_type": "text"
      },
      "source": [
        "### Text preprocessing\n"
      ]
    },
    {
      "cell_type": "markdown",
      "metadata": {
        "id": "NYipOnb-unfs",
        "colab_type": "text"
      },
      "source": [
        "Hér er þá búið að preprocessa textann"
      ]
    },
    {
      "cell_type": "code",
      "metadata": {
        "id": "eYqWXJtbunf2",
        "colab_type": "code",
        "colab": {}
      },
      "source": [
        "max_comment_length = len(train_data['comment_text'][0])\n",
        "\n",
        "for comment in train_data['comment_text']:\n",
        "    if len(comment) > max_comment_length:\n",
        "        max_comment_length = len(comment)"
      ],
      "execution_count": 0,
      "outputs": []
    },
    {
      "cell_type": "markdown",
      "metadata": {
        "id": "Fbq2thgBunf7",
        "colab_type": "text"
      },
      "source": [
        "Prófa að exclude-a bara toxic dálkinn og gera model á honum"
      ]
    },
    {
      "cell_type": "code",
      "metadata": {
        "id": "hUZEnrseunf8",
        "colab_type": "code",
        "colab": {}
      },
      "source": [
        "# toxicCol = train_data['toxic']\n",
        "classes = [\"toxic\",\"severe_toxic\",\"obscene\",\"threat\",\"insult\",\"identity_hate\"]"
      ],
      "execution_count": 0,
      "outputs": []
    },
    {
      "cell_type": "code",
      "metadata": {
        "id": "L6J8bjDXunf_",
        "colab_type": "code",
        "outputId": "cd85ecc7-cb9c-48a2-bf3a-189c6537d3da",
        "colab": {
          "base_uri": "https://localhost:8080/",
          "height": 119
        }
      },
      "source": [
        "# X_train = train_data['comment_text'].to_numpy()\n",
        "X_train = temp\n",
        "# y_train = (train_data.values[:,2:])\n",
        "y_train = train_data[classes]\n",
        "print(len(y_train), len(X_train))\n",
        "# Set aside validation data for monitoring training progress\n",
        "\n",
        "assert len(X_train) == len(y_train)\n",
        "X_train, X_test, y_train, y_test = train_test_split(X_train, y_train, test_size=0.2)\n",
        "\n",
        "print('=================')\n",
        "print('|','train_data shape:', X_train.shape)\n",
        "print('|',X_train.shape[0], 'train samples')\n",
        "print('|',y_test.shape[0], 'test samples')\n",
        "print('=================')"
      ],
      "execution_count": 14,
      "outputs": [
        {
          "output_type": "stream",
          "text": [
            "159571 159571\n",
            "=================\n",
            "| train_data shape: (127656,)\n",
            "| 127656 train samples\n",
            "| 31915 test samples\n",
            "=================\n"
          ],
          "name": "stdout"
        }
      ]
    },
    {
      "cell_type": "markdown",
      "metadata": {
        "id": "XMNOKBhiungi",
        "colab_type": "text"
      },
      "source": [
        "### 92% acc. model"
      ]
    },
    {
      "cell_type": "code",
      "metadata": {
        "id": "ljB8TcI_ungj",
        "colab_type": "code",
        "colab": {}
      },
      "source": [
        "inp = Input(shape=(max_comment_length,))\n",
        "model = Sequential()\n",
        "model = Embedding(max_words, output_vector_len)(inp) \n",
        "#Embedded útskýring:\n",
        "    #Turns positive integers (indexes) into dense vectors of fixed size.\n",
        "######\n",
        "\n",
        "#####\n",
        "model = Dropout(0.5)(model)\n",
        "model = Conv1D(filters=32, kernel_size=2, padding='same', activation='relu')(model)\n",
        "model = MaxPooling1D(pool_size=2)(model)\n",
        "model = Dropout(0.5)(model)\n",
        "model = Conv1D(filters=32, kernel_size=2, padding='same', activation='relu')(model)\n",
        "model = MaxPooling1D(pool_size=2)(model)\n",
        "model = Dropout(0.5)(model)\n",
        "model = GRU(128)(model)\n",
        "\n",
        "model = Dense(64, activation=\"relu\")(model)\n",
        "model = Dense(32, activation=\"relu\")(model)\n",
        "model = Dense(16, activation=\"relu\")(model)\n",
        "model = Dense(6, activation=\"sigmoid\")(model)\n",
        "model = Model(inputs=inp, outputs=model)\n",
        "model.compile(loss='binary_crossentropy', optimizer=Adadelta(), metrics=[tf.keras.metrics.AUC()])\n",
        "# model.compile(loss='sparse_categorical_crossentropy', optimizer=Adadelta(), metrics=['accuracy'])\n",
        "model.summary()"
      ],
      "execution_count": 0,
      "outputs": []
    },
    {
      "cell_type": "code",
      "metadata": {
        "id": "84ByeS1Wungn",
        "colab_type": "code",
        "colab": {}
      },
      "source": [
        "batch_size = 32\n",
        "epochs = 1\n",
        "history = model.fit(x_train, y_train, batch_size=batch_size, epochs=epochs, verbose = 1,\n",
        "                    validation_split=0.1)\n",
        "score = model.evaluate(x_test, y_test, batch_size=batch_size, verbose=1)\n",
        "\n",
        "print('Test acc: {}'.format(score[1]))"
      ],
      "execution_count": 0,
      "outputs": []
    },
    {
      "cell_type": "code",
      "metadata": {
        "id": "edb-kTl8ungs",
        "colab_type": "code",
        "colab": {}
      },
      "source": [
        "predictions = model.predict(x_test,batch_size=32, verbose=0)"
      ],
      "execution_count": 0,
      "outputs": []
    },
    {
      "cell_type": "code",
      "metadata": {
        "id": "2-AwBJkGungu",
        "colab_type": "code",
        "colab": {}
      },
      "source": [
        "print(predictions)"
      ],
      "execution_count": 0,
      "outputs": []
    },
    {
      "cell_type": "code",
      "metadata": {
        "id": "QSphvYnyungx",
        "colab_type": "code",
        "colab": {}
      },
      "source": [
        "assert predictions.shape == y_test.shape\n",
        "print(predictions.shape)\n",
        "print(y_test.shape)"
      ],
      "execution_count": 0,
      "outputs": []
    },
    {
      "cell_type": "code",
      "metadata": {
        "id": "Aczyapq6ung0",
        "colab_type": "code",
        "colab": {}
      },
      "source": [
        "\n",
        "for line in range(predictions.shape[0]):\n",
        "    for item in range(predictions.shape[1]):\n",
        "        if predictions[line,item] > 0.5:\n",
        "            predictions[line,item] = 1\n",
        "        else:\n",
        "            predictions[line,item] = 0\n",
        "        "
      ],
      "execution_count": 0,
      "outputs": []
    },
    {
      "cell_type": "code",
      "metadata": {
        "id": "h94ORMVSung4",
        "colab_type": "code",
        "colab": {}
      },
      "source": [
        "from sklearn.metrics import plot_confusion_matrix\n",
        "from sklearn.metrics import classification_report\n",
        "from sklearn.metrics import confusion_matrix\n",
        "\n",
        "totals_mat = confusion_matrix(y_test.astype(int).ravel(), predictions.astype(int).ravel())\n",
        "plot_conf_mat(totals_mat)"
      ],
      "execution_count": 0,
      "outputs": []
    },
    {
      "cell_type": "markdown",
      "metadata": {
        "id": "58z38Y2ieXSg",
        "colab_type": "text"
      },
      "source": [
        "### Ýmsar aðferðir"
      ]
    },
    {
      "cell_type": "code",
      "metadata": {
        "id": "p5j4UtZjgD92",
        "colab_type": "code",
        "colab": {}
      },
      "source": [
        "def Oversample(classes,train_data):\n",
        "    for className in classes:\n",
        "        count_class_0, count_class_1=train_data[className].value_counts()\n",
        "        df_class_1 = train_data[train_data[className] == 1]\n",
        "        df_class_0 = train_data[train_data[className] == 0]\n",
        "        df_class_1_over = df_class_1.sample(count_class_0, replace=True)\n",
        "        df_test_over = pd.concat([df_class_0, df_class_1_over], axis=0)\n",
        "        #print(df_test_over[className].value_counts())\n",
        "    return df_test_over"
      ],
      "execution_count": 0,
      "outputs": []
    },
    {
      "cell_type": "code",
      "metadata": {
        "id": "4IJ-YOQlung9",
        "colab_type": "code",
        "colab": {}
      },
      "source": [
        "def plot_acc_params(param, train_acc_, val_acc_, param_name, title):\n",
        "    plt.plot(param, train_acc_,label='Training accuracy')\n",
        "    plt.plot(param, val_acc_,label='Validation accuracy')\n",
        "    plt.title(title)\n",
        "    plt.xlabel(param_name)\n",
        "    plt.ylabel('Accuracy')\n",
        "    plt.legend()\n",
        "    plt.show()\n",
        "\n",
        "\n",
        "# Utility function to move the midpoint of a colormap to be around\n",
        "# the values of interest.\n",
        "class MidpointNormalize(Normalize):\n",
        "\n",
        "    def __init__(self, vmin=None, vmax=None, midpoint=None, clip=False):\n",
        "        self.midpoint = midpoint\n",
        "        Normalize.__init__(self, vmin, vmax, clip)\n",
        "\n",
        "    def __call__(self, value, clip=None):\n",
        "        x, y = [self.vmin, self.midpoint, self.vmax], [0, 0.5, 1]\n",
        "        return np.ma.masked_array(np.interp(value, x, y))\n",
        "\n",
        "def plot_heatmap(data_matrix, title, xlabel, ylabel, x_values, y_values, vmin_, midpoint_):\n",
        "    plt.figure(figsize=(8, 6))\n",
        "    plt.subplots_adjust(left=.2, right=0.95, bottom=0.15, top=0.95)\n",
        "    plt.imshow(data_matrix, interpolation='nearest', cmap=plt.cm.seismic,\n",
        "               norm=MidpointNormalize(vmin=vmin_, midpoint=midpoint_))\n",
        "    plt.xlabel(xlabel)\n",
        "    plt.ylabel(ylabel)\n",
        "    plt.colorbar()\n",
        "    \n",
        "    plt.grid(None)\n",
        "    plt.xticks(np.arange(len(x_values)), x_values, rotation=45)\n",
        "    plt.yticks(np.arange(len(y_values)), y_values)\n",
        "    plt.title(title)\n",
        "    plt.show()"
      ],
      "execution_count": 0,
      "outputs": []
    },
    {
      "cell_type": "code",
      "metadata": {
        "id": "df4bjxXheRAr",
        "colab_type": "code",
        "colab": {}
      },
      "source": [
        "from numpy.random import default_rng\n",
        "def getrandomSubset(x,y,size):\n",
        "  rng = default_rng()\n",
        "  numbers = rng.choice(len(x), size=size, replace=False)\n",
        "  return x[numbers], y[numbers]"
      ],
      "execution_count": 0,
      "outputs": []
    },
    {
      "cell_type": "code",
      "metadata": {
        "id": "TkPkLprPung_",
        "colab_type": "code",
        "colab": {
          "base_uri": "https://localhost:8080/",
          "height": 51
        },
        "outputId": "c22c5c93-430c-41c5-ee63-64f7caf91fc2"
      },
      "source": [
        "import seaborn as sn\n",
        "def plot_conf_mat(mat, cmap_=\"OrRd\" ):\n",
        "    tn, fp, fn, tp  = mat.ravel()\n",
        "    print('-'*50)\n",
        "    print(\"TN: {}\\t FP: {} \\nFN: {}\\t TP: {}\".format(tn, fp, fn, tp))\n",
        "    print(\"The sensitivity/recall is: {:.2%}\".format(tp/(tp+fn)))\n",
        "    print(\"The specificity is: {:.2%}\".format(tn/(tn+fp)))\n",
        "    print(\"The precision is: {:.2%}\".format(tp/(tp+fp)))\n",
        "    print('-'*50)\n",
        "    ax = sn.heatmap(mat, annot=True, fmt=\"d\", cmap=cmap_)\n",
        "    plt.ylabel('Actual')\n",
        "    plt.xlabel('Predicted')\n",
        "    # Lætur tölurnar vera í miðjum kassanum\n",
        "    bottom, top = ax.get_ylim()\n",
        "    ax.set_ylim(bottom + 0.5, top - 0.5)\n",
        "    plt.show()"
      ],
      "execution_count": 41,
      "outputs": [
        {
          "output_type": "stream",
          "text": [
            "/usr/local/lib/python3.6/dist-packages/statsmodels/tools/_testing.py:19: FutureWarning: pandas.util.testing is deprecated. Use the functions in the public API at pandas.testing instead.\n",
            "  import pandas.util.testing as tm\n"
          ],
          "name": "stderr"
        }
      ]
    },
    {
      "cell_type": "code",
      "metadata": {
        "id": "o63yCJlDeqUq",
        "colab_type": "code",
        "colab": {}
      },
      "source": [
        "from nltk.tokenize import sent_tokenize, word_tokenize\n",
        "from nltk.corpus import stopwords\n",
        "from nltk.stem.snowball import SnowballStemmer\n",
        "stopWords = set(stopwords.words('english'))\n",
        "def removeStopwords(bag_of_words):    \n",
        "    wordsFiltered = []\n",
        "    for w in bag_of_words:\n",
        "        if w not in englishStopWords:\n",
        "            wordsFiltered.append(w)\n",
        "    return wordsFiltered"
      ],
      "execution_count": 0,
      "outputs": []
    },
    {
      "cell_type": "code",
      "metadata": {
        "id": "ah3zHeOYezvX",
        "colab_type": "code",
        "colab": {}
      },
      "source": [
        "# classColNo: number of the column. Toxic:1, Severe_Toxic:2, etc.\n",
        "# yValues: all y-values\n",
        "# stemming: if True then example \"swimming\" => \"swimg\" etc.\n",
        "def mostCommonWords(classColNo, yValues,stemming,x_data):\n",
        "    class_y_values = yValues[:,classColNo]\n",
        "    i_c = np.where(class_y_values == 1)[0]\n",
        "    words_in_col = []\n",
        "    for i in i_c:\n",
        "        for word in str(x_data[i]).split():\n",
        "            if stemming is False:\n",
        "                words_in_col.append(word)\n",
        "            else: words_in_col.append(stemmer.stem(word))\n",
        "    word_counter = {}\n",
        "    for word in words_in_col:\n",
        "        if word in word_counter:\n",
        "            word_counter[word] += 1\n",
        "        else:\n",
        "            word_counter[word] = 1 \n",
        "\n",
        "    filtered = removeStopwords(word_counter)\n",
        "\n",
        "\n",
        "    popular_words = sorted(filtered, key = word_counter.get, reverse = True)[:10]\n",
        "    popular_words_count=[]\n",
        "    for i in popular_words:\n",
        "        popular_words_count.append(word_counter[i])\n",
        "    return popular_words, popular_words_count"
      ],
      "execution_count": 0,
      "outputs": []
    },
    {
      "cell_type": "code",
      "metadata": {
        "id": "ZTt0nc7UfJEG",
        "colab_type": "code",
        "colab": {}
      },
      "source": [
        "from sklearn.metrics import precision_recall_curve\n",
        "from sklearn.metrics import average_precision_score\n",
        "from sklearn.metrics import f1_score\n",
        "from sklearn.metrics import roc_auc_score\n",
        "\n",
        "def plot_precision_recall(recall, precision, average_param, average_precision, no_skill):\n",
        "    plt.figure()\n",
        "\n",
        "    plt.step(recall[average_param], precision[average_param], where='post', label='Our model')\n",
        "    plt.step(no_skill[1], no_skill[0], linestyle='--', where='post', label='Random guess')\n",
        "\n",
        "    plt.xlabel('Recall/sensitivity')\n",
        "    plt.ylabel('Precision')\n",
        "    plt.ylim([0.0, 1.05])\n",
        "    plt.xlim([0.0, 1.0])\n",
        "    plt.legend(loc='center left', bbox_to_anchor=(1, 0.5))\n",
        "    plt.title(\n",
        "        'Average precision score, {}-averaged over all classes: AP={:0.2f}'\n",
        "        .format(average_param, average_precision[average_param]))\n",
        "    plt.show()\n",
        "    \n",
        "def calc_precision_recall(y_true, y_scores, average_param = \"micro\", y_pred_ = None ):\n",
        "    # Dæmi um notkun calc_precision_recall(y_test_np, y_scores, y_pred_ = y_test_pred)\n",
        "    # y_scores is the decision function \n",
        "    # For each class\n",
        "    # average_param has to be one of (None, 'micro', 'macro', 'weighted', 'samples')\n",
        "    # micro = Calculate metrics globally by considering each element of the label indicator matrix as a label\n",
        "    # macro = reiknar average_precision_score fyrir hvern label (hér: toxic...) og tekur óvigtað meðaltal\n",
        "    # Ættum helst að nota micro held ég\n",
        "    # y_scores er decision function sem segir hvoru megin (og hve langt frá) við aðskilnaðarplanið sem \n",
        "    # classfierinn býr til\n",
        "    # no_skill baseline classifier giskar randomly\n",
        "    # betra að nota random gisk hérna því all-zero gisk gefur 0 precision\n",
        "    if y_pred_ is not None:\n",
        "        # calculate F1 score\n",
        "        f1 = f1_score(y_true, y_pred_, average = average_param)\n",
        "        auc = roc_auc_score(y_true, y_scores, average = average_param)\n",
        "        print(\"F1 score: {:.3f}, AUC score: {:.3f}\".format(f1, auc))\n",
        "        \n",
        "    r_model = np.random.randint(2, size=len(y_true.ravel()))\n",
        "    no_skill = precision_recall_curve(y_true.ravel(), r_model)\n",
        "    \n",
        "    precision = dict()\n",
        "    recall = dict()\n",
        "    average_precision = dict()\n",
        "\n",
        "    # A \"micro-average\": quantifying score on all classes jointly\n",
        "    precision[average_param], recall[average_param], _ = precision_recall_curve(y_true.ravel(),\n",
        "        y_scores.ravel())\n",
        "\n",
        "    average_precision[average_param] = average_precision_score(y_true, y_scores,\n",
        "                                                         average=average_param)\n",
        "    \n",
        "    plot_precision_recall(recall, precision, average_param, average_precision, no_skill)\n",
        "    \n",
        "# calc_precision_recall(y_test_np, y_scores, y_pred_ = y_test_pred)"
      ],
      "execution_count": 0,
      "outputs": []
    },
    {
      "cell_type": "markdown",
      "metadata": {
        "id": "tGZXueQQehV9",
        "colab_type": "text"
      },
      "source": [
        "## ýmsar aðferðir enda"
      ]
    },
    {
      "cell_type": "code",
      "metadata": {
        "id": "P-f2qOLhunhC",
        "colab_type": "code",
        "colab": {}
      },
      "source": [
        "inp = Input(shape=(max_comment_length,))\n",
        "stuttModel = Sequential()\n",
        "stuttModel = Embedding(max_words, output_vector_len)(inp) \n",
        "#Embedded útskýring:\n",
        "    #Turns positive integers (indexes) into dense vectors of fixed size.\n",
        "######\n",
        "\n",
        "#####\n",
        "stuttModel = GRU(128)(stuttModel)\n",
        "\n",
        "stuttModel = Dense(64, activation=\"relu\")(stuttModel)\n",
        "stuttModel = Dense(6, activation=\"sigmoid\")(stuttModel)\n",
        "stuttModel = Model(inputs=inp, outputs=stuttModel)\n",
        "stuttModel.compile(loss='binary_crossentropy', optimizer=Adadelta(), metrics=[tf.keras.metrics.AUC()])\n",
        "stuttModel.summary()"
      ],
      "execution_count": 0,
      "outputs": []
    },
    {
      "cell_type": "code",
      "metadata": {
        "id": "xIgq1_wcunhQ",
        "colab_type": "code",
        "colab": {}
      },
      "source": [
        "\n",
        "    "
      ],
      "execution_count": 0,
      "outputs": []
    },
    {
      "cell_type": "code",
      "metadata": {
        "id": "ilfdLVIEunhU",
        "colab_type": "code",
        "colab": {}
      },
      "source": [
        "fig, ((ax1, ax2), (ax3, ax4),(ax5,ax6)) = plt.subplots(3,2, figsize=(15,15))\n",
        "ax = [ax1,ax2,ax3,ax4,ax5,ax6]\n",
        "for i in range(len(classes)):\n",
        "    theWords, theCount = (mostCommonWords(i,yValues,False,x_train))\n",
        "    ax[i].bar(theWords,theCount)\n",
        "    ax[i].set_title(classes[i].upper())\n",
        "    "
      ],
      "execution_count": 0,
      "outputs": []
    },
    {
      "cell_type": "code",
      "metadata": {
        "id": "dewogb8F1yCF",
        "colab_type": "code",
        "colab": {}
      },
      "source": [
        ""
      ],
      "execution_count": 0,
      "outputs": []
    },
    {
      "cell_type": "code",
      "metadata": {
        "id": "mvfnUttpunhf",
        "colab_type": "code",
        "colab": {}
      },
      "source": [
        "#oversampling=True if oversampling should be done\n",
        "def model(oversampling,datasetsize,includeSummary):\n",
        "  original_X_testData = train_data['comment_text'].to_numpy()\n",
        "  original_Y_testData = train_data[classes].to_numpy()\n",
        "  if oversampling is True:\n",
        "    df = Oversample(classes,train_data)\n",
        "    upsampled_x_train = df['comment_text'].to_numpy()\n",
        "    upsampled_y_train = df[classes].to_numpy()\n",
        "\n",
        "    upsampled_x_train, upsampled_y_train = getrandomSubset(upsampled_x_train,upsampled_y_train,datasetsize)\n",
        "\n",
        "    #Create train set from upsampled data and test set from original data\n",
        "    X_train, X_test = upsampled_x_train[0:int(datasetsize*0.8)], original_X_testData[0:int(datasetsize*0.2)]\n",
        "    y_train, y_test = upsampled_y_train[0:int(datasetsize*0.8)], original_Y_testData[0:int(datasetsize*0.2)]\n",
        "    \n",
        "    assert len(X_train) == len(y_train)\n",
        "  \n",
        "  else:\n",
        "    x_tr = x_train = train_data['comment_text'].to_numpy()\n",
        "    y_tr = train_data[classes].to_numpy()\n",
        "    x_tr,y_tr = getrandomSubset(x_tr,y_tr,datasetsize)\n",
        "\n",
        "    assert len(x_tr) == len(y_tr)\n",
        "    X_train, X_test, y_train, y_test = train_test_split(x_tr, y_tr, test_size=0.2)\n",
        "\n",
        "\n",
        "  print('=================')\n",
        "  print('|','train_data shape:', X_train.shape)\n",
        "  print('|',X_train.shape[0], 'train samples')\n",
        "  print('|',y_test.shape[0], 'test samples')\n",
        "  print('=================')\n",
        "\n",
        "  max_words = 1000 # <- spurning um hvað þetta eigi að vera\n",
        "  \n",
        "  tokenizer = text.Tokenizer(num_words=max_words)\n",
        "  num_classes = 6\n",
        "\n",
        "  tokenizer.fit_on_texts(list(X_train))\n",
        "  tokTrain = tokenizer.texts_to_sequences(X_train)\n",
        "  tokTest = tokenizer.texts_to_sequences(X_test)\n",
        "\n",
        "  x_train=sequence.pad_sequences(tokTrain, maxlen=256)\n",
        "  x_test=sequence.pad_sequences(tokTest, maxlen=256)\n",
        "  \n",
        "  inp = Input(shape=(256,))\n",
        "\n",
        "  stuttModel = Sequential()\n",
        "  stuttModel = Embedding(max_words, 333)(inp) # 333 meðaltal athugasemda lengda \n",
        "  #Embedded útskýring:\n",
        "      #Turns positive integers (indexes) into dense vectors of fixed size.\n",
        "  ######\n",
        "\n",
        "  #####\n",
        "  stuttModel = GRU(128)(stuttModel)\n",
        "\n",
        "  stuttModel = Dense(64, activation=\"relu\")(stuttModel)\n",
        "  stuttModel = Dense(num_classes, activation=\"sigmoid\")(stuttModel)\n",
        "  stuttModel = Model(inputs=inp, outputs=stuttModel)\n",
        "  stuttModel.compile(loss='binary_crossentropy', optimizer=Adadelta(), metrics=[tf.keras.metrics.AUC()])\n",
        "  if includeSummary is True:\n",
        "    stuttModel.summary()"
      ],
      "execution_count": 0,
      "outputs": []
    },
    {
      "cell_type": "markdown",
      "metadata": {
        "id": "OsB8CewsSvxN",
        "colab_type": "text"
      },
      "source": [
        "## Here we will use to see any difference oversampling"
      ]
    },
    {
      "cell_type": "code",
      "metadata": {
        "id": "3FFzxHALSbrE",
        "colab_type": "code",
        "colab": {
          "base_uri": "https://localhost:8080/",
          "height": 1000
        },
        "outputId": "2dade788-07c3-498e-d16c-dab6e9b59a3b"
      },
      "source": [
        "model(True,100000,True)\n",
        "batch_size = 128\n",
        "epochs = 8\n",
        "stuttHistory = stuttModel.fit(x_train, y_train, batch_size=batch_size, epochs=epochs, verbose = 1,validation_split=0.2)\n",
        "stuttScore = stuttModel.evaluate(x_test, y_test, batch_size=batch_size, verbose=1)\n",
        "plt.plot(stuttHistory.history['loss'])\n",
        "plt.plot(stuttHistory.history['val_loss'])\n",
        "plt.plot(stuttHistory.history['auc_11'])\n",
        "plt.plot(stuttHistory.history['val_auc_11'])\n",
        "plt.xlabel('epoch')\n",
        "plt.title(\"Oversampled dataset\")\n",
        "plt.legend(['loss', 'val_loss','auc','val_auc'])\n",
        "plt.show()\n",
        "pred = stuttModel.predict(x_test,batch_size=128, verbose=1)\n",
        "y_scores = pred\n",
        "for line in range(pred.shape[0]):\n",
        "    for item in range(pred.shape[1]):\n",
        "        if pred[line,item] > 0.5:\n",
        "            pred[line,item] = 1\n",
        "        else:\n",
        "            pred[line,item] = 0\n",
        "s_totals_mat = confusion_matrix(y_test.astype(int).ravel(), pred.astype(int).ravel())\n",
        "plot_conf_mat(s_totals_mat)\n",
        "calc_precision_recall(y_test, y_scores, average_param = \"micro\", y_pred_ = pred )"
      ],
      "execution_count": 131,
      "outputs": [
        {
          "output_type": "stream",
          "text": [
            "=================\n",
            "| train_data shape: (80000,)\n",
            "| 80000 train samples\n",
            "| 20000 test samples\n",
            "=================\n",
            "WARNING:tensorflow:Layer gru_14 will not use cuDNN kernel since it doesn't meet the cuDNN kernel criteria. It will use generic GPU kernel as fallback when running on GPU\n",
            "Model: \"model_20\"\n",
            "_________________________________________________________________\n",
            "Layer (type)                 Output Shape              Param #   \n",
            "=================================================================\n",
            "input_20 (InputLayer)        [(None, 256)]             0         \n",
            "_________________________________________________________________\n",
            "embedding_20 (Embedding)     (None, 256, 333)          333000    \n",
            "_________________________________________________________________\n",
            "gru_14 (GRU)                 (None, 128)               177792    \n",
            "_________________________________________________________________\n",
            "dense_40 (Dense)             (None, 64)                8256      \n",
            "_________________________________________________________________\n",
            "dense_41 (Dense)             (None, 6)                 390       \n",
            "=================================================================\n",
            "Total params: 519,438\n",
            "Trainable params: 519,438\n",
            "Non-trainable params: 0\n",
            "_________________________________________________________________\n",
            "Train on 6400 samples, validate on 1600 samples\n",
            "Epoch 1/8\n",
            "6400/6400 [==============================] - 12s 2ms/sample - loss: 0.0627 - auc_11: 0.9968 - val_loss: 0.1713 - val_auc_11: 0.9804\n",
            "Epoch 2/8\n",
            "6400/6400 [==============================] - 12s 2ms/sample - loss: 0.0630 - auc_11: 0.9968 - val_loss: 0.1697 - val_auc_11: 0.9806\n",
            "Epoch 3/8\n",
            "6400/6400 [==============================] - 12s 2ms/sample - loss: 0.0607 - auc_11: 0.9968 - val_loss: 0.1782 - val_auc_11: 0.9798\n",
            "Epoch 4/8\n",
            "6400/6400 [==============================] - 11s 2ms/sample - loss: 0.0595 - auc_11: 0.9971 - val_loss: 0.1743 - val_auc_11: 0.9807\n",
            "Epoch 5/8\n",
            "6400/6400 [==============================] - 11s 2ms/sample - loss: 0.0551 - auc_11: 0.9975 - val_loss: 0.1747 - val_auc_11: 0.9808\n",
            "Epoch 6/8\n",
            "6400/6400 [==============================] - 12s 2ms/sample - loss: 0.0562 - auc_11: 0.9973 - val_loss: 0.1749 - val_auc_11: 0.9804\n",
            "Epoch 7/8\n",
            "6400/6400 [==============================] - 11s 2ms/sample - loss: 0.0543 - auc_11: 0.9975 - val_loss: 0.1760 - val_auc_11: 0.9807\n",
            "Epoch 8/8\n",
            "6400/6400 [==============================] - 12s 2ms/sample - loss: 0.0512 - auc_11: 0.9978 - val_loss: 0.1779 - val_auc_11: 0.9804\n"
          ],
          "name": "stdout"
        },
        {
          "output_type": "display_data",
          "data": {
            "image/png": "[encoded data removed]",
            "text/plain": [
              "<Figure size 432x288 with 1 Axes>"
            ]
          },
          "metadata": {
            "tags": [],
            "needs_background": "light"
          }
        },
        {
          "output_type": "stream",
          "text": [
            "--------------------------------------------------\n",
            "TN: 7656\t FP: 301 \n",
            "FN: 184\t TP: 3859\n",
            "The sensitivity/recall is: 95.45%\n",
            "The specificity is: 96.22%\n",
            "The precision is: 92.76%\n",
            "--------------------------------------------------\n"
          ],
          "name": "stdout"
        },
        {
          "output_type": "display_data",
          "data": {
            "image/png": "[encoded data removed]",
            "text/plain": [
              "<Figure size 432x288 with 2 Axes>"
            ]
          },
          "metadata": {
            "tags": [],
            "needs_background": "light"
          }
        },
        {
          "output_type": "stream",
          "text": [
            "F1 score: 0.941, AUC score: 0.958\n"
          ],
          "name": "stdout"
        },
        {
          "output_type": "display_data",
          "data": {
            "image/png": "[encoded data removed]",
            "text/plain": [
              "<Figure size 432x288 with 1 Axes>"
            ]
          },
          "metadata": {
            "tags": [],
            "needs_background": "light"
          }
        }
      ]
    },
    {
      "cell_type": "code",
      "metadata": {
        "id": "Xzafl4q0Y0M6",
        "colab_type": "code",
        "colab": {}
      },
      "source": [
        ""
      ],
      "execution_count": 0,
      "outputs": []
    },
    {
      "cell_type": "markdown",
      "metadata": {
        "id": "V91KKdWlXBFt",
        "colab_type": "text"
      },
      "source": [
        "## Here we'll not be using oversampling"
      ]
    },
    {
      "cell_type": "code",
      "metadata": {
        "id": "Z_rXmQpZW022",
        "colab_type": "code",
        "colab": {
          "base_uri": "https://localhost:8080/",
          "height": 1000
        },
        "outputId": "0ad23215-e541-4be1-ba7b-922036da9d6c"
      },
      "source": [
        "model(False,100000,False)\n",
        "batch_size = 128\n",
        "epochs = 8\n",
        "stuttHistory = stuttModel.fit(x_train, y_train, batch_size=batch_size, epochs=epochs, verbose = 1,validation_split=0.2)\n",
        "stuttScore = stuttModel.evaluate(x_test, y_test, batch_size=batch_size, verbose=1)\n",
        "\n",
        "plt.plot(stuttHistory.history['loss'])\n",
        "plt.plot(stuttHistory.history['val_loss'])\n",
        "plt.plot(stuttHistory.history['auc_11'])\n",
        "plt.plot(stuttHistory.history['val_auc_11'])\n",
        "plt.xlabel('epoch')\n",
        "plt.title(\"Normal dataset\")\n",
        "plt.legend(['loss', 'val_loss','auc','val_auc'])\n",
        "plt.show()\n",
        "pred = stuttModel.predict(x_test,batch_size=128, verbose=1)\n",
        "y_scores = pred\n",
        "for line in range(pred.shape[0]):\n",
        "    for item in range(pred.shape[1]):\n",
        "        if pred[line,item] > 0.5:\n",
        "            pred[line,item] = 1\n",
        "        else:\n",
        "            pred[line,item] = 0\n",
        "s_totals_mat = confusion_matrix(y_test.astype(int).ravel(), pred.astype(int).ravel())\n",
        "plot_conf_mat(s_totals_mat)\n",
        "calc_precision_recall(y_test, y_scores, average_param = \"micro\", y_pred_ = pred )"
      ],
      "execution_count": 130,
      "outputs": [
        {
          "output_type": "stream",
          "text": [
            "=================\n",
            "| train_data shape: (80000,)\n",
            "| 80000 train samples\n",
            "| 20000 test samples\n",
            "=================\n",
            "WARNING:tensorflow:Layer gru_13 will not use cuDNN kernel since it doesn't meet the cuDNN kernel criteria. It will use generic GPU kernel as fallback when running on GPU\n",
            "Train on 6400 samples, validate on 1600 samples\n",
            "Epoch 1/8\n",
            "6400/6400 [==============================] - 12s 2ms/sample - loss: 0.0779 - auc_11: 0.9952 - val_loss: 0.1680 - val_auc_11: 0.9808\n",
            "Epoch 2/8\n",
            "6400/6400 [==============================] - 12s 2ms/sample - loss: 0.0776 - auc_11: 0.9952 - val_loss: 0.1658 - val_auc_11: 0.9811\n",
            "Epoch 3/8\n",
            "6400/6400 [==============================] - 12s 2ms/sample - loss: 0.0709 - auc_11: 0.9960 - val_loss: 0.1711 - val_auc_11: 0.9808\n",
            "Epoch 4/8\n",
            "6400/6400 [==============================] - 12s 2ms/sample - loss: 0.0729 - auc_11: 0.9959 - val_loss: 0.1723 - val_auc_11: 0.9803\n",
            "Epoch 5/8\n",
            "6400/6400 [==============================] - 12s 2ms/sample - loss: 0.0693 - auc_11: 0.9962 - val_loss: 0.1785 - val_auc_11: 0.9809\n",
            "Epoch 6/8\n",
            "6400/6400 [==============================] - 12s 2ms/sample - loss: 0.0691 - auc_11: 0.9962 - val_loss: 0.1809 - val_auc_11: 0.9805\n",
            "Epoch 7/8\n",
            "6400/6400 [==============================] - 12s 2ms/sample - loss: 0.0682 - auc_11: 0.9963 - val_loss: 0.1700 - val_auc_11: 0.9806\n",
            "Epoch 8/8\n",
            "6400/6400 [==============================] - 12s 2ms/sample - loss: 0.0679 - auc_11: 0.9963 - val_loss: 0.1726 - val_auc_11: 0.9810\n"
          ],
          "name": "stdout"
        },
        {
          "output_type": "display_data",
          "data": {
            "image/png": "[encoded data removed]",
            "text/plain": [
              "<Figure size 432x288 with 1 Axes>"
            ]
          },
          "metadata": {
            "tags": [],
            "needs_background": "light"
          }
        },
        {
          "output_type": "stream",
          "text": [
            "--------------------------------------------------\n",
            "TN: 7625\t FP: 332 \n",
            "FN: 211\t TP: 3832\n",
            "The sensitivity/recall is: 94.78%\n",
            "The specificity is: 95.83%\n",
            "The precision is: 92.03%\n",
            "--------------------------------------------------\n"
          ],
          "name": "stdout"
        },
        {
          "output_type": "display_data",
          "data": {
            "image/png": "[encoded data removed]",
            "text/plain": [
              "<Figure size 432x288 with 2 Axes>"
            ]
          },
          "metadata": {
            "tags": [],
            "needs_background": "light"
          }
        },
        {
          "output_type": "stream",
          "text": [
            "F1 score: 0.934, AUC score: 0.953\n"
          ],
          "name": "stdout"
        },
        {
          "output_type": "display_data",
          "data": {
            "image/png": "[encoded data removed]",
            "text/plain": [
              "<Figure size 432x288 with 1 Axes>"
            ]
          },
          "metadata": {
            "tags": [],
            "needs_background": "light"
          }
        }
      ]
    },
    {
      "cell_type": "code",
      "metadata": {
        "id": "TRTo6W5sGs4M",
        "colab_type": "code",
        "colab": {}
      },
      "source": [
        ""
      ],
      "execution_count": 0,
      "outputs": []
    }
  ]
}