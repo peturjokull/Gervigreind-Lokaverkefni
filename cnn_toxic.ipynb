{
  "nbformat": 4,
  "nbformat_minor": 0,
  "metadata": {
    "kernelspec": {
      "display_name": "Python 3",
      "language": "python",
      "name": "python3"
    },
    "language_info": {
      "codemirror_mode": {
        "name": "ipython",
        "version": 3
      },
      "file_extension": ".py",
      "mimetype": "text/x-python",
      "name": "python",
      "nbconvert_exporter": "python",
      "pygments_lexer": "ipython3",
      "version": "3.7.3"
    },
    "colab": {
      "name": "petur.ipynb",
      "provenance": [],
      "collapsed_sections": [],
      "toc_visible": true
    },
    "accelerator": "GPU"
  },
  "cells": [
    {
      "cell_type": "markdown",
      "metadata": {
        "id": "9q2yVvTlunfK",
        "colab_type": "text"
      },
      "source": [
        "#### Pakkar"
      ]
    },
    {
      "cell_type": "code",
      "metadata": {
        "id": "AmvikvmhunfL",
        "colab_type": "code",
        "outputId": "0970521c-fa8a-4ff0-8f61-5252a94c1948",
        "colab": {
          "base_uri": "https://localhost:8080/",
          "height": 88
        }
      },
      "source": [
        "import numpy as np\n",
        "import pandas as pd\n",
        "from sklearn.feature_extraction import stop_words\n",
        "import string\n",
        "from keras.preprocessing import text, sequence\n",
        "from sklearn.model_selection import train_test_split\n",
        "from tensorflow.python.keras.models import Sequential, Model\n",
        "from tensorflow.python.keras.layers import Dense, Activation, Dropout, Flatten, Input, Embedding\n",
        "from tensorflow.python.keras.optimizers import Adadelta\n",
        "from tensorflow.python.keras.layers import Conv1D, MaxPooling1D, GRU, LSTM\n",
        "import tensorflow as tf\n",
        "from matplotlib.colors import Normalize\n",
        "import matplotlib.pyplot as plt\n",
        "from sklearn.metrics import plot_confusion_matrix\n",
        "from sklearn.metrics import classification_report\n",
        "from sklearn.metrics import confusion_matrix\n",
        "from sklearn.feature_extraction.text import TfidfTransformer\n",
        "from sklearn.metrics import plot_confusion_matrix\n",
        "from sklearn.metrics import classification_report\n",
        "from sklearn.metrics import confusion_matrix"
      ],
      "execution_count": 2,
      "outputs": [
        {
          "output_type": "stream",
          "text": [
            "/usr/local/lib/python3.6/dist-packages/sklearn/utils/deprecation.py:144: FutureWarning: The sklearn.feature_extraction.stop_words module is  deprecated in version 0.22 and will be removed in version 0.24. The corresponding classes / functions should instead be imported from sklearn.feature_extraction.text. Anything that cannot be imported from sklearn.feature_extraction.text is now part of the private API.\n",
            "  warnings.warn(message, FutureWarning)\n",
            "Using TensorFlow backend.\n"
          ],
          "name": "stderr"
        }
      ]
    },
    {
      "cell_type": "code",
      "metadata": {
        "id": "RAMNbgngunfP",
        "colab_type": "code",
        "colab": {}
      },
      "source": [
        "tf.compat.v1.disable_eager_execution()\n",
        "import warnings; \n",
        "warnings.filterwarnings(\"ignore\") # ignore warnings for the purpose of readability"
      ],
      "execution_count": 0,
      "outputs": []
    },
    {
      "cell_type": "markdown",
      "metadata": {
        "id": "XRbEJWo5unfX",
        "colab_type": "text"
      },
      "source": [
        "#### Innlestur gagna"
      ]
    },
    {
      "cell_type": "code",
      "metadata": {
        "id": "3ZXG5Na8unfY",
        "colab_type": "code",
        "outputId": "d0a56771-863a-48c7-afa3-04394b49e0c9",
        "colab": {
          "base_uri": "https://localhost:8080/",
          "height": 425
        }
      },
      "source": [
        "train_data = pd.read_csv('data/train.csv',delimiter=',')\n",
        "\n",
        "test_data = pd.read_csv('data/test.csv',delimiter=',')\n",
        "classes = [\"toxic\",\"severe_toxic\",\"obscene\",\"threat\",\"insult\",\"identity_hate\"]"
      ],
      "execution_count": 4,
      "outputs": [
        {
          "output_type": "error",
          "ename": "FileNotFoundError",
          "evalue": "ignored",
          "traceback": [
            "\u001b[0;31m---------------------------------------------------------------------------\u001b[0m",
            "\u001b[0;31mFileNotFoundError\u001b[0m                         Traceback (most recent call last)",
            "\u001b[0;32m<ipython-input-4-7e88dd1de405>\u001b[0m in \u001b[0;36m<module>\u001b[0;34m()\u001b[0m\n\u001b[0;32m----> 1\u001b[0;31m \u001b[0mtrain_data\u001b[0m \u001b[0;34m=\u001b[0m \u001b[0mpd\u001b[0m\u001b[0;34m.\u001b[0m\u001b[0mread_csv\u001b[0m\u001b[0;34m(\u001b[0m\u001b[0;34m'data/train.csv'\u001b[0m\u001b[0;34m,\u001b[0m\u001b[0mdelimiter\u001b[0m\u001b[0;34m=\u001b[0m\u001b[0;34m','\u001b[0m\u001b[0;34m)\u001b[0m\u001b[0;34m\u001b[0m\u001b[0;34m\u001b[0m\u001b[0m\n\u001b[0m\u001b[1;32m      2\u001b[0m \u001b[0;34m\u001b[0m\u001b[0m\n\u001b[1;32m      3\u001b[0m \u001b[0mtest_data\u001b[0m \u001b[0;34m=\u001b[0m \u001b[0mpd\u001b[0m\u001b[0;34m.\u001b[0m\u001b[0mread_csv\u001b[0m\u001b[0;34m(\u001b[0m\u001b[0;34m'data/test.csv'\u001b[0m\u001b[0;34m,\u001b[0m\u001b[0mdelimiter\u001b[0m\u001b[0;34m=\u001b[0m\u001b[0;34m','\u001b[0m\u001b[0;34m)\u001b[0m\u001b[0;34m\u001b[0m\u001b[0;34m\u001b[0m\u001b[0m\n\u001b[1;32m      4\u001b[0m \u001b[0mclasses\u001b[0m \u001b[0;34m=\u001b[0m \u001b[0;34m[\u001b[0m\u001b[0;34m\"toxic\"\u001b[0m\u001b[0;34m,\u001b[0m\u001b[0;34m\"severe_toxic\"\u001b[0m\u001b[0;34m,\u001b[0m\u001b[0;34m\"obscene\"\u001b[0m\u001b[0;34m,\u001b[0m\u001b[0;34m\"threat\"\u001b[0m\u001b[0;34m,\u001b[0m\u001b[0;34m\"insult\"\u001b[0m\u001b[0;34m,\u001b[0m\u001b[0;34m\"identity_hate\"\u001b[0m\u001b[0;34m]\u001b[0m\u001b[0;34m\u001b[0m\u001b[0;34m\u001b[0m\u001b[0m\n",
            "\u001b[0;32m/usr/local/lib/python3.6/dist-packages/pandas/io/parsers.py\u001b[0m in \u001b[0;36mparser_f\u001b[0;34m(filepath_or_buffer, sep, delimiter, header, names, index_col, usecols, squeeze, prefix, mangle_dupe_cols, dtype, engine, converters, true_values, false_values, skipinitialspace, skiprows, skipfooter, nrows, na_values, keep_default_na, na_filter, verbose, skip_blank_lines, parse_dates, infer_datetime_format, keep_date_col, date_parser, dayfirst, cache_dates, iterator, chunksize, compression, thousands, decimal, lineterminator, quotechar, quoting, doublequote, escapechar, comment, encoding, dialect, error_bad_lines, warn_bad_lines, delim_whitespace, low_memory, memory_map, float_precision)\u001b[0m\n\u001b[1;32m    674\u001b[0m         )\n\u001b[1;32m    675\u001b[0m \u001b[0;34m\u001b[0m\u001b[0m\n\u001b[0;32m--> 676\u001b[0;31m         \u001b[0;32mreturn\u001b[0m \u001b[0m_read\u001b[0m\u001b[0;34m(\u001b[0m\u001b[0mfilepath_or_buffer\u001b[0m\u001b[0;34m,\u001b[0m \u001b[0mkwds\u001b[0m\u001b[0;34m)\u001b[0m\u001b[0;34m\u001b[0m\u001b[0;34m\u001b[0m\u001b[0m\n\u001b[0m\u001b[1;32m    677\u001b[0m \u001b[0;34m\u001b[0m\u001b[0m\n\u001b[1;32m    678\u001b[0m     \u001b[0mparser_f\u001b[0m\u001b[0;34m.\u001b[0m\u001b[0m__name__\u001b[0m \u001b[0;34m=\u001b[0m \u001b[0mname\u001b[0m\u001b[0;34m\u001b[0m\u001b[0;34m\u001b[0m\u001b[0m\n",
            "\u001b[0;32m/usr/local/lib/python3.6/dist-packages/pandas/io/parsers.py\u001b[0m in \u001b[0;36m_read\u001b[0;34m(filepath_or_buffer, kwds)\u001b[0m\n\u001b[1;32m    446\u001b[0m \u001b[0;34m\u001b[0m\u001b[0m\n\u001b[1;32m    447\u001b[0m     \u001b[0;31m# Create the parser.\u001b[0m\u001b[0;34m\u001b[0m\u001b[0;34m\u001b[0m\u001b[0;34m\u001b[0m\u001b[0m\n\u001b[0;32m--> 448\u001b[0;31m     \u001b[0mparser\u001b[0m \u001b[0;34m=\u001b[0m \u001b[0mTextFileReader\u001b[0m\u001b[0;34m(\u001b[0m\u001b[0mfp_or_buf\u001b[0m\u001b[0;34m,\u001b[0m \u001b[0;34m**\u001b[0m\u001b[0mkwds\u001b[0m\u001b[0;34m)\u001b[0m\u001b[0;34m\u001b[0m\u001b[0;34m\u001b[0m\u001b[0m\n\u001b[0m\u001b[1;32m    449\u001b[0m \u001b[0;34m\u001b[0m\u001b[0m\n\u001b[1;32m    450\u001b[0m     \u001b[0;32mif\u001b[0m \u001b[0mchunksize\u001b[0m \u001b[0;32mor\u001b[0m \u001b[0miterator\u001b[0m\u001b[0;34m:\u001b[0m\u001b[0;34m\u001b[0m\u001b[0;34m\u001b[0m\u001b[0m\n",
            "\u001b[0;32m/usr/local/lib/python3.6/dist-packages/pandas/io/parsers.py\u001b[0m in \u001b[0;36m__init__\u001b[0;34m(self, f, engine, **kwds)\u001b[0m\n\u001b[1;32m    878\u001b[0m             \u001b[0mself\u001b[0m\u001b[0;34m.\u001b[0m\u001b[0moptions\u001b[0m\u001b[0;34m[\u001b[0m\u001b[0;34m\"has_index_names\"\u001b[0m\u001b[0;34m]\u001b[0m \u001b[0;34m=\u001b[0m \u001b[0mkwds\u001b[0m\u001b[0;34m[\u001b[0m\u001b[0;34m\"has_index_names\"\u001b[0m\u001b[0;34m]\u001b[0m\u001b[0;34m\u001b[0m\u001b[0;34m\u001b[0m\u001b[0m\n\u001b[1;32m    879\u001b[0m \u001b[0;34m\u001b[0m\u001b[0m\n\u001b[0;32m--> 880\u001b[0;31m         \u001b[0mself\u001b[0m\u001b[0;34m.\u001b[0m\u001b[0m_make_engine\u001b[0m\u001b[0;34m(\u001b[0m\u001b[0mself\u001b[0m\u001b[0;34m.\u001b[0m\u001b[0mengine\u001b[0m\u001b[0;34m)\u001b[0m\u001b[0;34m\u001b[0m\u001b[0;34m\u001b[0m\u001b[0m\n\u001b[0m\u001b[1;32m    881\u001b[0m \u001b[0;34m\u001b[0m\u001b[0m\n\u001b[1;32m    882\u001b[0m     \u001b[0;32mdef\u001b[0m \u001b[0mclose\u001b[0m\u001b[0;34m(\u001b[0m\u001b[0mself\u001b[0m\u001b[0;34m)\u001b[0m\u001b[0;34m:\u001b[0m\u001b[0;34m\u001b[0m\u001b[0;34m\u001b[0m\u001b[0m\n",
            "\u001b[0;32m/usr/local/lib/python3.6/dist-packages/pandas/io/parsers.py\u001b[0m in \u001b[0;36m_make_engine\u001b[0;34m(self, engine)\u001b[0m\n\u001b[1;32m   1112\u001b[0m     \u001b[0;32mdef\u001b[0m \u001b[0m_make_engine\u001b[0m\u001b[0;34m(\u001b[0m\u001b[0mself\u001b[0m\u001b[0;34m,\u001b[0m \u001b[0mengine\u001b[0m\u001b[0;34m=\u001b[0m\u001b[0;34m\"c\"\u001b[0m\u001b[0;34m)\u001b[0m\u001b[0;34m:\u001b[0m\u001b[0;34m\u001b[0m\u001b[0;34m\u001b[0m\u001b[0m\n\u001b[1;32m   1113\u001b[0m         \u001b[0;32mif\u001b[0m \u001b[0mengine\u001b[0m \u001b[0;34m==\u001b[0m \u001b[0;34m\"c\"\u001b[0m\u001b[0;34m:\u001b[0m\u001b[0;34m\u001b[0m\u001b[0;34m\u001b[0m\u001b[0m\n\u001b[0;32m-> 1114\u001b[0;31m             \u001b[0mself\u001b[0m\u001b[0;34m.\u001b[0m\u001b[0m_engine\u001b[0m \u001b[0;34m=\u001b[0m \u001b[0mCParserWrapper\u001b[0m\u001b[0;34m(\u001b[0m\u001b[0mself\u001b[0m\u001b[0;34m.\u001b[0m\u001b[0mf\u001b[0m\u001b[0;34m,\u001b[0m \u001b[0;34m**\u001b[0m\u001b[0mself\u001b[0m\u001b[0;34m.\u001b[0m\u001b[0moptions\u001b[0m\u001b[0;34m)\u001b[0m\u001b[0;34m\u001b[0m\u001b[0;34m\u001b[0m\u001b[0m\n\u001b[0m\u001b[1;32m   1115\u001b[0m         \u001b[0;32melse\u001b[0m\u001b[0;34m:\u001b[0m\u001b[0;34m\u001b[0m\u001b[0;34m\u001b[0m\u001b[0m\n\u001b[1;32m   1116\u001b[0m             \u001b[0;32mif\u001b[0m \u001b[0mengine\u001b[0m \u001b[0;34m==\u001b[0m \u001b[0;34m\"python\"\u001b[0m\u001b[0;34m:\u001b[0m\u001b[0;34m\u001b[0m\u001b[0;34m\u001b[0m\u001b[0m\n",
            "\u001b[0;32m/usr/local/lib/python3.6/dist-packages/pandas/io/parsers.py\u001b[0m in \u001b[0;36m__init__\u001b[0;34m(self, src, **kwds)\u001b[0m\n\u001b[1;32m   1889\u001b[0m         \u001b[0mkwds\u001b[0m\u001b[0;34m[\u001b[0m\u001b[0;34m\"usecols\"\u001b[0m\u001b[0;34m]\u001b[0m \u001b[0;34m=\u001b[0m \u001b[0mself\u001b[0m\u001b[0;34m.\u001b[0m\u001b[0musecols\u001b[0m\u001b[0;34m\u001b[0m\u001b[0;34m\u001b[0m\u001b[0m\n\u001b[1;32m   1890\u001b[0m \u001b[0;34m\u001b[0m\u001b[0m\n\u001b[0;32m-> 1891\u001b[0;31m         \u001b[0mself\u001b[0m\u001b[0;34m.\u001b[0m\u001b[0m_reader\u001b[0m \u001b[0;34m=\u001b[0m \u001b[0mparsers\u001b[0m\u001b[0;34m.\u001b[0m\u001b[0mTextReader\u001b[0m\u001b[0;34m(\u001b[0m\u001b[0msrc\u001b[0m\u001b[0;34m,\u001b[0m \u001b[0;34m**\u001b[0m\u001b[0mkwds\u001b[0m\u001b[0;34m)\u001b[0m\u001b[0;34m\u001b[0m\u001b[0;34m\u001b[0m\u001b[0m\n\u001b[0m\u001b[1;32m   1892\u001b[0m         \u001b[0mself\u001b[0m\u001b[0;34m.\u001b[0m\u001b[0munnamed_cols\u001b[0m \u001b[0;34m=\u001b[0m \u001b[0mself\u001b[0m\u001b[0;34m.\u001b[0m\u001b[0m_reader\u001b[0m\u001b[0;34m.\u001b[0m\u001b[0munnamed_cols\u001b[0m\u001b[0;34m\u001b[0m\u001b[0;34m\u001b[0m\u001b[0m\n\u001b[1;32m   1893\u001b[0m \u001b[0;34m\u001b[0m\u001b[0m\n",
            "\u001b[0;32mpandas/_libs/parsers.pyx\u001b[0m in \u001b[0;36mpandas._libs.parsers.TextReader.__cinit__\u001b[0;34m()\u001b[0m\n",
            "\u001b[0;32mpandas/_libs/parsers.pyx\u001b[0m in \u001b[0;36mpandas._libs.parsers.TextReader._setup_parser_source\u001b[0;34m()\u001b[0m\n",
            "\u001b[0;31mFileNotFoundError\u001b[0m: [Errno 2] File data/train.csv does not exist: 'data/train.csv'"
          ]
        }
      ]
    },
    {
      "cell_type": "markdown",
      "metadata": {
        "id": "58z38Y2ieXSg",
        "colab_type": "text"
      },
      "source": [
        "### Ýmsar aðferðir"
      ]
    },
    {
      "cell_type": "code",
      "metadata": {
        "id": "p5j4UtZjgD92",
        "colab_type": "code",
        "colab": {}
      },
      "source": [
        "def Oversample(classes,train_data):\n",
        "    for className in classes:\n",
        "        count_class_0, count_class_1=train_data[className].value_counts()\n",
        "        df_class_1 = train_data[train_data[className] == 1]\n",
        "        df_class_0 = train_data[train_data[className] == 0]\n",
        "        df_class_1_over = df_class_1.sample(count_class_0, replace=True)\n",
        "        df_test_over = pd.concat([df_class_0, df_class_1_over], axis=0)\n",
        "        #print(df_test_over[className].value_counts())\n",
        "    return df_test_over"
      ],
      "execution_count": 0,
      "outputs": []
    },
    {
      "cell_type": "code",
      "metadata": {
        "id": "4IJ-YOQlung9",
        "colab_type": "code",
        "colab": {}
      },
      "source": [
        "def plot_acc_params(param, train_acc_, val_acc_, param_name, title):\n",
        "    plt.plot(param, train_acc_,label='Training accuracy')\n",
        "    plt.plot(param, val_acc_,label='Validation accuracy')\n",
        "    plt.title(title)\n",
        "    plt.xlabel(param_name)\n",
        "    plt.ylabel('Accuracy')\n",
        "    plt.legend()\n",
        "    plt.show()\n",
        "\n",
        "\n",
        "# Utility function to move the midpoint of a colormap to be around\n",
        "# the values of interest.\n",
        "class MidpointNormalize(Normalize):\n",
        "\n",
        "    def __init__(self, vmin=None, vmax=None, midpoint=None, clip=False):\n",
        "        self.midpoint = midpoint\n",
        "        Normalize.__init__(self, vmin, vmax, clip)\n",
        "\n",
        "    def __call__(self, value, clip=None):\n",
        "        x, y = [self.vmin, self.midpoint, self.vmax], [0, 0.5, 1]\n",
        "        return np.ma.masked_array(np.interp(value, x, y))\n",
        "\n",
        "def plot_heatmap(data_matrix, title, xlabel, ylabel, x_values, y_values, vmin_, midpoint_):\n",
        "    plt.figure(figsize=(8, 6))\n",
        "    plt.subplots_adjust(left=.2, right=0.95, bottom=0.15, top=0.95)\n",
        "    plt.imshow(data_matrix, interpolation='nearest', cmap=plt.cm.seismic,\n",
        "               norm=MidpointNormalize(vmin=vmin_, midpoint=midpoint_))\n",
        "    plt.xlabel(xlabel)\n",
        "    plt.ylabel(ylabel)\n",
        "    plt.colorbar()\n",
        "    \n",
        "    plt.grid(None)\n",
        "    plt.xticks(np.arange(len(x_values)), x_values, rotation=45)\n",
        "    plt.yticks(np.arange(len(y_values)), y_values)\n",
        "    plt.title(title)\n",
        "    plt.show()"
      ],
      "execution_count": 0,
      "outputs": []
    },
    {
      "cell_type": "code",
      "metadata": {
        "id": "df4bjxXheRAr",
        "colab_type": "code",
        "colab": {}
      },
      "source": [
        "\n",
        "def getrandomSubset(x,y,size):\n",
        "  numbers = np.random.choice(range(len(x)), size, replace=False)\n",
        "  return x[numbers], y[numbers]"
      ],
      "execution_count": 0,
      "outputs": []
    },
    {
      "cell_type": "code",
      "metadata": {
        "id": "TkPkLprPung_",
        "colab_type": "code",
        "colab": {}
      },
      "source": [
        "import seaborn as sn\n",
        "def plot_conf_mat(mat, cmap_=\"OrRd\" ):\n",
        "    tn, fp, fn, tp  = mat.ravel()\n",
        "    print('-'*50)\n",
        "    print(\"TN: {}\\t FP: {} \\nFN: {}\\t TP: {}\".format(tn, fp, fn, tp))\n",
        "    print(\"The sensitivity/recall is: {:.2%}\".format(tp/(tp+fn)))\n",
        "    print(\"The specificity is: {:.2%}\".format(tn/(tn+fp)))\n",
        "    print(\"The precision is: {:.2%}\".format(tp/(tp+fp)))\n",
        "    print('-'*50)\n",
        "    ax = sn.heatmap(mat, annot=True, fmt=\"d\", cmap=cmap_)\n",
        "    plt.ylabel('Actual')\n",
        "    plt.xlabel('Predicted')\n",
        "    # Lætur tölurnar vera í miðjum kassanum\n",
        "    bottom, top = ax.get_ylim()\n",
        "    ax.set_ylim(bottom + 0.5, top - 0.5)\n",
        "    plt.show()"
      ],
      "execution_count": 0,
      "outputs": []
    },
    {
      "cell_type": "markdown",
      "metadata": {
        "id": "nSQYGwMiZVOi",
        "colab_type": "text"
      },
      "source": [
        "## Normaldata set CNN training starts"
      ]
    },
    {
      "cell_type": "code",
      "metadata": {
        "id": "Xzafl4q0Y0M6",
        "colab_type": "code",
        "colab": {
          "base_uri": "https://localhost:8080/",
          "height": 119
        },
        "outputId": "0d9240cc-6743-480d-ff24-9506a0dd5ea9"
      },
      "source": [
        "original_X_testData = train_data['comment_text'].to_numpy()\n",
        "original_Y_testData = train_data[classes].to_numpy()\n",
        "datasetsize = 100000\n",
        "\n",
        "\n",
        "x_tr = x_train = train_data['comment_text'].to_numpy()\n",
        "y_tr = train_data[classes].to_numpy()\n",
        "x_tr,y_tr = getrandomSubset(x_tr,y_tr,datasetsize)\n",
        "\n",
        "assert len(x_tr) == len(y_tr)\n",
        "X_train, X_test, y_train, y_test = train_test_split(x_tr, y_tr, test_size=0.2)\n",
        "\n",
        "\n",
        "print('=================')\n",
        "print('|','train_data shape:', X_train.shape)\n",
        "print('|',X_train.shape[0], 'train samples')\n",
        "print('|',y_test.shape[0], 'test samples')\n",
        "print('=================')\n",
        "\n",
        "max_words = 1000 # <- spurning um hvað þetta eigi að vera\n",
        "\n",
        "tokenizer = text.Tokenizer(num_words=max_words)\n",
        "num_classes = 6\n",
        "\n",
        "tokenizer.fit_on_texts(list(X_train))\n",
        "tokTrain = tokenizer.texts_to_sequences(X_train)\n",
        "tokTest = tokenizer.texts_to_sequences(X_test)\n",
        "\n",
        "x_train=sequence.pad_sequences(tokTrain, maxlen=256)\n",
        "x_test=sequence.pad_sequences(tokTest, maxlen=256)\n",
        "\n",
        "inp = Input(shape=(256,))\n",
        "\n",
        "stuttModel = Sequential()\n",
        "stuttModel = Embedding(max_words, 333)(inp) # 333 meðaltal athugasemda lengda \n",
        "#Embedded útskýring:\n",
        "  #Turns positive integers (indexes) into dense vectors of fixed size.\n",
        "######\n",
        "\n",
        "#####\n",
        "stuttModel = GRU(128)(stuttModel)\n",
        "\n",
        "stuttModel = Dense(64, activation=\"relu\")(stuttModel)\n",
        "stuttModel = Dense(num_classes, activation=\"sigmoid\")(stuttModel)\n",
        "stuttModel = Model(inputs=inp, outputs=stuttModel)\n",
        "stuttModel.compile(loss='binary_crossentropy', optimizer=Adadelta(), metrics=[tf.keras.metrics.AUC()])"
      ],
      "execution_count": 163,
      "outputs": [
        {
          "output_type": "stream",
          "text": [
            "=================\n",
            "| train_data shape: (80000,)\n",
            "| 80000 train samples\n",
            "| 20000 test samples\n",
            "=================\n",
            "WARNING:tensorflow:Layer gru_10 will not use cuDNN kernel since it doesn't meet the cuDNN kernel criteria. It will use generic GPU kernel as fallback when running on GPU\n"
          ],
          "name": "stdout"
        }
      ]
    },
    {
      "cell_type": "markdown",
      "metadata": {
        "id": "V91KKdWlXBFt",
        "colab_type": "text"
      },
      "source": [
        "## Training the Neural Network on normal dataset"
      ]
    },
    {
      "cell_type": "code",
      "metadata": {
        "id": "Z_rXmQpZW022",
        "colab_type": "code",
        "colab": {
          "base_uri": "https://localhost:8080/",
          "height": 187
        },
        "outputId": "d54d15fc-884b-40b1-8762-807340c5d8b6"
      },
      "source": [
        "# model(False,100000,False)\n",
        "stuttModel = getModel()\n",
        "batch_size = 128\n",
        "epochs = 4\n",
        "stuttHistory = stuttModel.fit(x_train, y_train, batch_size=batch_size, epochs=epochs, verbose = 1,validation_split=0.2)\n",
        "stuttScore = stuttModel.evaluate(x_test, y_test, batch_size=batch_size, verbose=1)\n",
        "\n",
        "\n",
        "y_scores_n = stuttModel.predict(x_test,batch_size=128, verbose=1)\n",
        "\n"
      ],
      "execution_count": 164,
      "outputs": [
        {
          "output_type": "stream",
          "text": [
            "WARNING:tensorflow:Layer gru_11 will not use cuDNN kernel since it doesn't meet the cuDNN kernel criteria. It will use generic GPU kernel as fallback when running on GPU\n",
            "Train on 64000 samples, validate on 16000 samples\n",
            "Epoch 1/4\n",
            "64000/64000 [==============================] - 161s 3ms/sample - loss: 0.1301 - auc_11: 0.8503 - val_loss: 0.0954 - val_auc_11: 0.9272\n",
            "Epoch 2/4\n",
            "64000/64000 [==============================] - 157s 2ms/sample - loss: 0.0818 - auc_11: 0.9355 - val_loss: 0.0828 - val_auc_11: 0.9386\n",
            "Epoch 3/4\n",
            "64000/64000 [==============================] - 155s 2ms/sample - loss: 0.0723 - auc_11: 0.9514 - val_loss: 0.0729 - val_auc_11: 0.9525\n",
            "Epoch 4/4\n",
            "64000/64000 [==============================] - 155s 2ms/sample - loss: 0.0699 - auc_11: 0.9540 - val_loss: 0.0740 - val_auc_11: 0.9574\n"
          ],
          "name": "stdout"
        }
      ]
    },
    {
      "cell_type": "code",
      "metadata": {
        "id": "s4ZWlDOCTV-t",
        "colab_type": "code",
        "colab": {
          "base_uri": "https://localhost:8080/",
          "height": 398
        },
        "outputId": "75059524-184e-4884-9bb2-0cd6eba63002"
      },
      "source": [
        "pred_over=np.zeros(y_scores_n.shape)\n",
        "for line in range(y_scores_n.shape[0]):\n",
        "    for item in range(y_scores_n.shape[1]):\n",
        "        if y_scores_n[line,item] > 0.5:\n",
        "            pred_over[line,item] = 1\n",
        "        else:\n",
        "            pred_over[line,item] = 0\n",
        "s_totals_mat = confusion_matrix(y_test.astype(int).ravel(), pred_over.astype(int).ravel())\n",
        "plot_conf_mat(s_totals_mat)"
      ],
      "execution_count": 165,
      "outputs": [
        {
          "output_type": "stream",
          "text": [
            "--------------------------------------------------\n",
            "TN: 114474\t FP: 1122 \n",
            "FN: 1812\t TP: 2592\n",
            "The sensitivity/recall is: 58.86%\n",
            "The specificity is: 99.03%\n",
            "The precision is: 69.79%\n",
            "--------------------------------------------------\n"
          ],
          "name": "stdout"
        },
        {
          "output_type": "display_data",
          "data": {
            "image/png": "[encoded data removed]",
            "text/plain": [
              "<Figure size 432x288 with 2 Axes>"
            ]
          },
          "metadata": {
            "tags": [],
            "needs_background": "light"
          }
        }
      ]
    },
    {
      "cell_type": "code",
      "metadata": {
        "id": "MTizj9jHzJa0",
        "colab_type": "code",
        "colab": {
          "base_uri": "https://localhost:8080/",
          "height": 295
        },
        "outputId": "0f5f40d7-59a0-4d81-ba46-63f0f6c93a8d"
      },
      "source": [
        "\n",
        "plt.plot(stuttHistory.history['auc_2'])\n",
        "plt.plot(stuttHistory.history['val_auc_2'])\n",
        "plt.xlabel('epoch')\n",
        "plt.title(\"Normal dataset\")\n",
        "plt.legend(['AUC', 'Val_AUC'])\n",
        "plt.show()"
      ],
      "execution_count": 62,
      "outputs": [
        {
          "output_type": "display_data",
          "data": {
            "image/png": "[encoded data removed]",
            "text/plain": [
              "<Figure size 432x288 with 1 Axes>"
            ]
          },
          "metadata": {
            "tags": [],
            "needs_background": "light"
          }
        }
      ]
    },
    {
      "cell_type": "code",
      "metadata": {
        "id": "SEwFrCXcURtY",
        "colab_type": "code",
        "colab": {
          "base_uri": "https://localhost:8080/",
          "height": 295
        },
        "outputId": "54a48c00-bff2-4356-9140-476b7d4c8eca"
      },
      "source": [
        "plt.plot(stuttHistory.history['loss'])\n",
        "plt.plot(stuttHistory.history['val_loss'])\n",
        "plt.xlabel('epoch')\n",
        "plt.title(\"Normal dataset\")\n",
        "plt.legend(['loss', 'Val_loss'])\n",
        "plt.show()"
      ],
      "execution_count": 63,
      "outputs": [
        {
          "output_type": "display_data",
          "data": {
            "image/png": "[encoded data removed]",
            "text/plain": [
              "<Figure size 432x288 with 1 Axes>"
            ]
          },
          "metadata": {
            "tags": [],
            "needs_background": "light"
          }
        }
      ]
    },
    {
      "cell_type": "code",
      "metadata": {
        "id": "OYDbQTBaUiCC",
        "colab_type": "code",
        "colab": {
          "base_uri": "https://localhost:8080/",
          "height": 295
        },
        "outputId": "dd32f1d3-9673-48b9-b8a5-7a1cca5e2af1"
      },
      "source": [
        "(plot_roc_curve(y_test, y_scores-1, show_all_classes = False, model_name = 'Normal Dataset trained RNN'))"
      ],
      "execution_count": 64,
      "outputs": [
        {
          "output_type": "display_data",
          "data": {
            "image/png": "[encoded data removed]",
            "text/plain": [
              "<Figure size 432x288 with 1 Axes>"
            ]
          },
          "metadata": {
            "tags": [],
            "needs_background": "light"
          }
        }
      ]
    },
    {
      "cell_type": "markdown",
      "metadata": {
        "id": "8hKWpull1ab5",
        "colab_type": "text"
      },
      "source": [
        "## Oversampled training starts"
      ]
    },
    {
      "cell_type": "code",
      "metadata": {
        "id": "klAHDccX1Og9",
        "colab_type": "code",
        "colab": {
          "base_uri": "https://localhost:8080/",
          "height": 119
        },
        "outputId": "01c8077c-6a2d-48b4-8718-e5cd7a92245b"
      },
      "source": [
        "# Oversampled\n",
        "df = Oversample(classes,train_data)\n",
        "upsampled_x_train = df['comment_text'].to_numpy()\n",
        "upsampled_y_train = df[classes].to_numpy()\n",
        "\n",
        "upsampled_x_train, upsampled_y_train = getrandomSubset(upsampled_x_train,upsampled_y_train,datasetsize)\n",
        "\n",
        "#Create train set from upsampled data and test set from original data\n",
        "X_train, X_test = upsampled_x_train[0:int(datasetsize*0.8)], original_X_testData[0:int(datasetsize*0.2)]\n",
        "y_train, y_test = upsampled_y_train[0:int(datasetsize*0.8)], original_Y_testData[0:int(datasetsize*0.2)]\n",
        "\n",
        "assert len(X_train) == len(y_train)\n",
        "\n",
        "\n",
        "\n",
        "print('=================')\n",
        "print('|','train_data shape:', X_train.shape)\n",
        "print('|',X_train.shape[0], 'train samples')\n",
        "print('|',y_test.shape[0], 'test samples')\n",
        "print('=================')\n",
        "\n",
        "max_words = 1000 # <- spurning um hvað þetta eigi að vera\n",
        "\n",
        "tokenizer = text.Tokenizer(num_words=max_words)\n",
        "num_classes = 6\n",
        "\n",
        "tokenizer.fit_on_texts(list(X_train))\n",
        "tokTrain = tokenizer.texts_to_sequences(X_train)\n",
        "tokTest = tokenizer.texts_to_sequences(X_test)\n",
        "\n",
        "x_train=sequence.pad_sequences(tokTrain, maxlen=256)\n",
        "x_test=sequence.pad_sequences(tokTest, maxlen=256)\n",
        "\n",
        "inp = Input(shape=(256,))\n",
        "\n",
        "model = getModel()"
      ],
      "execution_count": 168,
      "outputs": [
        {
          "output_type": "stream",
          "text": [
            "=================\n",
            "| train_data shape: (80000,)\n",
            "| 80000 train samples\n",
            "| 20000 test samples\n",
            "=================\n",
            "WARNING:tensorflow:Layer gru_12 will not use cuDNN kernel since it doesn't meet the cuDNN kernel criteria. It will use generic GPU kernel as fallback when running on GPU\n"
          ],
          "name": "stdout"
        }
      ]
    },
    {
      "cell_type": "code",
      "metadata": {
        "id": "wMBGTDCr1mWX",
        "colab_type": "code",
        "colab": {
          "base_uri": "https://localhost:8080/",
          "height": 238
        },
        "outputId": "d1e83fa4-e462-41dd-9cfb-2a2f02cf767c"
      },
      "source": [
        "batch_size = 128\n",
        "epochs = 6\n",
        "overHistory = model.fit(x_train, y_train, batch_size=batch_size, epochs=epochs, verbose = 1,validation_split=0.2)\n",
        "overScore = model.evaluate(x_test, y_test, batch_size=batch_size, verbose=1)\n",
        "\n"
      ],
      "execution_count": 169,
      "outputs": [
        {
          "output_type": "stream",
          "text": [
            "Train on 64000 samples, validate on 16000 samples\n",
            "Epoch 1/6\n",
            "64000/64000 [==============================] - 156s 2ms/sample - loss: 0.3380 - auc_12: 0.9164 - val_loss: 0.1973 - val_auc_12: 0.9728\n",
            "Epoch 2/6\n",
            "64000/64000 [==============================] - 155s 2ms/sample - loss: 0.1902 - auc_12: 0.9742 - val_loss: 0.1721 - val_auc_12: 0.9794\n",
            "Epoch 3/6\n",
            "64000/64000 [==============================] - 154s 2ms/sample - loss: 0.1692 - auc_12: 0.9797 - val_loss: 0.1597 - val_auc_12: 0.9821\n",
            "Epoch 4/6\n",
            "64000/64000 [==============================] - 155s 2ms/sample - loss: 0.1529 - auc_12: 0.9833 - val_loss: 0.1399 - val_auc_12: 0.9859\n",
            "Epoch 5/6\n",
            "64000/64000 [==============================] - 154s 2ms/sample - loss: 0.1367 - auc_12: 0.9864 - val_loss: 0.1283 - val_auc_12: 0.9883\n",
            "Epoch 6/6\n",
            "64000/64000 [==============================] - 154s 2ms/sample - loss: 0.1206 - auc_12: 0.9891 - val_loss: 0.1154 - val_auc_12: 0.9901\n"
          ],
          "name": "stdout"
        }
      ]
    },
    {
      "cell_type": "code",
      "metadata": {
        "id": "coVZ1kRKXVdk",
        "colab_type": "code",
        "colab": {
          "base_uri": "https://localhost:8080/",
          "height": 398
        },
        "outputId": "7e94281b-950a-4c17-cc2e-28ec6f115823"
      },
      "source": [
        "y_scores = model.predict(x_test,batch_size=128, verbose=1)\n",
        "pred_n=np.zeros(y_scores.shape)\n",
        "for line in range(y_scores.shape[0]):\n",
        "    for item in range(y_scores.shape[1]):\n",
        "        if y_scores[line,item] > 0.5:\n",
        "            pred_n[line,item] = 1\n",
        "        else:\n",
        "            pred_n[line,item] = 0\n",
        "s_totals_mat = confusion_matrix(y_test.astype(int).ravel(), pred.astype(int).ravel())\n",
        "plot_conf_mat(s_totals_mat)"
      ],
      "execution_count": 170,
      "outputs": [
        {
          "output_type": "stream",
          "text": [
            "--------------------------------------------------\n",
            "TN: 112821\t FP: 2664 \n",
            "FN: 1315\t TP: 3200\n",
            "The sensitivity/recall is: 70.87%\n",
            "The specificity is: 97.69%\n",
            "The precision is: 54.57%\n",
            "--------------------------------------------------\n"
          ],
          "name": "stdout"
        },
        {
          "output_type": "display_data",
          "data": {
            "image/png": "[encoded data removed]",
            "text/plain": [
              "<Figure size 432x288 with 2 Axes>"
            ]
          },
          "metadata": {
            "tags": [],
            "needs_background": "light"
          }
        }
      ]
    },
    {
      "cell_type": "code",
      "metadata": {
        "id": "jiQ-nqUEMRkp",
        "colab_type": "code",
        "colab": {
          "base_uri": "https://localhost:8080/",
          "height": 272
        },
        "outputId": "e96c0467-9117-40c3-d7c3-c2bcde16083b"
      },
      "source": [
        "print(classification_report(y_test.astype(int), pred_n.astype(int), target_names=classes))\n",
        "calc_precision_recall(y_test, y_scores, average_param = \"micro\", y_pred_ = pred_n )"
      ],
      "execution_count": 174,
      "outputs": [
        {
          "output_type": "stream",
          "text": [
            "               precision    recall  f1-score   support\n",
            "\n",
            "        toxic       0.80      0.58      0.67      1947\n",
            " severe_toxic       0.48      0.41      0.45       222\n",
            "      obscene       0.78      0.73      0.75      1077\n",
            "       threat       0.39      0.24      0.30        67\n",
            "       insult       0.63      0.72      0.67      1021\n",
            "identity_hate       0.12      0.98      0.22       181\n",
            "\n",
            "    micro avg       0.56      0.65      0.60      4515\n",
            "    macro avg       0.53      0.61      0.51      4515\n",
            " weighted avg       0.71      0.65      0.66      4515\n",
            "  samples avg       0.04      0.05      0.04      4515\n",
            "\n",
            "F1 score: 0.601, AUC score: 0.952\n"
          ],
          "name": "stdout"
        }
      ]
    },
    {
      "cell_type": "code",
      "metadata": {
        "id": "TRTo6W5sGs4M",
        "colab_type": "code",
        "colab": {
          "base_uri": "https://localhost:8080/",
          "height": 295
        },
        "outputId": "2c5a8906-ab38-401f-ea40-7c519cbe8f91"
      },
      "source": [
        "plt.plot(overHistory.history['auc_4'])\n",
        "plt.plot(overHistory.history['val_auc_4'])\n",
        "plt.xlabel('epoch')\n",
        "plt.title(\"Oversampled dataset\")\n",
        "plt.legend(['AUC', 'Val_AUC'])\n",
        "plt.show()"
      ],
      "execution_count": 75,
      "outputs": [
        {
          "output_type": "display_data",
          "data": {
            "image/png": "[encoded data removed]",
            "text/plain": [
              "<Figure size 432x288 with 1 Axes>"
            ]
          },
          "metadata": {
            "tags": [],
            "needs_background": "light"
          }
        }
      ]
    },
    {
      "cell_type": "code",
      "metadata": {
        "id": "pj_91Cruj3Fq",
        "colab_type": "code",
        "colab": {
          "base_uri": "https://localhost:8080/",
          "height": 295
        },
        "outputId": "670ff08f-1e86-4b30-f9e4-185ce882e604"
      },
      "source": [
        "plt.plot(overHistory.history['loss'])\n",
        "plt.plot(overHistory.history['val_loss'])\n",
        "plt.xlabel('epoch')\n",
        "plt.title(\"Oversampled dataset\")\n",
        "plt.legend(['loss', 'val_loss'])\n",
        "plt.show()"
      ],
      "execution_count": 76,
      "outputs": [
        {
          "output_type": "display_data",
          "data": {
            "image/png": "[encoded data removed]",
            "text/plain": [
              "<Figure size 432x288 with 1 Axes>"
            ]
          },
          "metadata": {
            "tags": [],
            "needs_background": "light"
          }
        }
      ]
    },
    {
      "cell_type": "code",
      "metadata": {
        "id": "5Ys0nkPgeGe6",
        "colab_type": "code",
        "colab": {
          "base_uri": "https://localhost:8080/",
          "height": 295
        },
        "outputId": "5d6b0bd6-aef3-45d6-cf4a-38cedcf19470"
      },
      "source": [
        "(plot_roc_curve(y_test, y_scores-1, show_all_classes = False, model_name = 'Oversampled Dataset trained RNN'))"
      ],
      "execution_count": 78,
      "outputs": [
        {
          "output_type": "display_data",
          "data": {
            "image/png": "[encoded data removed]",
            "text/plain": [
              "<Figure size 432x288 with 1 Axes>"
            ]
          },
          "metadata": {
            "tags": [],
            "needs_background": "light"
          }
        }
      ]
    },
    {
      "cell_type": "code",
      "metadata": {
        "id": "ee36hsA7caGb",
        "colab_type": "code",
        "colab": {
          "base_uri": "https://localhost:8080/",
          "height": 51
        },
        "outputId": "36ca35be-c9eb-4b78-e5ee-45b65578257b"
      },
      "source": [
        "testItems = [\"I read a whole article about bike racing on Wikipedia\", \"My good friend, who is a muslim, has a black cat that\"]\n",
        "for item in testItems:\n",
        "  tTest = tokenizer.texts_to_sequences([item])\n",
        "  test_sentence = sequence.pad_sequences(tTest, maxlen=256)\n",
        "  y_s = model.predict(test_sentence, verbose=1)\n",
        "  pred_Test = np.where(y_s>0.5,1,0)\n",
        "  print(pred_Test)"
      ],
      "execution_count": 191,
      "outputs": [
        {
          "output_type": "stream",
          "text": [
            "[[0 0 0 0 0 0]]\n",
            "[[1 0 1 0 1 1]]\n"
          ],
          "name": "stdout"
        }
      ]
    },
    {
      "cell_type": "code",
      "metadata": {
        "id": "7-1U4ZLSgQZy",
        "colab_type": "code",
        "colab": {
          "base_uri": "https://localhost:8080/",
          "height": 34
        },
        "outputId": "0035f888-20ad-49f3-dd44-79e88d7221d9"
      },
      "source": [
        "print(classes[0],\n",
        "classes[2],\n",
        "classes[4],\n",
        "classes[5])"
      ],
      "execution_count": 190,
      "outputs": [
        {
          "output_type": "stream",
          "text": [
            "toxic obscene insult identity_hate\n"
          ],
          "name": "stdout"
        }
      ]
    },
    {
      "cell_type": "code",
      "metadata": {
        "id": "S8G5SBbl8khi",
        "colab_type": "code",
        "colab": {}
      },
      "source": [
        "def plot_roc_curve(y_true_, y_score_, n_classes = 6, show_all_classes = False, model_name = ''):\n",
        "    # Compute ROC curve and ROC area for each class\n",
        "    fpr = dict()\n",
        "    tpr = dict()\n",
        "    roc_auc = dict()\n",
        "    for i in range(n_classes):\n",
        "        fpr[i], tpr[i], _ = roc_curve(y_true_[:, i], y_score_[:, i])\n",
        "        roc_auc[i] = auc(fpr[i], tpr[i])\n",
        "\n",
        "    # Compute micro-average ROC curve and ROC area\n",
        "    fpr[\"micro\"], tpr[\"micro\"], _ = roc_curve(y_true_.ravel(), y_score_.ravel())\n",
        "    roc_auc[\"micro\"] = auc(fpr[\"micro\"], tpr[\"micro\"])\n",
        "\n",
        "        # First aggregate all false positive rates\n",
        "    all_fpr = np.unique(np.concatenate([fpr[i] for i in range(n_classes)]))\n",
        "\n",
        "    # Then interpolate all ROC curves at this points\n",
        "    mean_tpr = np.zeros_like(all_fpr)\n",
        "    for i in range(n_classes):\n",
        "        mean_tpr += interp(all_fpr, fpr[i], tpr[i])\n",
        "\n",
        "    # Finally average it and compute AUC\n",
        "    mean_tpr /= n_classes\n",
        "\n",
        "    fpr[\"macro\"] = all_fpr\n",
        "    tpr[\"macro\"] = mean_tpr\n",
        "    roc_auc[\"macro\"] = auc(fpr[\"macro\"], tpr[\"macro\"])\n",
        "\n",
        "    # Plot all ROC curves\n",
        "    plt.figure()\n",
        "    plt.plot(fpr[\"micro\"], tpr[\"micro\"],\n",
        "             label='micro-average ROC curve (area = {0:0.2f})'\n",
        "                   ''.format(roc_auc[\"micro\"]),\n",
        "             color='deeppink', linestyle=':', linewidth=4)\n",
        "\n",
        "    plt.plot(fpr[\"macro\"], tpr[\"macro\"],\n",
        "             label='macro-average ROC curve (area = {0:0.2f})'\n",
        "                   ''.format(roc_auc[\"macro\"]),\n",
        "             color='navy', linestyle=':', linewidth=4)\n",
        "    if(show_all_classes):\n",
        "        colors = cycle(['aqua', 'darkorange', 'cornflowerblue', 'crimson', 'indigo', 'limegreen'])\n",
        "        for i, color in zip(range(n_classes), colors):\n",
        "            plt.plot(fpr[i], tpr[i], color=color, lw=1,\n",
        "                     label='ROC curve of {} (area = {:0.2f})'\n",
        "                     ''.format(cols[i+1], roc_auc[i]))\n",
        "    plt.grid(None) \n",
        "    plt.plot([0, 1], [0, 1], 'k--', lw=1)\n",
        "    plt.xlim([0.0, 1.0])\n",
        "    plt.ylim([0.0, 1.05])\n",
        "    plt.xlabel('False Positive Rate')\n",
        "    plt.ylabel('True Positive Rate')\n",
        "    plt.title('ROC curve of {} model'.format(model_name))\n",
        "    plt.legend(loc='center left', bbox_to_anchor=(1, 0.5))\n",
        "    plt.show()"
      ],
      "execution_count": 0,
      "outputs": []
    },
    {
      "cell_type": "markdown",
      "metadata": {
        "id": "ZtRVTYajWFvg",
        "colab_type": "text"
      },
      "source": [
        "## Get Model"
      ]
    },
    {
      "cell_type": "code",
      "metadata": {
        "id": "bJSyNGE4WEjl",
        "colab_type": "code",
        "colab": {}
      },
      "source": [
        "def getModel():\n",
        "  stuttModel = Sequential()\n",
        "  stuttModel = Embedding(max_words, 333)(inp) # 333 meðaltal athugasemda lengda \n",
        "#Embedded útskýring:\n",
        "  #Turns positive integers (indexes) into dense vectors of fixed size.\n",
        "######\n",
        "\n",
        "#####\n",
        "  stuttModel = GRU(128)(stuttModel)\n",
        "\n",
        "  stuttModel = Dense(64, activation=\"relu\")(stuttModel)\n",
        "  stuttModel = Dense(num_classes, activation=\"sigmoid\")(stuttModel)\n",
        "  stuttModel = Model(inputs=inp, outputs=stuttModel)\n",
        "  stuttModel.compile(loss='binary_crossentropy', optimizer=Adadelta(), metrics=[tf.keras.metrics.AUC()])\n",
        "  return stuttModel"
      ],
      "execution_count": 0,
      "outputs": []
    },
    {
      "cell_type": "code",
      "metadata": {
        "id": "vHFpe9JN6L3s",
        "colab_type": "code",
        "colab": {
          "base_uri": "https://localhost:8080/",
          "height": 85
        },
        "outputId": "5e9596bc-4bad-46f6-f345-5e03f49dc17c"
      },
      "source": [
        "print('macro')\n",
        "calc_precision_recall(y_test,y_scores,'macro',pred)\n",
        "\n",
        "print('micro')\n",
        "calc_precision_recall(y_test,y_scores,'micro',pred)"
      ],
      "execution_count": 150,
      "outputs": [
        {
          "output_type": "stream",
          "text": [
            "macro\n",
            "F1 score: 0.530, AUC score: 0.951\n",
            "micro\n",
            "F1 score: 0.617, AUC score: 0.959\n"
          ],
          "name": "stdout"
        }
      ]
    },
    {
      "cell_type": "code",
      "metadata": {
        "id": "1mod0q1K6JM_",
        "colab_type": "code",
        "colab": {}
      },
      "source": [
        "def calc_precision_recall(y_true, y_scores, average_param = \"micro\", y_pred_ = None ):\n",
        "    # Dæmi um notkun calc_precision_recall(y_test_np, y_scores, y_pred_ = y_test_pred)\n",
        "    # y_scores is the decision function \n",
        "    # For each class\n",
        "    # average_param has to be one of (None, 'micro', 'macro', 'weighted', 'samples')\n",
        "    # micro = Calculate metrics globally by considering each element of the label indicator matrix as a label\n",
        "    # macro = reiknar average_precision_score fyrir hvern label (hér: toxic...) og tekur óvigtað meðaltal\n",
        "    # Ættum helst að nota micro held ég\n",
        "    # y_scores er decision function sem segir hvoru megin (og hve langt frá) við aðskilnaðarplanið sem \n",
        "    # classfierinn býr til\n",
        "    # no_skill baseline classifier giskar randomly\n",
        "    # betra að nota random gisk hérna því all-zero gisk gefur 0 precision\n",
        "    if y_pred_ is not None:\n",
        "        # calculate F1 score\n",
        "        f1 = f1_score(y_true, y_pred_, average = average_param)\n",
        "        auc = roc_auc_score(y_true, y_scores, average = average_param)\n",
        "        print(\"F1 score: {:.3f}, AUC score: {:.3f}\".format(f1, auc))\n",
        "        \n",
        "    r_model = np.random.randint(2, size=len(y_true.ravel()))\n",
        "    no_skill = precision_recall_curve(y_true.ravel(), r_model)\n",
        "    \n",
        "    precision = dict()\n",
        "    recall = dict()\n",
        "    average_precision = dict()\n",
        "\n",
        "    # A \"micro-average\": quantifying score on all classes jointly\n",
        "    precision[average_param], recall[average_param], _ = precision_recall_curve(y_true.ravel(),\n",
        "        y_scores.ravel())\n",
        "    average_precision[average_param] = average_precision_score(y_true, y_scores,\n",
        "                                                         average=average_param)\n",
        "    \n",
        "    # plot_precision_recall(recall, precision, average_param, average_precision, no_skill)"
      ],
      "execution_count": 0,
      "outputs": []
    },
    {
      "cell_type": "code",
      "metadata": {
        "id": "8Z-7QCxSptI_",
        "colab_type": "code",
        "colab": {}
      },
      "source": [
        ""
      ],
      "execution_count": 0,
      "outputs": []
    }
  ]
}